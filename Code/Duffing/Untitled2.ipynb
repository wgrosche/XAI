{
 "cells": [
  {
   "cell_type": "code",
   "execution_count": null,
   "id": "e6a68666",
   "metadata": {},
   "outputs": [],
   "source": [
    "def shap_aggregation(x, model):\n",
    "    \n",
    "    x.values\n",
    "    x.data\n",
    "    x.base_values\n",
    "    aggregate = np.empty((len(x.values), 3, 2))\n",
    "    pred_values = model.predict(x.data)\n",
    "    \n",
    "    for i in range(len(x.values)):\n",
    "        x_t_attribution = (np.ones_like(x.values[i][:,0])*x.base_value[i][0] + x.values[i][:,0])/pred_values[i,0]\n",
    "        v_t_attribution = (np.ones_like(x.values[i][:,1])*x.base_value[i][1] + x.values[i][:,0])/pred_values[i,1]\n",
    "        aggregate[i,:,:] = np.hstack((x_t_attribution.reshape((3,1)), v_t_attribution.reshape((3,1))))\n",
    "    return aggregate\n",
    "\n",
    "\n",
    "def heatmap(x, model):\n",
    "    x.values\n",
    "    x.data\n",
    "    x.base_values\n",
    "    \n",
    "    model.predict\n",
    "    \n",
    "    \n",
    "    return heatmap #array [x0, v0, importance_x0, importance_v0, importance_t] "
   ]
  }
 ],
 "metadata": {
  "kernelspec": {
   "display_name": "Python 3",
   "language": "python",
   "name": "python3"
  },
  "language_info": {
   "codemirror_mode": {
    "name": "ipython",
    "version": 3
   },
   "file_extension": ".py",
   "mimetype": "text/x-python",
   "name": "python",
   "nbconvert_exporter": "python",
   "pygments_lexer": "ipython3",
   "version": "3.8.10"
  }
 },
 "nbformat": 4,
 "nbformat_minor": 5
}
