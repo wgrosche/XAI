{
 "cells": [
  {
   "cell_type": "code",
   "execution_count": 4,
   "id": "b115ba4e",
   "metadata": {},
   "outputs": [],
   "source": [
    "# General Libraries\n",
    "import numpy as np\n",
    "import pandas as pd\n",
    "import os\n",
    "from tqdm import tqdm\n",
    "\n",
    "# True Model\n",
    "from scipy.integrate import odeint\n",
    "from scipy.fft import fft\n",
    "\n",
    "# Data Preprocessing\n",
    "from sklearn.preprocessing import StandardScaler\n",
    "from sklearn.preprocessing import MinMaxScaler\n",
    "\n",
    "# Plotting Libraries\n",
    "import matplotlib.pylab as plt\n",
    "import seaborn as sns\n",
    "\n",
    "\n",
    "# My Modules\n",
    "import shap as shap\n",
    "  \n",
    "# Set Seaborn Theme\n",
    "sns.set_theme(context='notebook', style='darkgrid', palette='deep', font='sans-serif', font_scale=1, color_codes=True, rc=None)"
   ]
  },
  {
   "cell_type": "code",
   "execution_count": 2,
   "id": "78a33c67",
   "metadata": {},
   "outputs": [],
   "source": [
    "def eom(u, t, params = {}):\n",
    "    \"\"\"\n",
    "        Duffing Oscillator Equation of Motion\n",
    "\n",
    "        ddx + delta * dx**2 + alpha * x + beta * x**3 = gamma * cos(omega * t)\n",
    "\n",
    "        Input\n",
    "        ----------\n",
    "        u : vector of length 2, (x,v)\n",
    "            Position and Velocity at time t\n",
    "        t : float, the time t\n",
    "\n",
    "        Parameters\n",
    "        ----------\n",
    "        alpha : float, linear stiffness\n",
    "        beta  : float, non linearity in the restoring force\n",
    "        gamma : float, amplitude of the periodic driving force\n",
    "        delta : float, amount of damping\n",
    "        omega : float, angular frequency of the periodic driving force\n",
    "\n",
    "        Returns\n",
    "        ----------\n",
    "        [dx,ddx] : Tuple, Time derivatives of \n",
    "                    position and velocity at time t\n",
    "\n",
    "    \"\"\"\n",
    "    x, dx = u[0], u[1]\n",
    "    ddx = (params['gamma'] * np.cos(params['omega'] * t) - \n",
    "           (params['delta'] * dx + params['alpha'] * x + params['beta'] * x**3))\n",
    "\n",
    "    return [dx,ddx]"
   ]
  },
  {
   "cell_type": "code",
   "execution_count": 89,
   "id": "b563bc7c",
   "metadata": {},
   "outputs": [],
   "source": [
    "def generate(num_samples = int(5e1), delay=0, samples=100, end_time=30):\n",
    "        \"\"\"\n",
    "            Generates training samples using scipy.integrate.odeint\n",
    "            to calculate the temporal evolution of a Duffing system.\n",
    "    \n",
    "            Samples randomly from x0 in [-2,2], v0 in [-1,1].\n",
    "    \n",
    "            For each set of initial conditions we generate a trajectory.\n",
    "            The trajectory is randomly sampled to generate training\n",
    "            pairs: X = (x0,v0,t), y = (xt,vt)\n",
    "    \n",
    "            Input\n",
    "            ----------\n",
    "            num_samples : int, number of training\n",
    "                            samples to be generated\n",
    "    \n",
    "            Returns\n",
    "            ----------\n",
    "            X : array((num_samples,3)), each entry in the array\n",
    "                is a training sample (x0,v0,t)\n",
    "            y : array((num_samples,2)), each entry in the array\n",
    "                is a target sample (xt,vt)\n",
    "        \"\"\"\n",
    "        parameters = {\n",
    "                      'alpha': [np.linspace(-1,-1,1)],\n",
    "                      'beta': [np.linspace(1,1,1)],\n",
    "                      'gamma': [np.linspace(0.37,0.37,1)],\n",
    "                      'delta': [np.linspace(0.3,0.3,1)],\n",
    "                      'omega': [np.linspace(1.2,1.2,1)]\n",
    "                     }\n",
    "        #Define bounds of the sampling\n",
    "        x_min = 0.9#-2\n",
    "        x_max = 1.1#2\n",
    "        v_min = -0.1#-2\n",
    "        v_max = 0.1#2\n",
    "        #Initialise the output arrays\n",
    "        parameter_length = 1\n",
    "        labels = ['xt','vt']\n",
    "        for key in parameters:\n",
    "            parameter_length  *= len(parameters[key][0])\n",
    "        complete_feature_vec = ['x0','v0','t','rand']\n",
    "        for k in parameters:\n",
    "            complete_feature_vec.append(k)  \n",
    "        X = np.empty((num_samples*parameter_length*samples, (len(complete_feature_vec))))\n",
    "        y = np.empty((num_samples*parameter_length*samples, len(labels)))\n",
    "        #Define the t_range to draw from\n",
    "        t_range = np.linspace(0, end_time, 100, endpoint=False)\n",
    "        t_vals = [int(100/samples*i) for i in range(samples)]\n",
    "        #Generate num_samples samples\n",
    "        ticker = 0\n",
    "        for alpha in parameters['alpha'][0]:\n",
    "            for beta in parameters['beta'][0]:\n",
    "                for gamma in parameters['gamma'][0]:\n",
    "                    for delta in parameters['delta'][0]:\n",
    "                        for omega in parameters['omega'][0]:\n",
    "                            current_params = {'alpha' : alpha,'beta' : beta, 'delta' : delta, \n",
    "                                                       'gamma' :gamma, 'omega' : omega}\n",
    "                            \n",
    "                             \n",
    "                            for i in tqdm(range(num_samples), desc=\"Generating Data…\", ascii=False, ncols=75):\n",
    "                                #Generate random starting positions\n",
    "                                x0 = (x_max - x_min) * np.random.random_sample() + x_min\n",
    "                                v0 = 0#(v_max - v_min) * np.random.random_sample() + v_min \n",
    "                                #Generate a trajectory\n",
    "                                func = lambda u,t: eom(u, t, params = current_params)\n",
    "                                trajectory = odeint(func, [x0,v0], t_range)\n",
    "                                for j, t_ind in enumerate(t_vals):\n",
    "                                    X[j+i*samples+ticker*num_samples*samples,:] = [x0, v0, t_range[t_ind], np.random.sample(), \n",
    "                                                                            alpha, beta, gamma, delta, omega]\n",
    "                                    y[j+i*samples+ticker*num_samples*samples,:] = trajectory[t_ind,:]\n",
    "                            ticker +=1        \n",
    "                                    \n",
    "                                    \n",
    "        \n",
    "        \n",
    "        X_df = pd.DataFrame(X, columns = complete_feature_vec)\n",
    "        y_df = pd.DataFrame(y, columns = labels)\n",
    "        return X_df, y_df"
   ]
  },
  {
   "cell_type": "code",
   "execution_count": 90,
   "id": "f40e9f4f",
   "metadata": {},
   "outputs": [
    {
     "name": "stderr",
     "output_type": "stream",
     "text": [
      "Generating Data…: 100%|█████████████| 10000/10000 [00:48<00:00, 205.98it/s]\n"
     ]
    }
   ],
   "source": [
    "X,y = generate(num_samples = int(1e4))"
   ]
  },
  {
   "cell_type": "code",
   "execution_count": 92,
   "id": "bab8927d",
   "metadata": {},
   "outputs": [
    {
     "data": {
      "image/png": "[encoded data removed]",
      "text/plain": [
       "<Figure size 432x288 with 1 Axes>"
      ]
     },
     "metadata": {},
     "output_type": "display_data"
    }
   ],
   "source": [
    "plt.plot(X['v0'], y['xt'], 'x')\n",
    "\n",
    "plt.title(\"X with t\")\n",
    "plt.xlabel('Time [ ]')\n",
    "plt.ylabel('X [ ]')\n",
    "\n",
    "plt.savefig(\"Images/parameter_config_fixed_start_v0_0_beta1,alphaminus1_v_xt.png\", dpi=400)"
   ]
  },
  {
   "cell_type": "code",
   "execution_count": null,
   "id": "1cd4c8c6",
   "metadata": {},
   "outputs": [],
   "source": []
  },
  {
   "cell_type": "code",
   "execution_count": null,
   "id": "b22c9e2a",
   "metadata": {},
   "outputs": [],
   "source": []
  }
 ],
 "metadata": {
  "kernelspec": {
   "display_name": "Python 3",
   "language": "python",
   "name": "python3"
  },
  "language_info": {
   "codemirror_mode": {
    "name": "ipython",
    "version": 3
   },
   "file_extension": ".py",
   "mimetype": "text/x-python",
   "name": "python",
   "nbconvert_exporter": "python",
   "pygments_lexer": "ipython3",
   "version": "3.8.10"
  }
 },
 "nbformat": 4,
 "nbformat_minor": 5
}
