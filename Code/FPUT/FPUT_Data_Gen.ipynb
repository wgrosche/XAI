{
 "cells": [
  {
   "cell_type": "markdown",
   "id": "transparent-oklahoma",
   "metadata": {},
   "source": [
    "Notebook to generate FPUT data for an ML Explainability simulation."
   ]
  },
  {
   "cell_type": "code",
   "execution_count": 2,
   "id": "offensive-steering",
   "metadata": {},
   "outputs": [],
   "source": [
    "import numpy as np\n",
    "from scipy.integrate import odeint\n",
    "import matplotlib.pylab as plt\n",
    "from tensorflow.keras.models import Sequential\n",
    "from tensorflow.keras import layers\n",
    "from tensorflow.keras.optimizers import RMSprop, Adam\n",
    "import tensorflow as tf\n",
    "import pandas as pd\n",
    "from tensorflow.keras.utils import Sequence\n",
    "from sklearn.model_selection import train_test_split"
   ]
  },
  {
   "cell_type": "code",
   "execution_count": null,
   "id": "nutritional-mumbai",
   "metadata": {},
   "outputs": [],
   "source": [
    "def eom():\n",
    "    \n",
    "    \n",
    "    for i in range(num_masses):\n",
    "        "
   ]
  },
  {
   "cell_type": "code",
   "execution_count": null,
   "id": "acting-health",
   "metadata": {},
   "outputs": [],
   "source": [
    "class FPUTGenerator():\n",
    "    def __init__(self, num_masses = 20):\n",
    "        self.ddr = np.empty((num_masses, ))\n",
    "        self.dr = np.array()\n",
    "        self.r = np.array()\n",
    "        self.num_masses = num_masses\n",
    "        self.default_spring_length = 1\n",
    "    def gen_start():\n",
    "        self.x0 = np.random.uniform(-self.default_spring_length, self.default_spring_length, self.num_masses)\n",
    "        self.v0 = np.random.uniform(-self.default_spring_length, self.default_spring_length, self.num_masses)\n",
    "        \n",
    "    def N(self, j, r):\n",
    "        if j%2:\n",
    "            return 0 \n",
    "        else:\n",
    "            return 0\n",
    "\n",
    "    def eom(u, t):\n",
    "        ## coefficients:\n",
    "        r, dr = u\n",
    "        #lets say we have 20 masses\n",
    "        \n",
    "        for j in range(self.num_masses):\n",
    "        ##eom\n",
    "            k1 = -2*(self.kappa*r[2*j+1] + self.beta * r[2*j+1]**2 + r[2*j+1]**3*self.N(1, r[2*j+1]))\n",
    "            k2 = (r[2*j+2] + r[2*j+2]**2 + r[2*j+2]**3*self.N(2, r[2*j+2]))\n",
    "            k3 = (r[2*j] + r[2*j]**2 + r[2*j]**3*self.N(2, r[2*j]))\n",
    "            self.ddr[2*j+1] = k1 + k2 + k3\n",
    "        \n",
    "            l1 = -2*(r[2*j] + r[2*j]**2 + r[2*j]**3*self.N(2, r[2*j]))\n",
    "            l2 = (self.kappa*r[2*j+1] + self.beta*r[2*j+1]**2 + r[2*j+1]**3*self.N(1, r[2*j+1]))\n",
    "            l3 = (self.kappa*r[2*j-1] + self.beta*r[2*j-1]**2 + r[2*j-1]**3*self.N(1, r[2*j-1]))\n",
    "            self.ddr[2*j] = l1 + l2 + l3\n",
    "        \n",
    "        \n",
    "        return np.array([dr, ddr])\n",
    "        \n",
    "    def generate(self, t_end = 50, x0, v0):\n",
    "        trajectory = odeint(self.eom, [x0,v0], t_range)"
   ]
  },
  {
   "cell_type": "code",
   "execution_count": 10,
   "id": "functional-highland",
   "metadata": {},
   "outputs": [],
   "source": [
    "default_spring_length = 1\n",
    "\n",
    "def initial_conditions(num_masses):\n",
    "    x0 = np.random.uniform(-default_spring_length, default_spring_length, num_masses)\n",
    "    v0 = np.random.uniform(-default_spring_length, default_spring_length, num_masses)\n",
    "    \n",
    "    return x0,v0"
   ]
  },
  {
   "cell_type": "code",
   "execution_count": 11,
   "id": "selected-worker",
   "metadata": {},
   "outputs": [
    {
     "data": {
      "text/plain": [
       "(array([ 0.15099055,  0.94874394, -0.73527939,  0.41596275, -0.66238053,\n",
       "        -0.53091364,  0.45872778, -0.64884124,  0.23215599,  0.40113528]),\n",
       " array([ 0.82642145, -0.38395346, -0.28874934,  0.72590946, -0.97885697,\n",
       "        -0.21206349,  0.96166296,  0.57783464, -0.80397366, -0.69408744]))"
      ]
     },
     "execution_count": 11,
     "metadata": {},
     "output_type": "execute_result"
    }
   ],
   "source": [
    "initial_conditions(10)"
   ]
  },
  {
   "cell_type": "code",
   "execution_count": null,
   "id": "seasonal-alignment",
   "metadata": {},
   "outputs": [],
   "source": []
  }
 ],
 "metadata": {
  "kernelspec": {
   "display_name": "Python 3",
   "language": "python",
   "name": "python3"
  },
  "language_info": {
   "codemirror_mode": {
    "name": "ipython",
    "version": 3
   },
   "file_extension": ".py",
   "mimetype": "text/x-python",
   "name": "python",
   "nbconvert_exporter": "python",
   "pygments_lexer": "ipython3",
   "version": "3.8.8"
  }
 },
 "nbformat": 4,
 "nbformat_minor": 5
}
