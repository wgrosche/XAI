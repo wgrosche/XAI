{
 "cells": [
  {
   "cell_type": "markdown",
   "id": "hollow-acoustic",
   "metadata": {},
   "source": [
    "Notebook to generate FPUT data for an ML Explainability simulation."
   ]
  },
  {
   "cell_type": "code",
   "execution_count": 1,
   "id": "exciting-three",
   "metadata": {},
   "outputs": [],
   "source": [
    "import numpy as np\n",
    "from scipy.integrate import odeint\n",
    "import matplotlib.pylab as plt\n",
    "from tensorflow.keras.models import Sequential\n",
    "from tensorflow.keras import layers\n",
    "from tensorflow.keras.optimizers import RMSprop, Adam\n",
    "import tensorflow as tf\n",
    "import pandas as pd\n",
    "from tensorflow.keras.utils import Sequence\n",
    "from sklearn.model_selection import train_test_split"
   ]
  },
  {
   "cell_type": "code",
   "execution_count": null,
   "id": "statistical-harvest",
   "metadata": {},
   "outputs": [],
   "source": [
    "def eom():\n",
    "    \n",
    "    \n",
    "    for i in range(num_masses):\n",
    "        "
   ]
  },
  {
   "cell_type": "code",
   "execution_count": 15,
   "id": "toxic-growth",
   "metadata": {},
   "outputs": [],
   "source": [
    "class FPUTGenerator():\n",
    "    def __init__(self, num_masses = 20, num_steps=500):\n",
    "        self.ddr = np.empty((num_steps, num_masses))\n",
    "        self.dr = np.empty((num_steps, num_masses))\n",
    "        self.r = np.empty((num_steps, num_masses))\n",
    "        self.num_masses = num_masses\n",
    "        self.default_spring_length = 1\n",
    "    def gen_start(self):\n",
    "        self.x0 = np.random.uniform(-self.default_spring_length, self.default_spring_length, self.num_masses)\n",
    "        self.v0 = np.random.uniform(-self.default_spring_length, self.default_spring_length, self.num_masses)\n",
    "        \n",
    "    def N(self, j, r):\n",
    "        if j%2:\n",
    "            return 0 \n",
    "        else:\n",
    "            return 0\n",
    "\n",
    "    def eom(u, t):\n",
    "        ## coefficients:\n",
    "        r, dr = u\n",
    "        #lets say we have 20 masses\n",
    "        \n",
    "        for j in range(self.num_masses):\n",
    "        ##eom\n",
    "            k1 = -2*(self.kappa*r[2*j+1] + self.beta * r[2*j+1]**2 + r[2*j+1]**3*self.N(1, r[2*j+1]))\n",
    "            k2 = (r[2*j+2] + r[2*j+2]**2 + r[2*j+2]**3*self.N(2, r[2*j+2]))\n",
    "            k3 = (r[2*j] + r[2*j]**2 + r[2*j]**3*self.N(2, r[2*j]))\n",
    "            self.ddr[2*j+1] = k1 + k2 + k3\n",
    "        \n",
    "            l1 = -2*(r[2*j] + r[2*j]**2 + r[2*j]**3*self.N(2, r[2*j]))\n",
    "            l2 = (self.kappa*r[2*j+1] + self.beta*r[2*j+1]**2 + r[2*j+1]**3*self.N(1, r[2*j+1]))\n",
    "            l3 = (self.kappa*r[2*j-1] + self.beta*r[2*j-1]**2 + r[2*j-1]**3*self.N(1, r[2*j-1]))\n",
    "            self.ddr[2*j] = l1 + l2 + l3\n",
    "        \n",
    "        \n",
    "        return np.array([dr, ddr])\n",
    "        \n",
    "    def generate(self, t_end = 50):\n",
    "        t_range = np.linspace(0, t_end, 500, endpoint=False)\n",
    "        return odeint(self.eom, [self.x0,self.v0], t_range)"
   ]
  },
  {
   "cell_type": "code",
   "execution_count": 3,
   "id": "committed-helping",
   "metadata": {},
   "outputs": [],
   "source": [
    "default_spring_length = 1\n",
    "\n",
    "def initial_conditions(num_masses):\n",
    "    x0 = np.random.uniform(-default_spring_length, default_spring_length, num_masses)\n",
    "    v0 = np.random.uniform(-default_spring_length, default_spring_length, num_masses)\n",
    "    \n",
    "    return x0,v0"
   ]
  },
  {
   "cell_type": "code",
   "execution_count": 11,
   "id": "ceramic-parish",
   "metadata": {},
   "outputs": [
    {
     "data": {
      "text/plain": [
       "(array([ 0.15099055,  0.94874394, -0.73527939,  0.41596275, -0.66238053,\n",
       "        -0.53091364,  0.45872778, -0.64884124,  0.23215599,  0.40113528]),\n",
       " array([ 0.82642145, -0.38395346, -0.28874934,  0.72590946, -0.97885697,\n",
       "        -0.21206349,  0.96166296,  0.57783464, -0.80397366, -0.69408744]))"
      ]
     },
     "execution_count": 11,
     "metadata": {},
     "output_type": "execute_result"
    }
   ],
   "source": [
    "initial_conditions(10)"
   ]
  },
  {
   "cell_type": "code",
   "execution_count": 16,
   "id": "beneficial-lancaster",
   "metadata": {},
   "outputs": [],
   "source": [
    "gen = FPUTGenerator()"
   ]
  },
  {
   "cell_type": "code",
   "execution_count": 17,
   "id": "mechanical-clinic",
   "metadata": {},
   "outputs": [
    {
     "ename": "ValueError",
     "evalue": "Initial condition y0 must be one-dimensional.",
     "output_type": "error",
     "traceback": [
      "\u001b[1;31m---------------------------------------------------------------------------\u001b[0m",
      "\u001b[1;31mValueError\u001b[0m                                Traceback (most recent call last)",
      "\u001b[1;32m<ipython-input-17-73308d4adcde>\u001b[0m in \u001b[0;36m<module>\u001b[1;34m\u001b[0m\n\u001b[0;32m      1\u001b[0m \u001b[0mgen\u001b[0m\u001b[1;33m.\u001b[0m\u001b[0mgen_start\u001b[0m\u001b[1;33m(\u001b[0m\u001b[1;33m)\u001b[0m\u001b[1;33m\u001b[0m\u001b[1;33m\u001b[0m\u001b[0m\n\u001b[1;32m----> 2\u001b[1;33m \u001b[0mgen\u001b[0m\u001b[1;33m.\u001b[0m\u001b[0mgenerate\u001b[0m\u001b[1;33m(\u001b[0m\u001b[1;33m)\u001b[0m\u001b[1;33m\u001b[0m\u001b[1;33m\u001b[0m\u001b[0m\n\u001b[0m",
      "\u001b[1;32m<ipython-input-15-248d8f5f1b8b>\u001b[0m in \u001b[0;36mgenerate\u001b[1;34m(self, t_end)\u001b[0m\n\u001b[0;32m     38\u001b[0m     \u001b[1;32mdef\u001b[0m \u001b[0mgenerate\u001b[0m\u001b[1;33m(\u001b[0m\u001b[0mself\u001b[0m\u001b[1;33m,\u001b[0m \u001b[0mt_end\u001b[0m \u001b[1;33m=\u001b[0m \u001b[1;36m50\u001b[0m\u001b[1;33m)\u001b[0m\u001b[1;33m:\u001b[0m\u001b[1;33m\u001b[0m\u001b[1;33m\u001b[0m\u001b[0m\n\u001b[0;32m     39\u001b[0m         \u001b[0mt_range\u001b[0m \u001b[1;33m=\u001b[0m \u001b[0mnp\u001b[0m\u001b[1;33m.\u001b[0m\u001b[0mlinspace\u001b[0m\u001b[1;33m(\u001b[0m\u001b[1;36m0\u001b[0m\u001b[1;33m,\u001b[0m \u001b[0mt_end\u001b[0m\u001b[1;33m,\u001b[0m \u001b[1;36m500\u001b[0m\u001b[1;33m,\u001b[0m \u001b[0mendpoint\u001b[0m\u001b[1;33m=\u001b[0m\u001b[1;32mFalse\u001b[0m\u001b[1;33m)\u001b[0m\u001b[1;33m\u001b[0m\u001b[1;33m\u001b[0m\u001b[0m\n\u001b[1;32m---> 40\u001b[1;33m         \u001b[1;32mreturn\u001b[0m \u001b[0modeint\u001b[0m\u001b[1;33m(\u001b[0m\u001b[0mself\u001b[0m\u001b[1;33m.\u001b[0m\u001b[0meom\u001b[0m\u001b[1;33m,\u001b[0m \u001b[1;33m[\u001b[0m\u001b[0mself\u001b[0m\u001b[1;33m.\u001b[0m\u001b[0mx0\u001b[0m\u001b[1;33m,\u001b[0m\u001b[0mself\u001b[0m\u001b[1;33m.\u001b[0m\u001b[0mv0\u001b[0m\u001b[1;33m]\u001b[0m\u001b[1;33m,\u001b[0m \u001b[0mt_range\u001b[0m\u001b[1;33m)\u001b[0m\u001b[1;33m\u001b[0m\u001b[1;33m\u001b[0m\u001b[0m\n\u001b[0m",
      "\u001b[1;32mD:\\Anaconda\\envs\\Master_Thesis\\lib\\site-packages\\scipy\\integrate\\odepack.py\u001b[0m in \u001b[0;36modeint\u001b[1;34m(func, y0, t, args, Dfun, col_deriv, full_output, ml, mu, rtol, atol, tcrit, h0, hmax, hmin, ixpr, mxstep, mxhnil, mxordn, mxords, printmessg, tfirst)\u001b[0m\n\u001b[0;32m    239\u001b[0m     \u001b[0mt\u001b[0m \u001b[1;33m=\u001b[0m \u001b[0mcopy\u001b[0m\u001b[1;33m(\u001b[0m\u001b[0mt\u001b[0m\u001b[1;33m)\u001b[0m\u001b[1;33m\u001b[0m\u001b[1;33m\u001b[0m\u001b[0m\n\u001b[0;32m    240\u001b[0m     \u001b[0my0\u001b[0m \u001b[1;33m=\u001b[0m \u001b[0mcopy\u001b[0m\u001b[1;33m(\u001b[0m\u001b[0my0\u001b[0m\u001b[1;33m)\u001b[0m\u001b[1;33m\u001b[0m\u001b[1;33m\u001b[0m\u001b[0m\n\u001b[1;32m--> 241\u001b[1;33m     output = _odepack.odeint(func, y0, t, args, Dfun, col_deriv, ml, mu,\n\u001b[0m\u001b[0;32m    242\u001b[0m                              \u001b[0mfull_output\u001b[0m\u001b[1;33m,\u001b[0m \u001b[0mrtol\u001b[0m\u001b[1;33m,\u001b[0m \u001b[0matol\u001b[0m\u001b[1;33m,\u001b[0m \u001b[0mtcrit\u001b[0m\u001b[1;33m,\u001b[0m \u001b[0mh0\u001b[0m\u001b[1;33m,\u001b[0m \u001b[0mhmax\u001b[0m\u001b[1;33m,\u001b[0m \u001b[0mhmin\u001b[0m\u001b[1;33m,\u001b[0m\u001b[1;33m\u001b[0m\u001b[1;33m\u001b[0m\u001b[0m\n\u001b[0;32m    243\u001b[0m                              \u001b[0mixpr\u001b[0m\u001b[1;33m,\u001b[0m \u001b[0mmxstep\u001b[0m\u001b[1;33m,\u001b[0m \u001b[0mmxhnil\u001b[0m\u001b[1;33m,\u001b[0m \u001b[0mmxordn\u001b[0m\u001b[1;33m,\u001b[0m \u001b[0mmxords\u001b[0m\u001b[1;33m,\u001b[0m\u001b[1;33m\u001b[0m\u001b[1;33m\u001b[0m\u001b[0m\n",
      "\u001b[1;31mValueError\u001b[0m: Initial condition y0 must be one-dimensional."
     ]
    }
   ],
   "source": [
    "gen.gen_start()\n",
    "gen.generate()"
   ]
  },
  {
   "cell_type": "code",
   "execution_count": null,
   "id": "imposed-insertion",
   "metadata": {},
   "outputs": [],
   "source": []
  }
 ],
 "metadata": {
  "kernelspec": {
   "display_name": "Python 3",
   "language": "python",
   "name": "python3"
  },
  "language_info": {
   "codemirror_mode": {
    "name": "ipython",
    "version": 3
   },
   "file_extension": ".py",
   "mimetype": "text/x-python",
   "name": "python",
   "nbconvert_exporter": "python",
   "pygments_lexer": "ipython3",
   "version": "3.8.8"
  }
 },
 "nbformat": 4,
 "nbformat_minor": 5
}
