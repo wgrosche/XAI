{
 "cells": [
  {
   "cell_type": "code",
   "execution_count": 2,
   "id": "c38a7c51",
   "metadata": {},
   "outputs": [
    {
     "data": {
      "text/plain": [
       "0.37375519999999995"
      ]
     },
     "execution_count": 2,
     "metadata": {},
     "output_type": "execute_result"
    }
   ],
   "source": [
    "(7.61*56.9+(7.97+7.66)*55.1+(7.65+7.92+7.18)*49.4+(6.65+5.62)*46.9+5.28*42.5+(4.27+3.27+2.43)*40.1+1.57*34.7+(0.98+0.60+0.23)*36.1)/10000"
   ]
  },
  {
   "cell_type": "code",
   "execution_count": 3,
   "id": "caf86ebc",
   "metadata": {},
   "outputs": [
    {
     "data": {
      "text/plain": [
       "71.61"
      ]
     },
     "execution_count": 3,
     "metadata": {},
     "output_type": "execute_result"
    }
   ],
   "source": [
    "7.61+7.97+7.66+7.65+7.92+7.18+6.65+5.62+4.27+3.27+2.43+1.57+0.98+0.6+0.23"
   ]
  },
  {
   "cell_type": "code",
   "execution_count": 4,
   "id": "c6091f10",
   "metadata": {},
   "outputs": [
    {
     "data": {
      "text/plain": [
       "0.5219315738025415"
      ]
     },
     "execution_count": 4,
     "metadata": {},
     "output_type": "execute_result"
    }
   ],
   "source": [
    "0.37375519999999995/0.7161"
   ]
  },
  {
   "cell_type": "code",
   "execution_count": null,
   "id": "fe488b24",
   "metadata": {},
   "outputs": [],
   "source": []
  }
 ],
 "metadata": {
  "kernelspec": {
   "display_name": "Python 3",
   "language": "python",
   "name": "python3"
  },
  "language_info": {
   "codemirror_mode": {
    "name": "ipython",
    "version": 3
   },
   "file_extension": ".py",
   "mimetype": "text/x-python",
   "name": "python",
   "nbconvert_exporter": "python",
   "pygments_lexer": "ipython3",
   "version": "3.8.10"
  }
 },
 "nbformat": 4,
 "nbformat_minor": 5
}
