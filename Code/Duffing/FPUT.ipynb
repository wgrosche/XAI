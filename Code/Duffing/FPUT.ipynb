{
 "cells": [
  {
   "cell_type": "code",
   "execution_count": 8,
   "id": "authorized-bridges",
   "metadata": {},
   "outputs": [],
   "source": [
    "from generator_numba import DataGenerator\n",
    "import numpy as np"
   ]
  },
  {
   "cell_type": "code",
   "execution_count": 9,
   "id": "every-assault",
   "metadata": {},
   "outputs": [],
   "source": [
    "class FPUTGenerator(DataGenerator):\n",
    "    def __init__(self, num_masses = 20):\n",
    "        self.ddr = np.array()\n",
    "        self.dr = np.array()\n",
    "        self.r = np.array()\n",
    "        self.num_masses = num_masses\n",
    "        \n",
    "    def N(self, j, r):\n",
    "        if j%2:\n",
    "            return\n",
    "        else:\n",
    "            return\n",
    "\n",
    "    def eom(self, t, u):\n",
    "        ## coefficients:\n",
    "        r, dr = u\n",
    "        #lets say we have 20 masses\n",
    "        \n",
    "        for j in range(self.num_masses):\n",
    "        ##eom\n",
    "            k1 = -2*(self.kappa*r[2*j+1] + self.beta * r[2*j+1]**2 + r[2*j+1]**3*self.N(1, r[2*j+1]))\n",
    "            k2 = (r[2*j+2] + r[2*j+2]**2 + r[2*j+2]**3*self.N(2, r[2*j+2]))\n",
    "            k3 = (r[2*j] + r[2*j]**2 + r[2*j]**3*self.N(2, r[2*j]))\n",
    "            self.ddr[2*j+1] = k1 + k2 + k3\n",
    "        \n",
    "            l1 = -2*(r[2*j] + r[2*j]**2 + r[2*j]**3*self.N(2, r[2*j]))\n",
    "            l2 = (self.kappa*r[2*j+1] + self.beta*r[2*j+1]**2 + r[2*j+1]**3*self.N(1, r[2*j+1]))\n",
    "            l3 = (self.kappa*r[2*j-1] + self.beta*r[2*j-1]**2 + r[2*j-1]**3*self.N(1, r[2*j-1]))\n",
    "            self.ddr[2*j] = l1 + l2 + l3\n",
    "        \n",
    "        \n",
    "        return np.array([dr, ddr])\n",
    "        "
   ]
  },
  {
   "cell_type": "code",
   "execution_count": 10,
   "id": "colored-blair",
   "metadata": {},
   "outputs": [],
   "source": [
    "from scipy.integrate import ode"
   ]
  },
  {
   "cell_type": "code",
   "execution_count": 27,
   "id": "available-compact",
   "metadata": {},
   "outputs": [],
   "source": [
    "def N(j, r):\n",
    "    return np.sin(r)\n",
    "\n",
    "def eom(t, y):\n",
    "    print(y)\n",
    "    ## coefficients:\n",
    "    r, dr = y\n",
    "    kappa = 1\n",
    "    beta = 1\n",
    "    \n",
    "    #lets say we have 20 masses\n",
    "        \n",
    "    for j in range(10):\n",
    "    ##eom\n",
    "        k1 = -2*(kappa*r[2*j+1] + beta * r[2*j+1]**2 + r[2*j+1]**3*N(1, r[2*j+1]))\n",
    "        k2 = (r[2*j+2] + r[2*j+2]**2 + r[2*j+2]**3*N(2, r[2*j+2]))\n",
    "        k3 = (r[2*j] + r[2*j]**2 + r[2*j]**3*N(2, r[2*j]))\n",
    "        ddr[2*j+1] = k1 + k2 + k3\n",
    "        \n",
    "        l1 = -2*(r[2*j] + r[2*j]**2 + r[2*j]**3*N(2, r[2*j]))\n",
    "        l2 = (kappa*r[2*j+1] + beta*r[2*j+1]**2 + r[2*j+1]**3*N(1, r[2*j+1]))\n",
    "        l3 = (kappa*r[2*j-1] + beta*r[2*j-1]**2 + r[2*j-1]**3*N(1, r[2*j-1]))\n",
    "        ddr[2*j] = l1 + l2 + l3\n",
    "        \n",
    "        \n",
    "    return np.array([dr, ddr])"
   ]
  },
  {
   "cell_type": "code",
   "execution_count": 32,
   "id": "worldwide-columbia",
   "metadata": {},
   "outputs": [],
   "source": [
    "from numpy import concatenate, linspace, random, mod, zeros, sin\n",
    "from scipy.integrate import odeint\n",
    "\n",
    "Nosc = 20\n",
    "assert mod(Nosc, 2) == 0\n",
    "\n",
    "def f(theta, _):\n",
    "    N = int(theta.size / 2)\n",
    "    x, y = theta[:N], theta[N:]\n",
    "    m = 0.95\n",
    "    K = 1.0\n",
    "    fx = zeros(N, float)\n",
    "    for i in range(N):\n",
    "        s = 0.0\n",
    "        for j in range(i + 1, N):\n",
    "            s = s + sin(x[j] - x[i])\n",
    "        fx[i] = (-y[i] + (K * s) / N) / m\n",
    "    return concatenate(([y, fx]))\n",
    "\n",
    "t = linspace(0, 10, 50, endpoint=False)\n",
    "\n",
    "theta = random.uniform(-180, 180, Nosc)\n",
    "theta2 = random.uniform(-180, 180, Nosc) #added initial condition for the velocities of the oscillators\n",
    "\n",
    "yinit = concatenate((theta, theta2))\n",
    "\n",
    "res = odeint(f, yinit, t)\n",
    "X = res[:, :Nosc].T\n",
    "Y = res[:, Nosc:].T"
   ]
  },
  {
   "cell_type": "code",
   "execution_count": 33,
   "id": "mathematical-treatment",
   "metadata": {},
   "outputs": [
    {
     "name": "stderr",
     "output_type": "stream",
     "text": [
      "<ipython-input-33-b8531453a21d>:8: UserWarning: Matplotlib is currently using module://ipykernel.pylab.backend_inline, which is a non-GUI backend, so cannot show the figure.\n",
      "  fig.show()\n"
     ]
    },
    {
     "data": {
      "image/png": "[encoded data removed]",
      "text/plain": [
       "<Figure size 432x288 with 1 Axes>"
      ]
     },
     "metadata": {
      "needs_background": "light"
     },
     "output_type": "display_data"
    }
   ],
   "source": [
    "import matplotlib.pylab as plt\n",
    "\n",
    "fig, ax = plt.subplots()\n",
    "for displacement in X:\n",
    "    ax.plot(t, displacement)\n",
    "ax.set_xlabel('t')\n",
    "ax.set_ylabel('x')\n",
    "fig.show()\n",
    "    "
   ]
  },
  {
   "cell_type": "code",
   "execution_count": 29,
   "id": "packed-motivation",
   "metadata": {},
   "outputs": [],
   "source": [
    "r = ode(eom).set_integrator('zvode', method='bdf')"
   ]
  },
  {
   "cell_type": "code",
   "execution_count": 30,
   "id": "familiar-variety",
   "metadata": {},
   "outputs": [
    {
     "name": "stdout",
     "output_type": "stream",
     "text": [
      "[0.+0.j]\n"
     ]
    },
    {
     "ename": "ValueError",
     "evalue": "not enough values to unpack (expected 2, got 1)",
     "output_type": "error",
     "traceback": [
      "\u001b[1;31m---------------------------------------------------------------------------\u001b[0m",
      "\u001b[1;31mValueError\u001b[0m                                Traceback (most recent call last)",
      "\u001b[1;32m<ipython-input-30-02b96472f30c>\u001b[0m in \u001b[0;36m<module>\u001b[1;34m\u001b[0m\n\u001b[0;32m      9\u001b[0m \u001b[1;33m\u001b[0m\u001b[0m\n\u001b[0;32m     10\u001b[0m \u001b[1;33m\u001b[0m\u001b[0m\n\u001b[1;32m---> 11\u001b[1;33m \u001b[0mprint\u001b[0m\u001b[1;33m(\u001b[0m\u001b[0mr\u001b[0m\u001b[1;33m.\u001b[0m\u001b[0mt\u001b[0m\u001b[1;33m+\u001b[0m\u001b[0mdt\u001b[0m\u001b[1;33m,\u001b[0m \u001b[0mr\u001b[0m\u001b[1;33m.\u001b[0m\u001b[0mintegrate\u001b[0m\u001b[1;33m(\u001b[0m\u001b[0mr\u001b[0m\u001b[1;33m.\u001b[0m\u001b[0mt\u001b[0m\u001b[1;33m+\u001b[0m\u001b[0mdt\u001b[0m\u001b[1;33m)\u001b[0m\u001b[1;33m)\u001b[0m\u001b[1;33m\u001b[0m\u001b[1;33m\u001b[0m\u001b[0m\n\u001b[0m",
      "\u001b[1;32mD:\\Anaconda\\envs\\Master_Thesis\\lib\\site-packages\\scipy\\integrate\\_ode.py\u001b[0m in \u001b[0;36mintegrate\u001b[1;34m(self, t, step, relax)\u001b[0m\n\u001b[0;32m    431\u001b[0m \u001b[1;33m\u001b[0m\u001b[0m\n\u001b[0;32m    432\u001b[0m         \u001b[1;32mtry\u001b[0m\u001b[1;33m:\u001b[0m\u001b[1;33m\u001b[0m\u001b[1;33m\u001b[0m\u001b[0m\n\u001b[1;32m--> 433\u001b[1;33m             self._y, self.t = mth(self.f, self.jac or (lambda: None),\n\u001b[0m\u001b[0;32m    434\u001b[0m                                   \u001b[0mself\u001b[0m\u001b[1;33m.\u001b[0m\u001b[0m_y\u001b[0m\u001b[1;33m,\u001b[0m \u001b[0mself\u001b[0m\u001b[1;33m.\u001b[0m\u001b[0mt\u001b[0m\u001b[1;33m,\u001b[0m \u001b[0mt\u001b[0m\u001b[1;33m,\u001b[0m\u001b[1;33m\u001b[0m\u001b[1;33m\u001b[0m\u001b[0m\n\u001b[0;32m    435\u001b[0m                                   self.f_params, self.jac_params)\n",
      "\u001b[1;32mD:\\Anaconda\\envs\\Master_Thesis\\lib\\site-packages\\scipy\\integrate\\_ode.py\u001b[0m in \u001b[0;36mrun\u001b[1;34m(self, f, jac, y0, t0, t1, f_params, jac_params)\u001b[0m\n\u001b[0;32m   1007\u001b[0m         args = ((f, jac, y0, t0, t1) + tuple(self.call_args) +\n\u001b[0;32m   1008\u001b[0m                 (f_params, jac_params))\n\u001b[1;32m-> 1009\u001b[1;33m         \u001b[0my1\u001b[0m\u001b[1;33m,\u001b[0m \u001b[0mt\u001b[0m\u001b[1;33m,\u001b[0m \u001b[0mistate\u001b[0m \u001b[1;33m=\u001b[0m \u001b[0mself\u001b[0m\u001b[1;33m.\u001b[0m\u001b[0mrunner\u001b[0m\u001b[1;33m(\u001b[0m\u001b[1;33m*\u001b[0m\u001b[0margs\u001b[0m\u001b[1;33m)\u001b[0m\u001b[1;33m\u001b[0m\u001b[1;33m\u001b[0m\u001b[0m\n\u001b[0m\u001b[0;32m   1010\u001b[0m         \u001b[0mself\u001b[0m\u001b[1;33m.\u001b[0m\u001b[0mistate\u001b[0m \u001b[1;33m=\u001b[0m \u001b[0mistate\u001b[0m\u001b[1;33m\u001b[0m\u001b[1;33m\u001b[0m\u001b[0m\n\u001b[0;32m   1011\u001b[0m         \u001b[1;32mif\u001b[0m \u001b[0mistate\u001b[0m \u001b[1;33m<\u001b[0m \u001b[1;36m0\u001b[0m\u001b[1;33m:\u001b[0m\u001b[1;33m\u001b[0m\u001b[1;33m\u001b[0m\u001b[0m\n",
      "\u001b[1;32m<ipython-input-27-d6a308eba34d>\u001b[0m in \u001b[0;36meom\u001b[1;34m(t, y)\u001b[0m\n\u001b[0;32m      5\u001b[0m     \u001b[0mprint\u001b[0m\u001b[1;33m(\u001b[0m\u001b[0my\u001b[0m\u001b[1;33m)\u001b[0m\u001b[1;33m\u001b[0m\u001b[1;33m\u001b[0m\u001b[0m\n\u001b[0;32m      6\u001b[0m     \u001b[1;31m## coefficients:\u001b[0m\u001b[1;33m\u001b[0m\u001b[1;33m\u001b[0m\u001b[1;33m\u001b[0m\u001b[0m\n\u001b[1;32m----> 7\u001b[1;33m     \u001b[0mr\u001b[0m\u001b[1;33m,\u001b[0m \u001b[0mdr\u001b[0m \u001b[1;33m=\u001b[0m \u001b[0my\u001b[0m\u001b[1;33m\u001b[0m\u001b[1;33m\u001b[0m\u001b[0m\n\u001b[0m\u001b[0;32m      8\u001b[0m     \u001b[0mkappa\u001b[0m \u001b[1;33m=\u001b[0m \u001b[1;36m1\u001b[0m\u001b[1;33m\u001b[0m\u001b[1;33m\u001b[0m\u001b[0m\n\u001b[0;32m      9\u001b[0m     \u001b[0mbeta\u001b[0m \u001b[1;33m=\u001b[0m \u001b[1;36m1\u001b[0m\u001b[1;33m\u001b[0m\u001b[1;33m\u001b[0m\u001b[0m\n",
      "\u001b[1;31mValueError\u001b[0m: not enough values to unpack (expected 2, got 1)"
     ]
    }
   ],
   "source": [
    "y0 = np.array([0,0])\n",
    "t0 = 0\n",
    "r.set_initial_value(t0, y0)#.set_f_params(2.0).set_jac_params(2.0)\n",
    "\n",
    "t1 = 10\n",
    "\n",
    "dt = 1\n",
    "\n",
    "\n",
    "\n",
    "print(r.t+dt, r.integrate(r.t+dt))"
   ]
  },
  {
   "cell_type": "code",
   "execution_count": null,
   "id": "hourly-straight",
   "metadata": {},
   "outputs": [],
   "source": []
  }
 ],
 "metadata": {
  "kernelspec": {
   "display_name": "Python 3",
   "language": "python",
   "name": "python3"
  },
  "language_info": {
   "codemirror_mode": {
    "name": "ipython",
    "version": 3
   },
   "file_extension": ".py",
   "mimetype": "text/x-python",
   "name": "python",
   "nbconvert_exporter": "python",
   "pygments_lexer": "ipython3",
   "version": "3.8.8"
  }
 },
 "nbformat": 4,
 "nbformat_minor": 5
}
