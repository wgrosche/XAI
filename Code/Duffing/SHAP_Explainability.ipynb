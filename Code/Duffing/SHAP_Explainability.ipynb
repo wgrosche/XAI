{
 "cells": [
  {
   "cell_type": "markdown",
   "id": "2cfc028b",
   "metadata": {},
   "source": [
    "# Notebook for Exploring Explainable AI in a Physics Setting\n",
    "\n",
    "In this notebook we explore how SHAP explainability deals with a physical system like the Duffing Oscillator"
   ]
  },
  {
   "cell_type": "code",
   "execution_count": 1,
   "id": "presidential-oasis",
   "metadata": {},
   "outputs": [],
   "source": [
    "\"\"\"\n",
    "Import Libraries\n",
    "\"\"\"\n",
    "# General Libraries\n",
    "import numpy as np\n",
    "import pandas as pd\n",
    "import os\n",
    "\n",
    "# True Model\n",
    "from scipy.integrate import odeint\n",
    "from scipy.fft import fft\n",
    "\n",
    "# Machine Learning Libraries\n",
    "import tensorflow as tf\n",
    "from tensorflow.keras.models import Sequential\n",
    "from tensorflow.keras import layers\n",
    "from tensorflow.keras.optimizers import RMSprop, Adam\n",
    "from tensorflow.keras.utils import Sequence\n",
    "from tensorflow import keras\n",
    "\n",
    "\n",
    "# Data Preprocessing\n",
    "from sklearn.model_selection import train_test_split\n",
    "from sklearn.preprocessing import StandardScaler\n",
    "from sklearn.feature_selection import SelectKBest, f_classif\n",
    "from sklearn.pipeline import make_pipeline\n",
    "from sklearn.svm import LinearSVC\n",
    "\n",
    "# Plotting Libraries\n",
    "import matplotlib.pylab as plt\n",
    "import seaborn as sns\n",
    "\n",
    "# Explainability\n",
    "import lime\n",
    "import shap\n",
    "\n",
    "# Set Seaborn Theme\n",
    "sns.set_theme(context='notebook', style='darkgrid', palette='deep', font='sans-serif', font_scale=1, color_codes=True, rc=None)\n"
   ]
  },
  {
   "cell_type": "code",
   "execution_count": 2,
   "id": "cardiac-layout",
   "metadata": {
    "scrolled": true
   },
   "outputs": [
    {
     "name": "stderr",
     "output_type": "stream",
     "text": [
      "elementwise comparison failed; returning scalar instead, but in the future will perform elementwise comparison\n"
     ]
    }
   ],
   "source": [
    "\"\"\"\n",
    "Choose the training data set to be trained on.\n",
    "\n",
    "For general datasets use custom suffix.\n",
    "\"\"\"\n",
    "suffix = \"delta03_irrelevant\"#\"delayed_traj_delta03\"\n",
    "\n",
    "X_train = pd.read_csv(\"Data/X_train_\"+suffix+\".csv\", header=0, index_col=0)\n",
    "y_train = pd.read_csv(\"Data/y_train_\"+suffix+\".csv\", header=0, index_col=0)\n",
    "X_test = pd.read_csv(\"Data/X_test_\"+suffix+\".csv\", header=0, index_col=0)\n",
    "y_test = pd.read_csv(\"Data/y_test_\"+suffix+\".csv\", header=0, index_col=0)"
   ]
  },
  {
   "cell_type": "code",
   "execution_count": 3,
   "id": "79cf4599",
   "metadata": {
    "scrolled": true
   },
   "outputs": [
    {
     "data": {
      "text/plain": [
       "'\\nf, axs = plt.subplots(1, 1, figsize=(12, 8), gridspec_kw=dict(width_ratios=[4]))\\n\\nsns.scatterplot(data = y_test.iloc[:10000,:], x = \\'xt\\', y=\\'vt\\', ax=axs, marker=\\'x\\', linewidth = 1)\\n\\naxs.set(xlim=(-2, 2), ylim=(-2, 2))\\naxs.set_xlabel(\\'x [ ]\\')\\naxs.set_ylabel(\\'v [ ]\\')\\naxs.set_title(\"Phase Space Plot\")\\n\\nf.tight_layout()\\n\\nf.savefig(\"Images/data_only_\"+suffix+\".svg\", dpi=\\'figure\\')\\n\\nf, axs = plt.subplots(1, 1, figsize=(12, 8), gridspec_kw=dict(width_ratios=[4]))\\n\\nsns.scatterplot(data = X_test.iloc[:10000,:], x = \\'x0\\', y=\\'v0\\', ax=axs, marker=\\'x\\', linewidth = 1)\\naxs.set(xlim=(-2, 2), ylim=(-2, 2))\\naxs.set_xlabel(\\'x [ ]\\')\\naxs.set_ylabel(\\'v [ ]\\')\\naxs.set_title(\"Phase Space Plot\")\\n\\nf.tight_layout()\\n\\nf.savefig(\"Images/data_only_\"+suffix+\".svg\", dpi=\\'figure\\')\\n'"
      ]
     },
     "execution_count": 3,
     "metadata": {},
     "output_type": "execute_result"
    }
   ],
   "source": [
    "\"\"\"\n",
    "f, axs = plt.subplots(1, 1, figsize=(12, 8), gridspec_kw=dict(width_ratios=[4]))\n",
    "\n",
    "sns.scatterplot(data = y_test.iloc[:10000,:], x = 'xt', y='vt', ax=axs, marker='x', linewidth = 1)\n",
    "\n",
    "axs.set(xlim=(-2, 2), ylim=(-2, 2))\n",
    "axs.set_xlabel('x [ ]')\n",
    "axs.set_ylabel('v [ ]')\n",
    "axs.set_title(\"Phase Space Plot\")\n",
    "\n",
    "f.tight_layout()\n",
    "\n",
    "f.savefig(\"Images/data_only_\"+suffix+\".svg\", dpi='figure')\n",
    "\n",
    "f, axs = plt.subplots(1, 1, figsize=(12, 8), gridspec_kw=dict(width_ratios=[4]))\n",
    "\n",
    "sns.scatterplot(data = X_test.iloc[:10000,:], x = 'x0', y='v0', ax=axs, marker='x', linewidth = 1)\n",
    "axs.set(xlim=(-2, 2), ylim=(-2, 2))\n",
    "axs.set_xlabel('x [ ]')\n",
    "axs.set_ylabel('v [ ]')\n",
    "axs.set_title(\"Phase Space Plot\")\n",
    "\n",
    "f.tight_layout()\n",
    "\n",
    "f.savefig(\"Images/data_only_\"+suffix+\".svg\", dpi='figure')\n",
    "\"\"\""
   ]
  },
  {
   "cell_type": "markdown",
   "id": "e6bd7059",
   "metadata": {},
   "source": [
    "## Preprocess\n",
    "\n",
    "Optional data preprocessing step, fourier transform.\n",
    "\n",
    "Scale the data to 0 mean and unit variance, this is mainly done to improve the neural network's performance but also ensures that magnitude differences between the features have no impact on explainability."
   ]
  },
  {
   "cell_type": "code",
   "execution_count": 4,
   "id": "cb58bda6",
   "metadata": {},
   "outputs": [
    {
     "data": {
      "text/plain": [
       "\"\\nfrom scipy.fft import fft, fftfreq, fftshift\\n\\n\\nfft(X_test.values)\\n\\nt = np.arange(250)\\n\\nsp = fftshift(fft(X_test.values[:250,:]))\\n\\nfreq = fftshift(fftfreq(t.shape[-1]))\\n\\nplt.plot(freq, sp.real, freq, sp.imag, 'x')\\n\\nplt.show()\\n\""
      ]
     },
     "execution_count": 4,
     "metadata": {},
     "output_type": "execute_result"
    }
   ],
   "source": [
    "\"\"\"\n",
    "from scipy.fft import fft, fftfreq, fftshift\n",
    "\n",
    "\n",
    "fft(X_test.values)\n",
    "\n",
    "t = np.arange(250)\n",
    "\n",
    "sp = fftshift(fft(X_test.values[:250,:]))\n",
    "\n",
    "freq = fftshift(fftfreq(t.shape[-1]))\n",
    "\n",
    "plt.plot(freq, sp.real, freq, sp.imag, 'x')\n",
    "\n",
    "plt.show()\n",
    "\"\"\""
   ]
  },
  {
   "cell_type": "code",
   "execution_count": 5,
   "id": "available-captain",
   "metadata": {},
   "outputs": [
    {
     "data": {
      "text/plain": [
       "array([[ 1.04319092,  0.93961132, -1.72859016, -1.62930643],\n",
       "       [ 1.04319092,  0.93961132, -1.72166195, -1.64075495],\n",
       "       [ 1.04319092,  0.93961132, -1.71473373,  0.24451679],\n",
       "       ...,\n",
       "       [-0.48312732,  1.15706225,  1.71473373, -0.03618697],\n",
       "       [-0.48312732,  1.15706225,  1.72166195,  1.10152985],\n",
       "       [-0.48312732,  1.15706225,  1.72859016,  0.77200887]])"
      ]
     },
     "execution_count": 5,
     "metadata": {},
     "output_type": "execute_result"
    }
   ],
   "source": [
    "\n",
    "\n",
    "scaler = StandardScaler()\n",
    "\n",
    "\n",
    "scaler.fit(X_train.values)\n",
    "scaler.transform(X_train.values, copy=False)\n",
    "scaler.transform(X_test.values, copy = False)\n",
    "\n",
    "#anova_svm = make_pipeline(scaler, model)\n",
    "#anova_svm.fit(X_train, y_train)"
   ]
  },
  {
   "cell_type": "markdown",
   "id": "a7b00aee",
   "metadata": {},
   "source": [
    "## Network Training\n",
    "\n",
    "Here we set up the neural network. We are using a large batch size (5096) to speed up training. Data are shuffled before training because we are using a method to generate the data that causes codependence in adjacent training samples as they belong to the same trajectory. Early stopping criteria are there to stop overfitting though this has rarely been a problem in this setting.\n",
    "\n",
    "The network architecture makes use of a lot of dense (fully connected) layers. This leads to a large number of trainable parameters so care should be taken to ensure that the dataset is large enough to prevent overfitting being a viable strategy.\n",
    "\n",
    "As a validation set we use 20% of the training data.\n",
    "\n",
    "We make use of the Adam optimiser. Using a learning rate of 0.001 seems to work, greater learning rates cause the network to not learn at all and a smaller learning rate slows learning unnecessarily."
   ]
  },
  {
   "cell_type": "code",
   "execution_count": 6,
   "id": "6c885dd9",
   "metadata": {},
   "outputs": [],
   "source": [
    "\"\"\"\n",
    "Define and Create Model\n",
    "\"\"\"\n",
    "\n",
    "def MLModel():\n",
    "    opt = Adam(learning_rate=0.001, beta_1=0.7)\n",
    "    loss='mse'\n",
    "    model = Sequential([\n",
    "        layers.Flatten(),\n",
    "        layers.Dense(200, activation='relu'),\n",
    "        layers.Dense(200, activation='relu'),\n",
    "        layers.Dense(200, activation='relu'),\n",
    "        layers.Dense(200, activation='relu'),\n",
    "        layers.Dense(200, activation='relu'),\n",
    "        layers.Dense(200, activation='relu'),\n",
    "        layers.Dense(200, activation='relu'),\n",
    "        layers.Dense(200, activation='relu'),\n",
    "        layers.Dense(32, activation='relu'),\n",
    "        layers.Dense(32, activation='relu'),\n",
    "        layers.Dense(32, activation='sigmoid'),\n",
    "        layers.Dense(32, activation='tanh'),\n",
    "        layers.Dense(2)            \n",
    "    ])\n",
    "    model.compile(optimizer=opt, loss=loss)\n",
    "    return model\n",
    "\n",
    "# Create a basic model instance\n",
    "model = MLModel()"
   ]
  },
  {
   "cell_type": "code",
   "execution_count": 8,
   "id": "6ce48f70",
   "metadata": {},
   "outputs": [],
   "source": [
    "# Model Weights Path\n",
    "checkpoint_path = \"Networks/training\"+suffix+\"cp.ckpt\"\n",
    "checkpoint_dir = os.path.dirname(checkpoint_path)"
   ]
  },
  {
   "cell_type": "code",
   "execution_count": 9,
   "id": "6bb297a5",
   "metadata": {},
   "outputs": [
    {
     "name": "stdout",
     "output_type": "stream",
     "text": [
      "Epoch 1/500\n",
      "1965/1965 [==============================] - 241s 121ms/step - loss: 0.3489 - val_loss: 0.2919\n",
      "\n",
      "Epoch 00001: saving model to Networks\\trainingdelta03_irrelevantcp.ckpt\n",
      "Epoch 2/500\n",
      "1965/1965 [==============================] - 236s 120ms/step - loss: 0.2687 - val_loss: 0.2588\n",
      "\n",
      "Epoch 00002: saving model to Networks\\trainingdelta03_irrelevantcp.ckpt\n",
      "Epoch 3/500\n",
      "1965/1965 [==============================] - 237s 120ms/step - loss: 0.2453 - val_loss: 0.2435\n",
      "\n",
      "Epoch 00003: saving model to Networks\\trainingdelta03_irrelevantcp.ckpt\n",
      "Epoch 4/500\n",
      "1965/1965 [==============================] - 237s 120ms/step - loss: 0.2333 - val_loss: 0.2448\n",
      "\n",
      "Epoch 00004: saving model to Networks\\trainingdelta03_irrelevantcp.ckpt\n",
      "Epoch 5/500\n",
      "1965/1965 [==============================] - 235s 120ms/step - loss: 0.2257 - val_loss: 0.2294\n",
      "\n",
      "Epoch 00005: saving model to Networks\\trainingdelta03_irrelevantcp.ckpt\n",
      "Epoch 6/500\n",
      "1965/1965 [==============================] - 235s 120ms/step - loss: 0.2197 - val_loss: 0.2289\n",
      "\n",
      "Epoch 00006: saving model to Networks\\trainingdelta03_irrelevantcp.ckpt\n",
      "Epoch 7/500\n",
      "1965/1965 [==============================] - 235s 120ms/step - loss: 0.2152 - val_loss: 0.2226\n",
      "\n",
      "Epoch 00007: saving model to Networks\\trainingdelta03_irrelevantcp.ckpt\n",
      "Epoch 8/500\n",
      "1965/1965 [==============================] - 235s 120ms/step - loss: 0.2111 - val_loss: 0.2189\n",
      "\n",
      "Epoch 00008: saving model to Networks\\trainingdelta03_irrelevantcp.ckpt\n",
      "Epoch 9/500\n",
      "1965/1965 [==============================] - 247s 126ms/step - loss: 0.2079 - val_loss: 0.2181\n",
      "\n",
      "Epoch 00009: saving model to Networks\\trainingdelta03_irrelevantcp.ckpt\n",
      "Epoch 10/500\n",
      "1965/1965 [==============================] - 254s 129ms/step - loss: 0.2051 - val_loss: 0.2108\n",
      "\n",
      "Epoch 00010: saving model to Networks\\trainingdelta03_irrelevantcp.ckpt\n",
      "Epoch 11/500\n",
      "1965/1965 [==============================] - 241s 123ms/step - loss: 0.2026 - val_loss: 0.2162\n",
      "\n",
      "Epoch 00011: saving model to Networks\\trainingdelta03_irrelevantcp.ckpt\n",
      "Epoch 12/500\n",
      "1965/1965 [==============================] - 247s 126ms/step - loss: 0.2004 - val_loss: 0.2080\n",
      "\n",
      "Epoch 00012: saving model to Networks\\trainingdelta03_irrelevantcp.ckpt\n",
      "Epoch 13/500\n",
      "1965/1965 [==============================] - 263s 134ms/step - loss: 0.1985 - val_loss: 0.2046\n",
      "\n",
      "Epoch 00013: saving model to Networks\\trainingdelta03_irrelevantcp.ckpt\n",
      "Epoch 14/500\n",
      "1965/1965 [==============================] - 260s 132ms/step - loss: 0.1968 - val_loss: 0.2079\n",
      "\n",
      "Epoch 00014: saving model to Networks\\trainingdelta03_irrelevantcp.ckpt\n",
      "Epoch 15/500\n",
      "1965/1965 [==============================] - 248s 126ms/step - loss: 0.1951 - val_loss: 0.2059\n",
      "\n",
      "Epoch 00015: saving model to Networks\\trainingdelta03_irrelevantcp.ckpt\n",
      "Epoch 16/500\n",
      "1965/1965 [==============================] - 242s 123ms/step - loss: 0.1936 - val_loss: 0.2131\n",
      "\n",
      "Epoch 00016: saving model to Networks\\trainingdelta03_irrelevantcp.ckpt\n",
      "Epoch 17/500\n",
      "1965/1965 [==============================] - 246s 125ms/step - loss: 0.1922 - val_loss: 0.1962\n",
      "\n",
      "Epoch 00017: saving model to Networks\\trainingdelta03_irrelevantcp.ckpt\n",
      "Epoch 18/500\n",
      "1965/1965 [==============================] - 242s 123ms/step - loss: 0.1909 - val_loss: 0.2080\n",
      "\n",
      "Epoch 00018: saving model to Networks\\trainingdelta03_irrelevantcp.ckpt\n",
      "Epoch 19/500\n",
      "1965/1965 [==============================] - 242s 123ms/step - loss: 0.1895 - val_loss: 0.2053\n",
      "\n",
      "Epoch 00019: saving model to Networks\\trainingdelta03_irrelevantcp.ckpt\n",
      "Epoch 20/500\n",
      "1965/1965 [==============================] - 243s 124ms/step - loss: 0.1886 - val_loss: 0.1950\n",
      "\n",
      "Epoch 00020: saving model to Networks\\trainingdelta03_irrelevantcp.ckpt\n",
      "Epoch 21/500\n",
      "1965/1965 [==============================] - 245s 125ms/step - loss: 0.1873 - val_loss: 0.1993\n",
      "\n",
      "Epoch 00021: saving model to Networks\\trainingdelta03_irrelevantcp.ckpt\n",
      "Epoch 22/500\n",
      "1965/1965 [==============================] - 247s 126ms/step - loss: 0.1863 - val_loss: 0.1997\n",
      "\n",
      "Epoch 00022: saving model to Networks\\trainingdelta03_irrelevantcp.ckpt\n",
      "Epoch 23/500\n",
      "1965/1965 [==============================] - 246s 125ms/step - loss: 0.1853 - val_loss: 0.2019\n",
      "\n",
      "Epoch 00023: saving model to Networks\\trainingdelta03_irrelevantcp.ckpt\n",
      "Epoch 24/500\n",
      "1965/1965 [==============================] - 246s 125ms/step - loss: 0.1844 - val_loss: 0.1991\n",
      "\n",
      "Epoch 00024: saving model to Networks\\trainingdelta03_irrelevantcp.ckpt\n",
      "Epoch 25/500\n",
      "1965/1965 [==============================] - 245s 125ms/step - loss: 0.1835 - val_loss: 0.1950\n",
      "\n",
      "Epoch 00025: saving model to Networks\\trainingdelta03_irrelevantcp.ckpt\n",
      "Epoch 26/500\n",
      "1965/1965 [==============================] - 243s 124ms/step - loss: 0.1827 - val_loss: 0.1913\n",
      "\n",
      "Epoch 00026: saving model to Networks\\trainingdelta03_irrelevantcp.ckpt\n",
      "Epoch 27/500\n",
      "1965/1965 [==============================] - 245s 125ms/step - loss: 0.1819 - val_loss: 0.1956\n",
      "\n",
      "Epoch 00027: saving model to Networks\\trainingdelta03_irrelevantcp.ckpt\n",
      "Epoch 28/500\n",
      "1965/1965 [==============================] - 246s 125ms/step - loss: 0.1811 - val_loss: 0.1960\n",
      "\n",
      "Epoch 00028: saving model to Networks\\trainingdelta03_irrelevantcp.ckpt\n",
      "Epoch 29/500\n",
      "1965/1965 [==============================] - 246s 125ms/step - loss: 0.1804 - val_loss: 0.1990\n",
      "\n",
      "Epoch 00029: saving model to Networks\\trainingdelta03_irrelevantcp.ckpt\n",
      "Epoch 30/500\n",
      "1965/1965 [==============================] - 248s 126ms/step - loss: 0.1797 - val_loss: 0.1953\n",
      "\n",
      "Epoch 00030: saving model to Networks\\trainingdelta03_irrelevantcp.ckpt\n",
      "Epoch 31/500\n",
      "1965/1965 [==============================] - 242s 123ms/step - loss: 0.1791 - val_loss: 0.1946\n",
      "\n",
      "Epoch 00031: saving model to Networks\\trainingdelta03_irrelevantcp.ckpt\n",
      "Epoch 32/500\n",
      "1965/1965 [==============================] - 243s 124ms/step - loss: 0.1784 - val_loss: 0.1926\n",
      "\n",
      "Epoch 00032: saving model to Networks\\trainingdelta03_irrelevantcp.ckpt\n",
      "Epoch 33/500\n",
      "1965/1965 [==============================] - 243s 123ms/step - loss: 0.1778 - val_loss: 0.1854\n",
      "\n",
      "Epoch 00033: saving model to Networks\\trainingdelta03_irrelevantcp.ckpt\n",
      "Epoch 34/500\n",
      "1965/1965 [==============================] - 248s 126ms/step - loss: 0.1773 - val_loss: 0.1937\n",
      "\n",
      "Epoch 00034: saving model to Networks\\trainingdelta03_irrelevantcp.ckpt\n",
      "Epoch 35/500\n",
      "1965/1965 [==============================] - 246s 125ms/step - loss: 0.1766 - val_loss: 0.1870\n",
      "\n",
      "Epoch 00035: saving model to Networks\\trainingdelta03_irrelevantcp.ckpt\n",
      "Epoch 36/500\n",
      "1965/1965 [==============================] - 245s 124ms/step - loss: 0.1761 - val_loss: 0.1850\n",
      "\n",
      "Epoch 00036: saving model to Networks\\trainingdelta03_irrelevantcp.ckpt\n",
      "Epoch 37/500\n",
      "1965/1965 [==============================] - 242s 123ms/step - loss: 0.1756 - val_loss: 0.1910\n",
      "\n",
      "Epoch 00037: saving model to Networks\\trainingdelta03_irrelevantcp.ckpt\n",
      "Epoch 38/500\n",
      "1965/1965 [==============================] - 242s 123ms/step - loss: 0.1751 - val_loss: 0.1944\n",
      "\n",
      "Epoch 00038: saving model to Networks\\trainingdelta03_irrelevantcp.ckpt\n",
      "Epoch 39/500\n",
      "1965/1965 [==============================] - 240s 122ms/step - loss: 0.1746 - val_loss: 0.1841\n",
      "\n",
      "Epoch 00039: saving model to Networks\\trainingdelta03_irrelevantcp.ckpt\n",
      "Epoch 40/500\n",
      "1965/1965 [==============================] - 242s 123ms/step - loss: 0.1741 - val_loss: 0.1867\n",
      "\n",
      "Epoch 00040: saving model to Networks\\trainingdelta03_irrelevantcp.ckpt\n",
      "Epoch 41/500\n",
      "1965/1965 [==============================] - 241s 123ms/step - loss: 0.1736 - val_loss: 0.1925\n",
      "\n",
      "Epoch 00041: saving model to Networks\\trainingdelta03_irrelevantcp.ckpt\n",
      "Epoch 42/500\n",
      "1965/1965 [==============================] - 238s 121ms/step - loss: 0.1733 - val_loss: 0.1904\n",
      "\n",
      "Epoch 00042: saving model to Networks\\trainingdelta03_irrelevantcp.ckpt\n",
      "Epoch 43/500\n",
      "1965/1965 [==============================] - 240s 122ms/step - loss: 0.1728 - val_loss: 0.1862\n",
      "\n",
      "Epoch 00043: saving model to Networks\\trainingdelta03_irrelevantcp.ckpt\n",
      "Epoch 44/500\n",
      "1965/1965 [==============================] - 241s 122ms/step - loss: 0.1724 - val_loss: 0.1850\n",
      "\n",
      "Epoch 00044: saving model to Networks\\trainingdelta03_irrelevantcp.ckpt\n",
      "Epoch 45/500\n",
      "1965/1965 [==============================] - 241s 122ms/step - loss: 0.1720 - val_loss: 0.1905\n",
      "\n",
      "Epoch 00045: saving model to Networks\\trainingdelta03_irrelevantcp.ckpt\n",
      "Epoch 46/500\n"
     ]
    },
    {
     "name": "stdout",
     "output_type": "stream",
     "text": [
      "1965/1965 [==============================] - 241s 123ms/step - loss: 0.1716 - val_loss: 0.1795\n",
      "\n",
      "Epoch 00046: saving model to Networks\\trainingdelta03_irrelevantcp.ckpt\n",
      "Epoch 47/500\n",
      "1965/1965 [==============================] - 241s 123ms/step - loss: 0.1712 - val_loss: 0.1855\n",
      "\n",
      "Epoch 00047: saving model to Networks\\trainingdelta03_irrelevantcp.ckpt\n",
      "Epoch 48/500\n",
      "1965/1965 [==============================] - 241s 123ms/step - loss: 0.1708 - val_loss: 0.1813\n",
      "\n",
      "Epoch 00048: saving model to Networks\\trainingdelta03_irrelevantcp.ckpt\n",
      "Epoch 49/500\n",
      "1965/1965 [==============================] - 241s 122ms/step - loss: 0.1705 - val_loss: 0.1895\n",
      "\n",
      "Epoch 00049: saving model to Networks\\trainingdelta03_irrelevantcp.ckpt\n",
      "Epoch 50/500\n",
      "1965/1965 [==============================] - 240s 122ms/step - loss: 0.1701 - val_loss: 0.1822\n",
      "\n",
      "Epoch 00050: saving model to Networks\\trainingdelta03_irrelevantcp.ckpt\n",
      "Epoch 51/500\n",
      "1965/1965 [==============================] - 241s 122ms/step - loss: 0.1698 - val_loss: 0.1813\n",
      "\n",
      "Epoch 00051: saving model to Networks\\trainingdelta03_irrelevantcp.ckpt\n",
      "Epoch 52/500\n",
      "1965/1965 [==============================] - 240s 122ms/step - loss: 0.1694 - val_loss: 0.1862\n",
      "\n",
      "Epoch 00052: saving model to Networks\\trainingdelta03_irrelevantcp.ckpt\n",
      "Epoch 53/500\n",
      "1965/1965 [==============================] - 241s 123ms/step - loss: 0.1691 - val_loss: 0.1803\n",
      "\n",
      "Epoch 00053: saving model to Networks\\trainingdelta03_irrelevantcp.ckpt\n",
      "Epoch 54/500\n",
      "1965/1965 [==============================] - 241s 123ms/step - loss: 0.1687 - val_loss: 0.1822\n",
      "\n",
      "Epoch 00054: saving model to Networks\\trainingdelta03_irrelevantcp.ckpt\n",
      "Epoch 55/500\n",
      "1965/1965 [==============================] - 241s 123ms/step - loss: 0.1684 - val_loss: 0.1813\n",
      "\n",
      "Epoch 00055: saving model to Networks\\trainingdelta03_irrelevantcp.ckpt\n",
      "Epoch 56/500\n",
      "1965/1965 [==============================] - 241s 123ms/step - loss: 0.1682 - val_loss: 0.1866\n",
      "\n",
      "Epoch 00056: saving model to Networks\\trainingdelta03_irrelevantcp.ckpt\n",
      "Epoch 57/500\n",
      "1965/1965 [==============================] - 244s 124ms/step - loss: 0.1679 - val_loss: 0.1826\n",
      "\n",
      "Epoch 00057: saving model to Networks\\trainingdelta03_irrelevantcp.ckpt\n",
      "Epoch 58/500\n",
      "1965/1965 [==============================] - 243s 124ms/step - loss: 0.1676 - val_loss: 0.1831\n",
      "\n",
      "Epoch 00058: saving model to Networks\\trainingdelta03_irrelevantcp.ckpt\n",
      "Epoch 59/500\n",
      "1965/1965 [==============================] - 244s 124ms/step - loss: 0.1673 - val_loss: 0.1818\n",
      "\n",
      "Epoch 00059: saving model to Networks\\trainingdelta03_irrelevantcp.ckpt\n",
      "Epoch 60/500\n",
      "1965/1965 [==============================] - 243s 124ms/step - loss: 0.1670 - val_loss: 0.1857\n",
      "\n",
      "Epoch 00060: saving model to Networks\\trainingdelta03_irrelevantcp.ckpt\n",
      "Epoch 61/500\n",
      "1965/1965 [==============================] - 244s 124ms/step - loss: 0.1667 - val_loss: 0.1808\n",
      "\n",
      "Epoch 00061: saving model to Networks\\trainingdelta03_irrelevantcp.ckpt\n",
      "15625/15625 - 13s - loss: 0.1784\n"
     ]
    },
    {
     "ename": "TypeError",
     "evalue": "cannot unpack non-iterable float object",
     "output_type": "error",
     "traceback": [
      "\u001b[1;31m---------------------------------------------------------------------------\u001b[0m",
      "\u001b[1;31mTypeError\u001b[0m                                 Traceback (most recent call last)",
      "\u001b[1;32m<ipython-input-9-ce6c805f21ea>\u001b[0m in \u001b[0;36m<module>\u001b[1;34m\u001b[0m\n\u001b[0;32m     23\u001b[0m                   validation_split=0.2, batch_size=20364, shuffle=True, callbacks=callbacks, verbose=1)\n\u001b[0;32m     24\u001b[0m \u001b[1;33m\u001b[0m\u001b[0m\n\u001b[1;32m---> 25\u001b[1;33m \u001b[0mloss\u001b[0m\u001b[1;33m,\u001b[0m \u001b[0macc\u001b[0m \u001b[1;33m=\u001b[0m \u001b[0mmodel\u001b[0m\u001b[1;33m.\u001b[0m\u001b[0mevaluate\u001b[0m\u001b[1;33m(\u001b[0m\u001b[0mX_test\u001b[0m\u001b[1;33m,\u001b[0m \u001b[0my_test\u001b[0m\u001b[1;33m,\u001b[0m \u001b[0mverbose\u001b[0m\u001b[1;33m=\u001b[0m\u001b[1;36m2\u001b[0m\u001b[1;33m)\u001b[0m\u001b[1;33m\u001b[0m\u001b[1;33m\u001b[0m\u001b[0m\n\u001b[0m\u001b[0;32m     26\u001b[0m \u001b[0mprint\u001b[0m\u001b[1;33m(\u001b[0m\u001b[1;34m\"Trained model, accuracy: {:5.2f}%\"\u001b[0m\u001b[1;33m.\u001b[0m\u001b[0mformat\u001b[0m\u001b[1;33m(\u001b[0m\u001b[1;36m100\u001b[0m \u001b[1;33m*\u001b[0m \u001b[0macc\u001b[0m\u001b[1;33m)\u001b[0m\u001b[1;33m)\u001b[0m\u001b[1;33m\u001b[0m\u001b[1;33m\u001b[0m\u001b[0m\n",
      "\u001b[1;31mTypeError\u001b[0m: cannot unpack non-iterable float object"
     ]
    }
   ],
   "source": [
    "\"\"\"\n",
    "Train Model\n",
    "\"\"\"\n",
    "#model.build()\n",
    "# Display the model's architecture\n",
    "#model.summary()\n",
    "\n",
    "\n",
    "\n",
    "# Create a callback that saves the model's weights\n",
    "cp_callback = tf.keras.callbacks.ModelCheckpoint(filepath=checkpoint_path,\n",
    "                                                 save_weights_only=True,\n",
    "                                                 verbose=1)\n",
    "callbacks = [cp_callback,\n",
    "             tf.keras.callbacks.EarlyStopping(monitor='val_loss', patience=3),\n",
    "             tf.keras.callbacks.EarlyStopping(monitor='loss', patience=3)]\n",
    "\n",
    "pipe = make_pipeline(scaler, model)\n",
    "\n",
    "history=model.fit(X_train, y_train, steps_per_epoch=None, epochs=500, \n",
    "                  validation_split=0.2, batch_size=20364, shuffle=True, callbacks=callbacks, verbose=1)\n",
    "\n",
    "loss = model.evaluate(X_test, y_test, verbose=1)\n",
    "print(\"Trained model, loss: {:5.2f}%\".format(loss))"
   ]
  },
  {
   "cell_type": "code",
   "execution_count": 9,
   "id": "4fe4e216",
   "metadata": {},
   "outputs": [
    {
     "name": "stdout",
     "output_type": "stream",
     "text": [
      "15625/15625 - 10s - loss: 1.0985\n",
      "Untrained model, loss:  1.10%\n",
      "15625/15625 [==============================] - 11s 695us/step - loss: 0.1784\n",
      "Trained model, loss:  0.18%\n"
     ]
    }
   ],
   "source": [
    "\"\"\"\n",
    "Load Model\n",
    "\"\"\"\n",
    "# Evaluate the model\n",
    "loss = model.evaluate(X_test, y_test, verbose=2)\n",
    "print(\"Untrained model, loss: {:5.2f}%\".format(loss))\n",
    "\n",
    "# Loads the weights\n",
    "model.load_weights(checkpoint_path)\n",
    "\n",
    "# Re-evaluate the model\n",
    "loss = model.evaluate(X_test, y_test, verbose=1)\n",
    "print(\"Trained model, loss: {:5.2f}%\".format(loss))"
   ]
  },
  {
   "cell_type": "code",
   "execution_count": 10,
   "id": "ultimate-pillow",
   "metadata": {},
   "outputs": [],
   "source": [
    "class TrueModel():\n",
    "    \"\"\"\n",
    "    Class to represent the True Model of the Duffing oscillator.\n",
    "    Uses the scipy odeint integrator to perform time evolution.\n",
    "    \n",
    "    Methods:\n",
    "    -----------\n",
    "    predict(X):\n",
    "        Inputs:\n",
    "        --------\n",
    "        X: pandas DataFrame with at least columns x0,v0,t\n",
    "        Returns:\n",
    "        --------\n",
    "        y: pandas DataFrame with columns xt,vt\n",
    "    \"\"\"\n",
    "    def __init__(self, scaler):\n",
    "        self.alpha=-1\n",
    "        self.beta=1\n",
    "        self.delta=1#0.3\n",
    "        self.gamma=0.37\n",
    "        self.omega=1.2\n",
    "        self.scaler = scaler\n",
    "        \n",
    "    def eom(self, u, t):\n",
    "        x, dx = u[0], u[1]\n",
    "        ddx= self.gamma * np.cos(self.omega * t) - (self.delta * dx + self.alpha*x + self.beta * x**3)\n",
    "        return [dx,ddx]\n",
    "    \n",
    "    def predict(self, X):\n",
    "        X = pd.DataFrame(self.scaler.inverse_transform(X), columns=['x0','v0','t','r'])\n",
    "        y = np.ones((np.shape(X)[0], 2))\n",
    "        for i in range(0,np.shape(X)[0]):\n",
    "            t_range = np.linspace(0, X['t'].iloc[i], 500, endpoint=False)\n",
    "            y[i,:] = odeint(self.eom, [X['x0'].iloc[i],X['v0'].iloc[i]], t_range)[-1]\n",
    "        y = pd.DataFrame(y, columns=['xt','vt'])    \n",
    "        return y\n"
   ]
  },
  {
   "cell_type": "markdown",
   "id": "a315e4bc",
   "metadata": {},
   "source": [
    "## Evaluation and Visualisation of Results:\n",
    "\n",
    "To be able to visualise the error we remove outliers (top 5% of absolute error). This ensures that the rare misclassifications don't drag the x-axis of our error plot out too far.\n",
    "\n"
   ]
  },
  {
   "cell_type": "code",
   "execution_count": 11,
   "id": "absent-aaron",
   "metadata": {},
   "outputs": [
    {
     "ename": "NameError",
     "evalue": "name 'history' is not defined",
     "output_type": "error",
     "traceback": [
      "\u001b[1;31m---------------------------------------------------------------------------\u001b[0m",
      "\u001b[1;31mNameError\u001b[0m                                 Traceback (most recent call last)",
      "\u001b[1;32m<ipython-input-11-e917734aed48>\u001b[0m in \u001b[0;36m<module>\u001b[1;34m\u001b[0m\n\u001b[0;32m      1\u001b[0m \u001b[1;31m# evaluate the fitting validation and training losses\u001b[0m\u001b[1;33m\u001b[0m\u001b[1;33m\u001b[0m\u001b[1;33m\u001b[0m\u001b[0m\n\u001b[1;32m----> 2\u001b[1;33m \u001b[0mloss\u001b[0m \u001b[1;33m=\u001b[0m \u001b[0mhistory\u001b[0m\u001b[1;33m.\u001b[0m\u001b[0mhistory\u001b[0m\u001b[1;33m[\u001b[0m\u001b[1;34m'loss'\u001b[0m\u001b[1;33m]\u001b[0m\u001b[1;33m\u001b[0m\u001b[1;33m\u001b[0m\u001b[0m\n\u001b[0m\u001b[0;32m      3\u001b[0m \u001b[0mval_loss\u001b[0m \u001b[1;33m=\u001b[0m \u001b[0mhistory\u001b[0m\u001b[1;33m.\u001b[0m\u001b[0mhistory\u001b[0m\u001b[1;33m[\u001b[0m\u001b[1;34m'val_loss'\u001b[0m\u001b[1;33m]\u001b[0m\u001b[1;33m\u001b[0m\u001b[1;33m\u001b[0m\u001b[0m\n\u001b[0;32m      4\u001b[0m \u001b[0mepochs\u001b[0m \u001b[1;33m=\u001b[0m \u001b[0mrange\u001b[0m\u001b[1;33m(\u001b[0m\u001b[1;36m1\u001b[0m\u001b[1;33m,\u001b[0m \u001b[0mlen\u001b[0m\u001b[1;33m(\u001b[0m\u001b[0mloss\u001b[0m\u001b[1;33m)\u001b[0m \u001b[1;33m+\u001b[0m \u001b[1;36m1\u001b[0m\u001b[1;33m)\u001b[0m\u001b[1;33m\u001b[0m\u001b[1;33m\u001b[0m\u001b[0m\n\u001b[0;32m      5\u001b[0m \u001b[1;33m\u001b[0m\u001b[0m\n",
      "\u001b[1;31mNameError\u001b[0m: name 'history' is not defined"
     ]
    }
   ],
   "source": [
    "# evaluate the fitting validation and training losses\n",
    "loss = history.history['loss']\n",
    "val_loss = history.history['val_loss']\n",
    "epochs = range(1, len(loss) + 1)\n",
    "\n",
    "## Make Prdictions on the Test Dataset\n",
    "y_pred = pd.DataFrame(model.predict(X_test), columns=['xt','vt'])\n",
    "\n",
    "pred_norm = np.linalg.norm(y_pred[['xt','vt']].values,axis=1)\n",
    "true_norm = np.linalg.norm(y_test[['xt','vt']].values,axis=1)\n",
    "hist_data = np.abs(pred_norm-true_norm)/np.abs(true_norm)\n",
    "hist_data = pd.DataFrame(hist_data, columns=['norm'])\n",
    "\n",
    "def Remove_Outlier_Indices(df):\n",
    "    Q1 = df.quantile(0.00)\n",
    "    Q3 = df.quantile(0.95)\n",
    "    IQR = Q3 - Q1\n",
    "    trueList = ~((df > (Q3 + 1.5 * IQR)))\n",
    "    #trueList = ~((df < (Q1 - 1.5 * IQR)) |(df > (Q3 + 1.5 * IQR)))\n",
    "    return trueList\n",
    "\n",
    "indices = Remove_Outlier_Indices(hist_data)\n",
    "hist_data = hist_data[indices]"
   ]
  },
  {
   "cell_type": "code",
   "execution_count": 14,
   "id": "a4a11f21",
   "metadata": {},
   "outputs": [
    {
     "name": "stderr",
     "output_type": "stream",
     "text": [
      "You passed a edgecolor/edgecolors ('w') for an unfilled marker ('x').  Matplotlib is ignoring the edgecolor in favor of the facecolor.  This behavior may change in the future.\n",
      "You passed a edgecolor/edgecolors ('w') for an unfilled marker ('x').  Matplotlib is ignoring the edgecolor in favor of the facecolor.  This behavior may change in the future.\n"
     ]
    },
    {
     "data": {
      "image/png": "[encoded data removed]",
      "text/plain": [
       "<Figure size 864x576 with 4 Axes>"
      ]
     },
     "metadata": {},
     "output_type": "display_data"
    }
   ],
   "source": [
    "# Loss Plot ML Model\n",
    "f, axs = plt.subplots(2, 2, figsize=(12, 8), gridspec_kw=dict(width_ratios=[4, 4]))\n",
    "\n",
    "sns.lineplot(data = history.history, x = epochs, y='loss',ax=axs[0,0], label='loss')\n",
    "sns.lineplot(data = history.history, x = epochs, y='val_loss',ax=axs[0,0], label='val_loss')\n",
    "\n",
    "axs[0,0].set_xlabel('Epochs')\n",
    "axs[0,0].set_ylabel('Loss')\n",
    "axs[0,0].set_title(\"Losses by Epoch\")\n",
    "axs[0,0].legend()\n",
    "\n",
    "# Error Plot for ML Predictions\n",
    "sns.histplot(data=hist_data, x = 'norm', kde=False, stat='probability', binwidth=0.01, ax=axs[0,1])\n",
    "\n",
    "axs[0,1].set(xlim=(0, 0.6), ylim=(0, 0.4))\n",
    "axs[0,1].set_xlabel('Error')\n",
    "axs[0,1].set_ylabel('Probability')\n",
    "axs[0,1].set_title(r\"Error Plot $(\\frac{||y_{pred}-y_{true}||}{||y_{true}||})$\")\n",
    "\n",
    "# True Values Plot\n",
    "sns.scatterplot(data = y_test.iloc[:2000,:], x = 'xt', y='vt',ax=axs[1,0],label='true_values', marker='x', linewidth = 1)\n",
    "\n",
    "axs[1,0].set(xlim=(-2, 2), ylim=(-2, 2))\n",
    "axs[1,0].set_xlabel('x [ ]')\n",
    "axs[1,0].set_ylabel('v [ ]')\n",
    "axs[1,0].set_title(\"Phase Space Plot (True Model)\")\n",
    "\n",
    "# ML Values Plot\n",
    "sns.scatterplot(data = y_pred.iloc[:2000,:], x='xt', y='vt',ax=axs[1,1],label='pred_values',  marker='x', linewidth = 1)\n",
    "\n",
    "axs[1,1].set(xlim=(-2, 2), ylim=(-2, 2))\n",
    "axs[1,1].set_xlabel('x [ ]')\n",
    "axs[1,1].set_ylabel('v [ ]')\n",
    "axs[1,1].set_title(\"Phase Space Plot (ML Model)\")\n",
    "\n",
    "f.tight_layout()\n",
    "\n",
    "f.savefig(\"Images/model_summary\"+suffix+\".svg\", dpi='figure')"
   ]
  },
  {
   "cell_type": "code",
   "execution_count": 15,
   "id": "2b68b2b8",
   "metadata": {},
   "outputs": [],
   "source": [
    "true_model = TrueModel(scaler)\n",
    "\n",
    "shap.sample(data, K)\n",
    "\n",
    "kernel_model_x0 = shap.KernelExplainer(model.predict, background)\n",
    "kernel_model_values_x0 = kernel_model_x0.shap_values(shap_data_good)\n",
    "\n",
    "background = shap.sample(X_train, 100)\n",
    "#background = X_train.iloc[np.random.choice(X_train.shape[0], 100000, replace=False)]\n",
    "shap_data = X_test.iloc[np.random.choice(X_test.shape[0], 10000, replace=False)]\n",
    "\n",
    "kernel_model_x0 = shap.KernelExplainer(model.predict, background)\n",
    "kernel_model_values_x0 = kernel_model_x0.shap_values(shap_data_good)\n",
    "true_explainer_partition = shap.explainers.Partition(true_model.predict, background)\n",
    "explainer_partition = shap.explainers.Partition(model.predict, background)"
   ]
  },
  {
   "cell_type": "code",
   "execution_count": 91,
   "id": "ec0de850",
   "metadata": {},
   "outputs": [],
   "source": [
    "true_model = TrueModel(scaler)\n",
    "\n",
    "background = shap.sample(X_train, 100)\n",
    "\n",
    "kernel_model = shap.KernelExplainer(model.predict, background)\n",
    "kernel_true = shap.KernelExplainer(true_model.predict, background)"
   ]
  },
  {
   "cell_type": "markdown",
   "id": "4d7141be",
   "metadata": {},
   "source": [
    "### Ordered \n",
    "\n",
    "Lets choose a spectrum of values that have similar v0 and t whilst x0 varies from -2 to 2:\n"
   ]
  },
  {
   "cell_type": "markdown",
   "id": "f136be1f",
   "metadata": {},
   "source": [
    "## Good Values\n",
    "Only looking at good predictions: $|y_{pred}-y_{true}| < 0.1$"
   ]
  },
  {
   "cell_type": "code",
   "execution_count": 114,
   "id": "8af5264a",
   "metadata": {},
   "outputs": [],
   "source": [
    "vals = np.abs(np.linalg.norm(model.predict(X_test), axis=1)- np.linalg.norm(y_test, axis=1))\n",
    "\n",
    "X_test_good = X_test.iloc[np.where(vals < 0.1)]\n",
    "\n",
    "\n",
    "shap_data_x0 = X_test_good.sort_values(by='x0').iloc[np.where(np.multiply(np.abs(scaler.inverse_transform(X_test_good)[:,1])<0.2,\n",
    "                                                                        np.abs(scaler.inverse_transform(X_test_good)[:,2]-50)<5))]\n",
    "shap_choice_x0 = shap_data_x0.iloc[np.sort(np.random.choice(shap_data_x0.shape[0], 100, replace=False))]\n",
    "shap_choice_x0 = pd.DataFrame(shap_choice_x0.values, columns = X_test.columns)\n",
    "\n",
    "\n",
    "shap_data_v0 = X_test_good.sort_values(by='v0').iloc[np.where(np.multiply(np.abs(scaler.inverse_transform(X_test_good)[:,0])<0.5,\n",
    "                                                                        np.abs(scaler.inverse_transform(X_test_good)[:,2]-50)<5))]\n",
    "shap_choice_v0 = shap_data_v0.iloc[np.sort(np.random.choice(shap_data_v0.shape[0], 100, replace=False))]\n",
    "shap_choice_v0 = pd.DataFrame(shap_choice_v0.values, columns = X_test.columns)\n",
    "\n",
    "\n",
    "shap_data_t = X_test_good.sort_values(by='t').iloc[np.where(np.multiply(np.abs(scaler.inverse_transform(X_test_good)[:,1])<0.2,\n",
    "                                                                        np.abs(scaler.inverse_transform(X_test_good)[:,0])<0.5))]\n",
    "shap_choice_t = shap_data_t.iloc[np.sort(np.random.choice(shap_data_t.shape[0], 100, replace=False))]\n",
    "shap_choice_t = pd.DataFrame(shap_choice_t.values, columns = X_test.columns)"
   ]
  },
  {
   "cell_type": "code",
   "execution_count": 115,
   "id": "f74427df",
   "metadata": {},
   "outputs": [
    {
     "data": {
      "application/vnd.jupyter.widget-view+json": {
       "model_id": "747bcafb96d24bb6ba815f634b9f3909",
       "version_major": 2,
       "version_minor": 0
      },
      "text/plain": [
       "  0%|          | 0/100 [00:00<?, ?it/s]"
      ]
     },
     "metadata": {},
     "output_type": "display_data"
    },
    {
     "data": {
      "application/vnd.jupyter.widget-view+json": {
       "model_id": "3b78ca08c18f4aa7a1fc3d43e966ff3b",
       "version_major": 2,
       "version_minor": 0
      },
      "text/plain": [
       "  0%|          | 0/100 [00:00<?, ?it/s]"
      ]
     },
     "metadata": {},
     "output_type": "display_data"
    },
    {
     "data": {
      "application/vnd.jupyter.widget-view+json": {
       "model_id": "5422122d791b4e89968c73f86ba973bb",
       "version_major": 2,
       "version_minor": 0
      },
      "text/plain": [
       "  0%|          | 0/100 [00:00<?, ?it/s]"
      ]
     },
     "metadata": {},
     "output_type": "display_data"
    },
    {
     "data": {
      "application/vnd.jupyter.widget-view+json": {
       "model_id": "548d9986905d4cb1be37df18048b9f38",
       "version_major": 2,
       "version_minor": 0
      },
      "text/plain": [
       "  0%|          | 0/100 [00:00<?, ?it/s]"
      ]
     },
     "metadata": {},
     "output_type": "display_data"
    },
    {
     "data": {
      "application/vnd.jupyter.widget-view+json": {
       "model_id": "d270c1db039542818330e0ab1fe31a13",
       "version_major": 2,
       "version_minor": 0
      },
      "text/plain": [
       "  0%|          | 0/100 [00:00<?, ?it/s]"
      ]
     },
     "metadata": {},
     "output_type": "display_data"
    },
    {
     "data": {
      "application/vnd.jupyter.widget-view+json": {
       "model_id": "8f5c58759401492b93cc4565e6e59f7c",
       "version_major": 2,
       "version_minor": 0
      },
      "text/plain": [
       "  0%|          | 0/100 [00:00<?, ?it/s]"
      ]
     },
     "metadata": {},
     "output_type": "display_data"
    }
   ],
   "source": [
    "sorted_true_values_x0 = kernel_true.shap_values(shap_choice_x0)\n",
    "sorted_model_values_x0 = kernel_model.shap_values(shap_choice_x0)\n",
    "\n",
    "sorted_true_values_v0 = kernel_true.shap_values(shap_choice_v0)\n",
    "sorted_model_values_v0 = kernel_model.shap_values(shap_choice_v0)\n",
    "\n",
    "sorted_true_values_t = kernel_true.shap_values(shap_choice_t)\n",
    "sorted_model_values_t = kernel_model.shap_values(shap_choice_t)"
   ]
  },
  {
   "cell_type": "code",
   "execution_count": null,
   "id": "1e5ecbe0",
   "metadata": {},
   "outputs": [],
   "source": [
    "true_plot_data_x0_xt = pd.DataFrame(sorted_true_values_x0[0], columns = X_test.columns)\n",
    "\n",
    "true_plot_data_v0_xt = pd.DataFrame(sorted_true_values_v0[0], columns = X_test.columns)\n",
    "\n",
    "true_plot_data_t_xt = pd.DataFrame(sorted_true_values_t[0], columns = X_test.columns)\n",
    "\n",
    "true_plot_data_x0_vt = pd.DataFrame(sorted_true_values_x0[1], columns = X_test.columns)\n",
    "\n",
    "true_plot_data_v0_vt = pd.DataFrame(sorted_true_values_v0[1], columns = X_test.columns)\n",
    "\n",
    "true_plot_data_t_vt = pd.DataFrame(sorted_true_values_t[1], columns = X_test.columns)\n",
    "\n",
    "\n",
    "model_plot_data_x0_xt = pd.DataFrame(sorted_model_values_x0[0], columns = X_test.columns)\n",
    "\n",
    "model_plot_data_v0_xt = pd.DataFrame(sorted_model_values_v0[0], columns = X_test.columns)\n",
    "\n",
    "model_plot_data_t_xt = pd.DataFrame(sorted_model_values_t[0], columns = X_test.columns)\n",
    "\n",
    "model_plot_data_x0_vt = pd.DataFrame(sorted_model_values_x0[1], columns = X_test.columns)\n",
    "\n",
    "model_plot_data_v0_vt = pd.DataFrame(sorted_model_values_v0[1], columns = X_test.columns)\n",
    "\n",
    "model_plot_data_t_vt = pd.DataFrame(sorted_model_values_t[1], columns = X_test.columns)"
   ]
  },
  {
   "cell_type": "code",
   "execution_count": null,
   "id": "1cf7246f",
   "metadata": {},
   "outputs": [],
   "source": [
    "f, axs = plt.subplots(2, 4, figsize=(16, 8), gridspec_kw=dict(width_ratios=[4, 4, 4, 4]))\n",
    "\n",
    "sns.scatterplot(data = model_plot_data_x0_xt, x = model_plot_data_x0_xt.index,  y='x0', label = 'model', ax=axs[0,0])\n",
    "sns.scatterplot(data = true_plot_data_x0_xt, x = true_plot_data_x0_xt.index,  y='x0', label='true',ax=axs[0,0])\n",
    "axs[0,0].set_title(r\"Feature Contribution of $x_0$ to $x_t$\")\n",
    "axs[0,0].set_xlabel('Index [ ]')\n",
    "axs[0,0].set_ylabel('Feature Contribution [ ]')\n",
    "\n",
    "sns.scatterplot(data = model_plot_data_v0_xt, x = model_plot_data_v0_xt.index,  y='v0', label = 'model', ax=axs[0,1])\n",
    "sns.scatterplot(data = true_plot_data_v0_xt, x = true_plot_data_v0_xt.index,  y='v0', label='true',ax=axs[0,1])\n",
    "axs[0,1].set_title(r\"Feature Contribution of $v_0$ to $x_t$\")\n",
    "axs[0,1].set_xlabel('Index [ ]')\n",
    "axs[0,1].set_ylabel('Feature Contribution [ ]')\n",
    "\n",
    "sns.scatterplot(data = model_plot_data_t_xt, x = model_plot_data_t_xt.index,  y='t', label = 'model', ax=axs[0,2])\n",
    "sns.scatterplot(data = true_plot_data_t_xt, x = true_plot_data_t_xt.index,  y='t', label='true',ax=axs[0,2])\n",
    "axs[0,2].set_title(r\"Feature Contribution of $t$ to $x_t$\")\n",
    "axs[0,2].set_xlabel('Index [ ]')\n",
    "axs[0,2].set_ylabel('Feature Contribution [ ]')\n",
    "\n",
    "sns.scatterplot(data = model_plot_data_x0_vt, x = model_plot_data_x0_vt.index,  y='x0', label = 'model', ax=axs[1,0])\n",
    "sns.scatterplot(data = true_plot_data_x0_vt, x = true_plot_data_x0_vt.index,  y='x0', label='true',ax=axs[1,0])\n",
    "axs[1,0].set_title(r\"Feature Contribution of $x_0$ to $v_t$\")\n",
    "axs[1,0].set_xlabel('Index [ ]')\n",
    "axs[1,0].set_ylabel('Feature Contribution [ ]')\n",
    "\n",
    "sns.scatterplot(data = model_plot_data_v0_vt, x =model_plot_data_v0_vt.index,  y='v0', label = 'model', ax=axs[1,1])\n",
    "sns.scatterplot(data = true_plot_data_v0_vt, x = true_plot_data_v0_vt.index,  y='v0', label='true',ax=axs[1,1])\n",
    "axs[1,1].set_title(r\"Feature Contribution of $v_0$ to $v_t$\")\n",
    "axs[1,1].set_xlabel('Index [ ]')\n",
    "axs[1,1].set_ylabel('Feature Contribution [ ]')\n",
    "\n",
    "sns.scatterplot(data = model_plot_data_t_vt, x = model_plot_data_t_vt.index,  y='t', label = 'model', ax=axs[1,2])\n",
    "sns.scatterplot(data = true_plot_data_t_vt, x = true_plot_data_t_vt.index,  y='t', label='true',ax=axs[1,2])\n",
    "axs[1,2].set_title(r\"Feature Contribution of $t$ to $v_t$\")\n",
    "axs[1,2].set_xlabel('Index [ ]')\n",
    "axs[1,2].set_ylabel('Feature Contribution [ ]')\n",
    "\n",
    "sns.scatterplot(data = model_plot_data_x0_xt, x = model_plot_data_x0_xt.index,  y='rand', label = 'model', ax=axs[0,3])\n",
    "sns.scatterplot(data = true_plot_data_x0_xt, x = true_plot_data_x0_xt.index,  y='rand', label='true',ax=axs[0,3])\n",
    "axs[0,3].set_title(r\"Feature Contribution of $r$ to $x_t$\")\n",
    "axs[0,3].set_xlabel('Index [ ]')\n",
    "axs[0,3].set_ylabel('Feature Contribution [ ]')\n",
    "\n",
    "sns.scatterplot(data = model_plot_data_x0_vt, x = model_plot_data_x0_vt.index,  y='rand', label = 'model', ax=axs[1,3])\n",
    "sns.scatterplot(data = true_plot_data_x0_vt, x = true_plot_data_x0_vt.index,  y='rand', label='true',ax=axs[1,3])\n",
    "axs[1,3].set_title(r\"Feature Contribution of $r$ to $v_t$\")\n",
    "axs[1,3].set_xlabel('Index [ ]')\n",
    "axs[1,3].set_ylabel('Feature Contribution [ ]')\n",
    "\n",
    "f.tight_layout()\n",
    "\n",
    "f.savefig(\"Images/shap_summary\"+suffix+\"_kernel_good.svg\", dpi='figure')"
   ]
  },
  {
   "cell_type": "code",
   "execution_count": null,
   "id": "4f0d14cf",
   "metadata": {},
   "outputs": [],
   "source": [
    "def shap_aggregation_mean(x, model, scaler=scaler):\n",
    "    x.values\n",
    "    x.data\n",
    "    x.base_values\n",
    "    matrix = np.empty((len(x.values), 3, 3))\n",
    "    aggregate = np.zeros((3,2))\n",
    "    pred_values = model.predict(x.data)\n",
    "    \n",
    "    for i in range(len(x.values)):\n",
    "        x_t_attribution = np.abs(x.values[i][:,0])\n",
    "        v_t_attribution = np.abs(x.values[i][:,1])\n",
    "        aggregate = aggregate + np.hstack((x_t_attribution.reshape((3,1)), v_t_attribution.reshape((3,1))))\n",
    "        \n",
    "    aggregate = aggregate/len(x.values)\n",
    "    aggregate = pd.DataFrame(aggregate, columns = ['xt', 'vt'], index = ['x0','v0','t'])\n",
    "    \n",
    "    return matrix , aggregate"
   ]
  },
  {
   "cell_type": "code",
   "execution_count": null,
   "id": "ebc7fe10",
   "metadata": {},
   "outputs": [],
   "source": [
    "true_matrix, true_aggregate = shap_aggregation_mean(true_values_partition, true_model)\n",
    "\n",
    "model_matrix, model_aggregate = shap_aggregation_mean(model_values_partition, model)"
   ]
  },
  {
   "cell_type": "code",
   "execution_count": null,
   "id": "20d545a9",
   "metadata": {},
   "outputs": [],
   "source": [
    "f, axs = plt.subplots(2, 2, figsize=(12, 8), gridspec_kw=dict(width_ratios=[4, 4]))\n",
    "\n",
    "sns.barplot(data = true_aggregate, x = true_aggregate.index,  y='xt', label = 'xt', ax=axs[0,0])\n",
    "axs[0,0].set_title(r\"Aggregate Feature Contribution to $x_t$ in the True Model\")\n",
    "axs[0,0].set_ylabel('Feature Contribution [ ]')\n",
    "\n",
    "sns.barplot(data = true_aggregate, x = true_aggregate.index,  y='vt', label = 'vt', ax=axs[0,1])\n",
    "axs[0,1].set_title(r\"Aggregate Feature Contribution to $v_t$ in the True Model\")\n",
    "axs[0,1].set_ylabel('Feature Contribution [ ]')\n",
    "\n",
    "sns.barplot(data = model_aggregate, x = true_aggregate.index,  y='xt', label = 'xt', ax=axs[1,0])\n",
    "axs[1,0].set_title(r\"Aggregate Feature Contribution to $x_t$ in the ML Model\")\n",
    "axs[1,0].set_ylabel('Feature Contribution [ ]')\n",
    "\n",
    "sns.barplot(data = model_aggregate, x = model_aggregate.index,  y='vt', label = 'vt', ax=axs[1,1])\n",
    "axs[1,1].set_title(r\"Aggregate Feature Contribution to $v_t$ in the ML Model\")\n",
    "axs[1,1].set_ylabel('Feature Contribution [ ]')\n",
    "\n",
    "f.tight_layout()\n",
    "\n",
    "f.savefig(\"Images/shap_aggregated\"+suffix+\".svg\", dpi='figure')"
   ]
  },
  {
   "cell_type": "markdown",
   "id": "9d679652",
   "metadata": {},
   "source": [
    "## Lime\n",
    "\n",
    "Using SHAP's LimeTabular for explainability"
   ]
  },
  {
   "cell_type": "code",
   "execution_count": 109,
   "id": "615fe5f9",
   "metadata": {},
   "outputs": [
    {
     "ename": "TypeError",
     "evalue": "__init__() got an unexpected keyword argument 'algorithm'",
     "output_type": "error",
     "traceback": [
      "\u001b[1;31m---------------------------------------------------------------------------\u001b[0m",
      "\u001b[1;31mTypeError\u001b[0m                                 Traceback (most recent call last)",
      "\u001b[1;32m<ipython-input-109-409264a7471f>\u001b[0m in \u001b[0;36m<module>\u001b[1;34m\u001b[0m\n\u001b[1;32m----> 1\u001b[1;33m \u001b[0mLIME_model\u001b[0m \u001b[1;33m=\u001b[0m \u001b[0mshap\u001b[0m\u001b[1;33m.\u001b[0m\u001b[0mother\u001b[0m\u001b[1;33m.\u001b[0m\u001b[0mLimeTabular\u001b[0m\u001b[1;33m(\u001b[0m\u001b[0mmodel\u001b[0m\u001b[1;33m.\u001b[0m\u001b[0mpredict\u001b[0m\u001b[1;33m,\u001b[0m \u001b[0mbackground\u001b[0m\u001b[1;33m,\u001b[0m \u001b[0mmode\u001b[0m\u001b[1;33m=\u001b[0m\u001b[1;34m\"regression\"\u001b[0m\u001b[1;33m,\u001b[0m \u001b[0malgorithm\u001b[0m \u001b[1;33m=\u001b[0m \u001b[1;34m'kernel'\u001b[0m\u001b[1;33m)\u001b[0m\u001b[1;33m\u001b[0m\u001b[1;33m\u001b[0m\u001b[0m\n\u001b[0m\u001b[0;32m      2\u001b[0m \u001b[0mLIME_true\u001b[0m \u001b[1;33m=\u001b[0m \u001b[0mshap\u001b[0m\u001b[1;33m.\u001b[0m\u001b[0mother\u001b[0m\u001b[1;33m.\u001b[0m\u001b[0mLimeTabular\u001b[0m\u001b[1;33m(\u001b[0m\u001b[0mtrue_model\u001b[0m\u001b[1;33m.\u001b[0m\u001b[0mpredict\u001b[0m\u001b[1;33m,\u001b[0m \u001b[0mbackground\u001b[0m\u001b[1;33m,\u001b[0m \u001b[0mmode\u001b[0m\u001b[1;33m=\u001b[0m\u001b[1;34m\"regression\"\u001b[0m\u001b[1;33m,\u001b[0m \u001b[0malgorithm\u001b[0m \u001b[1;33m=\u001b[0m \u001b[1;34m'kernel'\u001b[0m\u001b[1;33m)\u001b[0m\u001b[1;33m\u001b[0m\u001b[1;33m\u001b[0m\u001b[0m\n",
      "\u001b[1;31mTypeError\u001b[0m: __init__() got an unexpected keyword argument 'algorithm'"
     ]
    }
   ],
   "source": [
    "LIME_model = shap.other.LimeTabular(model.predict, background, mode=\"regression\", algorithm = 'kernel')\n",
    "LIME_true = shap.other.LimeTabular(true_model.predict, background, mode=\"regression\", algorithm = 'kernel')"
   ]
  },
  {
   "cell_type": "code",
   "execution_count": 110,
   "id": "63c1f779",
   "metadata": {},
   "outputs": [
    {
     "data": {
      "text/plain": [
       "4"
      ]
     },
     "execution_count": 110,
     "metadata": {},
     "output_type": "execute_result"
    }
   ],
   "source": [
    "shap_choice_x0.shape[1]"
   ]
  },
  {
   "cell_type": "code",
   "execution_count": 111,
   "id": "f9483c3e",
   "metadata": {},
   "outputs": [],
   "source": [
    "LIME_sorted_model_values_x0 = LIME_model.attributions(shap_choice_x0)"
   ]
  },
  {
   "cell_type": "code",
   "execution_count": 104,
   "id": "55dd26e8",
   "metadata": {},
   "outputs": [
    {
     "ename": "KeyError",
     "evalue": "0",
     "output_type": "error",
     "traceback": [
      "\u001b[1;31m---------------------------------------------------------------------------\u001b[0m",
      "\u001b[1;31mKeyError\u001b[0m                                  Traceback (most recent call last)",
      "\u001b[1;32mD:\\Anaconda\\envs\\XAI\\lib\\site-packages\\pandas\\core\\indexes\\base.py\u001b[0m in \u001b[0;36mget_loc\u001b[1;34m(self, key, method, tolerance)\u001b[0m\n\u001b[0;32m   3079\u001b[0m             \u001b[1;32mtry\u001b[0m\u001b[1;33m:\u001b[0m\u001b[1;33m\u001b[0m\u001b[1;33m\u001b[0m\u001b[0m\n\u001b[1;32m-> 3080\u001b[1;33m                 \u001b[1;32mreturn\u001b[0m \u001b[0mself\u001b[0m\u001b[1;33m.\u001b[0m\u001b[0m_engine\u001b[0m\u001b[1;33m.\u001b[0m\u001b[0mget_loc\u001b[0m\u001b[1;33m(\u001b[0m\u001b[0mcasted_key\u001b[0m\u001b[1;33m)\u001b[0m\u001b[1;33m\u001b[0m\u001b[1;33m\u001b[0m\u001b[0m\n\u001b[0m\u001b[0;32m   3081\u001b[0m             \u001b[1;32mexcept\u001b[0m \u001b[0mKeyError\u001b[0m \u001b[1;32mas\u001b[0m \u001b[0merr\u001b[0m\u001b[1;33m:\u001b[0m\u001b[1;33m\u001b[0m\u001b[1;33m\u001b[0m\u001b[0m\n",
      "\u001b[1;32mpandas\\_libs\\index.pyx\u001b[0m in \u001b[0;36mpandas._libs.index.IndexEngine.get_loc\u001b[1;34m()\u001b[0m\n",
      "\u001b[1;32mpandas\\_libs\\index.pyx\u001b[0m in \u001b[0;36mpandas._libs.index.IndexEngine.get_loc\u001b[1;34m()\u001b[0m\n",
      "\u001b[1;32mpandas\\_libs\\hashtable_class_helper.pxi\u001b[0m in \u001b[0;36mpandas._libs.hashtable.PyObjectHashTable.get_item\u001b[1;34m()\u001b[0m\n",
      "\u001b[1;32mpandas\\_libs\\hashtable_class_helper.pxi\u001b[0m in \u001b[0;36mpandas._libs.hashtable.PyObjectHashTable.get_item\u001b[1;34m()\u001b[0m\n",
      "\u001b[1;31mKeyError\u001b[0m: 0",
      "\nThe above exception was the direct cause of the following exception:\n",
      "\u001b[1;31mKeyError\u001b[0m                                  Traceback (most recent call last)",
      "\u001b[1;32m<ipython-input-104-e18b4f1cbaf3>\u001b[0m in \u001b[0;36m<module>\u001b[1;34m\u001b[0m\n\u001b[1;32m----> 1\u001b[1;33m \u001b[0mLIME_sorted_true_values_x0\u001b[0m \u001b[1;33m=\u001b[0m \u001b[0mLIME_true\u001b[0m\u001b[1;33m.\u001b[0m\u001b[0mattributions\u001b[0m\u001b[1;33m(\u001b[0m\u001b[0mshap_choice_x0\u001b[0m\u001b[1;33m)\u001b[0m\u001b[1;33m\u001b[0m\u001b[1;33m\u001b[0m\u001b[0m\n\u001b[0m\u001b[0;32m      2\u001b[0m \u001b[0mLIME_sorted_model_values_x0\u001b[0m \u001b[1;33m=\u001b[0m \u001b[0mLIME_model\u001b[0m\u001b[1;33m.\u001b[0m\u001b[0mattributions\u001b[0m\u001b[1;33m(\u001b[0m\u001b[0mshap_choice_x0\u001b[0m\u001b[1;33m)\u001b[0m\u001b[1;33m\u001b[0m\u001b[1;33m\u001b[0m\u001b[0m\n\u001b[0;32m      3\u001b[0m \u001b[1;33m\u001b[0m\u001b[0m\n\u001b[0;32m      4\u001b[0m \u001b[0mLIME_sorted_true_values_v0\u001b[0m \u001b[1;33m=\u001b[0m \u001b[0mLIME_true\u001b[0m\u001b[1;33m.\u001b[0m\u001b[0mattributions\u001b[0m\u001b[1;33m(\u001b[0m\u001b[0mshap_choice_v0\u001b[0m\u001b[1;33m)\u001b[0m\u001b[1;33m\u001b[0m\u001b[1;33m\u001b[0m\u001b[0m\n\u001b[0;32m      5\u001b[0m \u001b[0mLIME_sorted_model_values_v0\u001b[0m \u001b[1;33m=\u001b[0m \u001b[0mLIME_model\u001b[0m\u001b[1;33m.\u001b[0m\u001b[0mattributions\u001b[0m\u001b[1;33m(\u001b[0m\u001b[0mshap_choice_v0\u001b[0m\u001b[1;33m)\u001b[0m\u001b[1;33m\u001b[0m\u001b[1;33m\u001b[0m\u001b[0m\n",
      "\u001b[1;32mD:\\Anaconda\\envs\\XAI\\lib\\site-packages\\shap\\explainers\\other\\_lime.py\u001b[0m in \u001b[0;36mattributions\u001b[1;34m(self, X, nsamples, num_features)\u001b[0m\n\u001b[0;32m     56\u001b[0m         \u001b[0mout\u001b[0m \u001b[1;33m=\u001b[0m \u001b[1;33m[\u001b[0m\u001b[0mnp\u001b[0m\u001b[1;33m.\u001b[0m\u001b[0mzeros\u001b[0m\u001b[1;33m(\u001b[0m\u001b[0mX\u001b[0m\u001b[1;33m.\u001b[0m\u001b[0mshape\u001b[0m\u001b[1;33m)\u001b[0m \u001b[1;32mfor\u001b[0m \u001b[0mj\u001b[0m \u001b[1;32min\u001b[0m \u001b[0mrange\u001b[0m\u001b[1;33m(\u001b[0m\u001b[0mself\u001b[0m\u001b[1;33m.\u001b[0m\u001b[0mout_dim\u001b[0m\u001b[1;33m)\u001b[0m\u001b[1;33m]\u001b[0m\u001b[1;33m\u001b[0m\u001b[1;33m\u001b[0m\u001b[0m\n\u001b[0;32m     57\u001b[0m         \u001b[1;32mfor\u001b[0m \u001b[0mi\u001b[0m \u001b[1;32min\u001b[0m \u001b[0mrange\u001b[0m\u001b[1;33m(\u001b[0m\u001b[0mX\u001b[0m\u001b[1;33m.\u001b[0m\u001b[0mshape\u001b[0m\u001b[1;33m[\u001b[0m\u001b[1;36m0\u001b[0m\u001b[1;33m]\u001b[0m\u001b[1;33m)\u001b[0m\u001b[1;33m:\u001b[0m\u001b[1;33m\u001b[0m\u001b[1;33m\u001b[0m\u001b[0m\n\u001b[1;32m---> 58\u001b[1;33m             \u001b[0mexp\u001b[0m \u001b[1;33m=\u001b[0m \u001b[0mself\u001b[0m\u001b[1;33m.\u001b[0m\u001b[0mexplainer\u001b[0m\u001b[1;33m.\u001b[0m\u001b[0mexplain_instance\u001b[0m\u001b[1;33m(\u001b[0m\u001b[0mX\u001b[0m\u001b[1;33m[\u001b[0m\u001b[0mi\u001b[0m\u001b[1;33m]\u001b[0m\u001b[1;33m,\u001b[0m \u001b[0mself\u001b[0m\u001b[1;33m.\u001b[0m\u001b[0mmodel\u001b[0m\u001b[1;33m,\u001b[0m \u001b[0mlabels\u001b[0m\u001b[1;33m=\u001b[0m\u001b[0mrange\u001b[0m\u001b[1;33m(\u001b[0m\u001b[0mself\u001b[0m\u001b[1;33m.\u001b[0m\u001b[0mout_dim\u001b[0m\u001b[1;33m)\u001b[0m\u001b[1;33m,\u001b[0m \u001b[0mnum_features\u001b[0m\u001b[1;33m=\u001b[0m\u001b[0mnum_features\u001b[0m\u001b[1;33m)\u001b[0m\u001b[1;33m\u001b[0m\u001b[1;33m\u001b[0m\u001b[0m\n\u001b[0m\u001b[0;32m     59\u001b[0m             \u001b[1;32mfor\u001b[0m \u001b[0mj\u001b[0m \u001b[1;32min\u001b[0m \u001b[0mrange\u001b[0m\u001b[1;33m(\u001b[0m\u001b[0mself\u001b[0m\u001b[1;33m.\u001b[0m\u001b[0mout_dim\u001b[0m\u001b[1;33m)\u001b[0m\u001b[1;33m:\u001b[0m\u001b[1;33m\u001b[0m\u001b[1;33m\u001b[0m\u001b[0m\n\u001b[0;32m     60\u001b[0m                 \u001b[1;32mfor\u001b[0m \u001b[0mk\u001b[0m\u001b[1;33m,\u001b[0m\u001b[0mv\u001b[0m \u001b[1;32min\u001b[0m \u001b[0mexp\u001b[0m\u001b[1;33m.\u001b[0m\u001b[0mlocal_exp\u001b[0m\u001b[1;33m[\u001b[0m\u001b[0mj\u001b[0m\u001b[1;33m]\u001b[0m\u001b[1;33m:\u001b[0m\u001b[1;33m\u001b[0m\u001b[1;33m\u001b[0m\u001b[0m\n",
      "\u001b[1;32mD:\\Anaconda\\envs\\XAI\\lib\\site-packages\\lime\\lime_tabular.py\u001b[0m in \u001b[0;36mexplain_instance\u001b[1;34m(self, data_row, predict_fn, labels, top_labels, num_features, num_samples, distance_metric, model_regressor)\u001b[0m\n\u001b[0;32m    383\u001b[0m         \u001b[1;32melse\u001b[0m\u001b[1;33m:\u001b[0m\u001b[1;33m\u001b[0m\u001b[1;33m\u001b[0m\u001b[0m\n\u001b[0;32m    384\u001b[0m             \u001b[1;32mtry\u001b[0m\u001b[1;33m:\u001b[0m\u001b[1;33m\u001b[0m\u001b[1;33m\u001b[0m\u001b[0m\n\u001b[1;32m--> 385\u001b[1;33m                 \u001b[1;32mif\u001b[0m \u001b[0mlen\u001b[0m\u001b[1;33m(\u001b[0m\u001b[0myss\u001b[0m\u001b[1;33m.\u001b[0m\u001b[0mshape\u001b[0m\u001b[1;33m)\u001b[0m \u001b[1;33m!=\u001b[0m \u001b[1;36m1\u001b[0m \u001b[1;32mand\u001b[0m \u001b[0mlen\u001b[0m\u001b[1;33m(\u001b[0m\u001b[0myss\u001b[0m\u001b[1;33m[\u001b[0m\u001b[1;36m0\u001b[0m\u001b[1;33m]\u001b[0m\u001b[1;33m.\u001b[0m\u001b[0mshape\u001b[0m\u001b[1;33m)\u001b[0m \u001b[1;33m==\u001b[0m \u001b[1;36m1\u001b[0m\u001b[1;33m:\u001b[0m\u001b[1;33m\u001b[0m\u001b[1;33m\u001b[0m\u001b[0m\n\u001b[0m\u001b[0;32m    386\u001b[0m                     \u001b[0myss\u001b[0m \u001b[1;33m=\u001b[0m \u001b[0mnp\u001b[0m\u001b[1;33m.\u001b[0m\u001b[0marray\u001b[0m\u001b[1;33m(\u001b[0m\u001b[1;33m[\u001b[0m\u001b[0mv\u001b[0m\u001b[1;33m[\u001b[0m\u001b[1;36m0\u001b[0m\u001b[1;33m]\u001b[0m \u001b[1;32mfor\u001b[0m \u001b[0mv\u001b[0m \u001b[1;32min\u001b[0m \u001b[0myss\u001b[0m\u001b[1;33m]\u001b[0m\u001b[1;33m)\u001b[0m\u001b[1;33m\u001b[0m\u001b[1;33m\u001b[0m\u001b[0m\n\u001b[0;32m    387\u001b[0m                 \u001b[1;32massert\u001b[0m \u001b[0misinstance\u001b[0m\u001b[1;33m(\u001b[0m\u001b[0myss\u001b[0m\u001b[1;33m,\u001b[0m \u001b[0mnp\u001b[0m\u001b[1;33m.\u001b[0m\u001b[0mndarray\u001b[0m\u001b[1;33m)\u001b[0m \u001b[1;32mand\u001b[0m \u001b[0mlen\u001b[0m\u001b[1;33m(\u001b[0m\u001b[0myss\u001b[0m\u001b[1;33m.\u001b[0m\u001b[0mshape\u001b[0m\u001b[1;33m)\u001b[0m \u001b[1;33m==\u001b[0m \u001b[1;36m1\u001b[0m\u001b[1;33m\u001b[0m\u001b[1;33m\u001b[0m\u001b[0m\n",
      "\u001b[1;32mD:\\Anaconda\\envs\\XAI\\lib\\site-packages\\pandas\\core\\frame.py\u001b[0m in \u001b[0;36m__getitem__\u001b[1;34m(self, key)\u001b[0m\n\u001b[0;32m   3022\u001b[0m             \u001b[1;32mif\u001b[0m \u001b[0mself\u001b[0m\u001b[1;33m.\u001b[0m\u001b[0mcolumns\u001b[0m\u001b[1;33m.\u001b[0m\u001b[0mnlevels\u001b[0m \u001b[1;33m>\u001b[0m \u001b[1;36m1\u001b[0m\u001b[1;33m:\u001b[0m\u001b[1;33m\u001b[0m\u001b[1;33m\u001b[0m\u001b[0m\n\u001b[0;32m   3023\u001b[0m                 \u001b[1;32mreturn\u001b[0m \u001b[0mself\u001b[0m\u001b[1;33m.\u001b[0m\u001b[0m_getitem_multilevel\u001b[0m\u001b[1;33m(\u001b[0m\u001b[0mkey\u001b[0m\u001b[1;33m)\u001b[0m\u001b[1;33m\u001b[0m\u001b[1;33m\u001b[0m\u001b[0m\n\u001b[1;32m-> 3024\u001b[1;33m             \u001b[0mindexer\u001b[0m \u001b[1;33m=\u001b[0m \u001b[0mself\u001b[0m\u001b[1;33m.\u001b[0m\u001b[0mcolumns\u001b[0m\u001b[1;33m.\u001b[0m\u001b[0mget_loc\u001b[0m\u001b[1;33m(\u001b[0m\u001b[0mkey\u001b[0m\u001b[1;33m)\u001b[0m\u001b[1;33m\u001b[0m\u001b[1;33m\u001b[0m\u001b[0m\n\u001b[0m\u001b[0;32m   3025\u001b[0m             \u001b[1;32mif\u001b[0m \u001b[0mis_integer\u001b[0m\u001b[1;33m(\u001b[0m\u001b[0mindexer\u001b[0m\u001b[1;33m)\u001b[0m\u001b[1;33m:\u001b[0m\u001b[1;33m\u001b[0m\u001b[1;33m\u001b[0m\u001b[0m\n\u001b[0;32m   3026\u001b[0m                 \u001b[0mindexer\u001b[0m \u001b[1;33m=\u001b[0m \u001b[1;33m[\u001b[0m\u001b[0mindexer\u001b[0m\u001b[1;33m]\u001b[0m\u001b[1;33m\u001b[0m\u001b[1;33m\u001b[0m\u001b[0m\n",
      "\u001b[1;32mD:\\Anaconda\\envs\\XAI\\lib\\site-packages\\pandas\\core\\indexes\\base.py\u001b[0m in \u001b[0;36mget_loc\u001b[1;34m(self, key, method, tolerance)\u001b[0m\n\u001b[0;32m   3080\u001b[0m                 \u001b[1;32mreturn\u001b[0m \u001b[0mself\u001b[0m\u001b[1;33m.\u001b[0m\u001b[0m_engine\u001b[0m\u001b[1;33m.\u001b[0m\u001b[0mget_loc\u001b[0m\u001b[1;33m(\u001b[0m\u001b[0mcasted_key\u001b[0m\u001b[1;33m)\u001b[0m\u001b[1;33m\u001b[0m\u001b[1;33m\u001b[0m\u001b[0m\n\u001b[0;32m   3081\u001b[0m             \u001b[1;32mexcept\u001b[0m \u001b[0mKeyError\u001b[0m \u001b[1;32mas\u001b[0m \u001b[0merr\u001b[0m\u001b[1;33m:\u001b[0m\u001b[1;33m\u001b[0m\u001b[1;33m\u001b[0m\u001b[0m\n\u001b[1;32m-> 3082\u001b[1;33m                 \u001b[1;32mraise\u001b[0m \u001b[0mKeyError\u001b[0m\u001b[1;33m(\u001b[0m\u001b[0mkey\u001b[0m\u001b[1;33m)\u001b[0m \u001b[1;32mfrom\u001b[0m \u001b[0merr\u001b[0m\u001b[1;33m\u001b[0m\u001b[1;33m\u001b[0m\u001b[0m\n\u001b[0m\u001b[0;32m   3083\u001b[0m \u001b[1;33m\u001b[0m\u001b[0m\n\u001b[0;32m   3084\u001b[0m         \u001b[1;32mif\u001b[0m \u001b[0mtolerance\u001b[0m \u001b[1;32mis\u001b[0m \u001b[1;32mnot\u001b[0m \u001b[1;32mNone\u001b[0m\u001b[1;33m:\u001b[0m\u001b[1;33m\u001b[0m\u001b[1;33m\u001b[0m\u001b[0m\n",
      "\u001b[1;31mKeyError\u001b[0m: 0"
     ]
    }
   ],
   "source": [
    "LIME_sorted_true_values_x0 = LIME_true.attributions(shap_choice_x0)\n",
    "LIME_sorted_model_values_x0 = LIME_model.attributions(shap_choice_x0)\n",
    "\n",
    "LIME_sorted_true_values_v0 = LIME_true.attributions(shap_choice_v0)\n",
    "LIME_sorted_model_values_v0 = LIME_model.attributions(shap_choice_v0)\n",
    "\n",
    "LIME_sorted_true_values_t = kernel_true.attributions(shap_choice_t)\n",
    "LIME_sorted_model_values_t = kernel_model.attributions(shap_choice_t)"
   ]
  },
  {
   "cell_type": "code",
   "execution_count": null,
   "id": "1a39ac1f",
   "metadata": {},
   "outputs": [],
   "source": []
  },
  {
   "cell_type": "code",
   "execution_count": null,
   "id": "005044bb",
   "metadata": {},
   "outputs": [],
   "source": [
    "i = 25\n",
    "lime_exp_model = lime_explainer.explain_instance(X_test_scale.iloc[i], model.predict, num_features=3)\n",
    "lime_exp_true = lime_explainer.explain_instance(X_test_scale.iloc[i], true_model.predict, num_features=3)"
   ]
  },
  {
   "cell_type": "code",
   "execution_count": null,
   "id": "fc2ef855",
   "metadata": {},
   "outputs": [],
   "source": [
    "lime_exp_model.show_in_notebook(show_table=True)"
   ]
  },
  {
   "cell_type": "code",
   "execution_count": null,
   "id": "6c0c3e5b",
   "metadata": {},
   "outputs": [],
   "source": [
    "lime_exp_true.show_in_notebook(show_table=True)"
   ]
  },
  {
   "cell_type": "markdown",
   "id": "233de79f",
   "metadata": {},
   "source": [
    "## An Analytic Approach to Explaining Feature Importance\n",
    "\n",
    "In order to evaluate the usefulness of SHAP in explaining feature importance we need to determine what we would expect the explainer to give us.\n",
    "\n",
    "The initial approach to doing this will be to take the gradient in each feature direction (x0,v0,t) at each point.\n",
    "\n",
    "Since we cannot calculate the gradient analytically this will be done numerically.\n",
    "\n",
    "To do so we take a point and calculate how much it shifts based on changing the input parameters:\n",
    "\n",
    "$f(x_0+\\delta,v_0,t) = (x,v),\\quad f(x_0-\\delta,v_0,t) = (x',v')  ,\\quad \\frac{df}{dx_0} = \\frac{|(x',v')-(x,v)|}{\\delta}$"
   ]
  },
  {
   "cell_type": "code",
   "execution_count": null,
   "id": "41cfefb8",
   "metadata": {},
   "outputs": [],
   "source": [
    "def num_grad(f, X, delta=0.01):\n",
    "    \"\"\"\n",
    "        Numerical Gradient Calculation by Perturbing the \n",
    "        Inputs using a Central Finite Difference Method\n",
    "\n",
    "        df/dx0 = |f(x0+delta,v0,t)-f(x0-delta,v0,t)|/(2*delta)\n",
    "\n",
    "        Input\n",
    "        ----------\n",
    "        f : function to differentiate\n",
    "        u : vector of length 2, (x,v)\n",
    "            Position and Velocity at time t\n",
    "        t : float, the time t\n",
    "\n",
    "        Parameters\n",
    "        ----------\n",
    "        delta : float, perturbation\n",
    "\n",
    "        Returns\n",
    "        ----------\n",
    "        [df/dx0,df/dv0] : Tuple, Derivatives of f by \n",
    "                    starting position and velocity\n",
    "\n",
    "    \"\"\"\n",
    "    \n",
    "    x01df = pd.DataFrame(np.array([X['x0']+delta, X['v0'],X['t']]), columns=['x0','v0','t'])\n",
    "    x02df = pd.DataFrame(np.array([X['x0']-delta, X['v0'],X['t']]), columns=['x0','v0','t'])\n",
    "    v01df = pd.DataFrame(np.array([X['x0'], X['v0']+delta,X['t']]), columns=['x0','v0','t'])\n",
    "    v02df = pd.DataFrame(np.array([X['x0'], X['v0']-delta,X['t']]), columns=['x0','v0','t'])\n",
    "    \n",
    "    dx0 = (f(x01df) - f(x02df))/(2*delta)\n",
    "    \n",
    "    dv0 = (f(v01df) - f(v02df))/(2*delta)\n",
    "    \n",
    "    return pd.DataFrame(np.array([dx0, dv0]), columns=['dx0', 'dv0'])"
   ]
  },
  {
   "cell_type": "code",
   "execution_count": null,
   "id": "85e06168",
   "metadata": {},
   "outputs": [],
   "source": [
    "num_grad(true_model.predict, X, delta=0.01)"
   ]
  },
  {
   "cell_type": "code",
   "execution_count": null,
   "id": "b07a8f94",
   "metadata": {},
   "outputs": [],
   "source": []
  },
  {
   "cell_type": "markdown",
   "id": "6d2d9dea",
   "metadata": {},
   "source": [
    "Notes:\n",
    "\n",
    "Plan: \n",
    "    Finish gradient calc\n",
    "    Plots:\n",
    "            xt against x0, t, v0. individually. same for vt\n",
    "            feature importance with x0 ordered etc\n",
    "            "
   ]
  }
 ],
 "metadata": {
  "kernelspec": {
   "display_name": "Python 3",
   "language": "python",
   "name": "python3"
  },
  "language_info": {
   "codemirror_mode": {
    "name": "ipython",
    "version": 3
   },
   "file_extension": ".py",
   "mimetype": "text/x-python",
   "name": "python",
   "nbconvert_exporter": "python",
   "pygments_lexer": "ipython3",
   "version": "3.8.10"
  }
 },
 "nbformat": 4,
 "nbformat_minor": 5
}
