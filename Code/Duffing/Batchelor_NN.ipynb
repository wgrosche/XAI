{
 "cells": [
  {
   "cell_type": "code",
   "execution_count": 1,
   "id": "adult-spectrum",
   "metadata": {},
   "outputs": [],
   "source": [
    "import numpy as np\n",
    "from scipy.integrate import odeint\n",
    "import matplotlib.pylab as plt\n",
    "from tensorflow.keras.models import Sequential\n",
    "from tensorflow.keras import layers\n",
    "from tensorflow.keras.optimizers import RMSprop, Adam\n",
    "import tensorflow as tf\n",
    "\n",
    "from tensorflow.keras.utils import Sequence"
   ]
  },
  {
   "cell_type": "code",
   "execution_count": 2,
   "id": "another-penguin",
   "metadata": {},
   "outputs": [],
   "source": [
    "def eom(u, t, gamma):\n",
    "    alpha=-1\n",
    "    beta=1\n",
    "    delta=0.3\n",
    "    gamma=gamma\n",
    "    omega=1.2\n",
    "    x, dx = u[0], u[1]\n",
    "    ddx= gamma * np.cos(omega * t) - (delta * dx + alpha*x + beta * x**3)\n",
    "    return [dx,ddx]\n",
    "\n",
    "\n",
    "def duff_gen(X, delta_t):\n",
    "    gamma_range = X[:,3]\n",
    "    y = np.empty((len(gamma_range), 2))\n",
    "    for j, gamma in enumerate(gamma_range):\n",
    "        t_range = np.linspace(X[j,2], X[j,2]+delta_t, 1000, endpoint=False)\n",
    "        func = lambda u,t: eom(u, t, gamma)\n",
    "        gamma_data = odeint(func, [X[j,0],X[j,1]], t_range)\n",
    "        y[j,:] = gamma_data[-1,:]\n",
    "            \n",
    "    return y"
   ]
  },
  {
   "cell_type": "code",
   "execution_count": 30,
   "id": "animated-wilson",
   "metadata": {},
   "outputs": [],
   "source": [
    "gamma_range = np.linspace(0,1,20, endpoint=False)\n",
    "t_final = 50\n",
    "delta_t = 0.5\n",
    "num_steps = int(t_final / delta_t)\n",
    "\n",
    "X0 = np.empty((len(gamma_range), 4))\n",
    "\n",
    "\n",
    "for i, gamma in enumerate(gamma_range):\n",
    "     X0[i,:] = [1,0,0,gamma]\n",
    "\n",
    "\n",
    "y0 = duff_gen(X0,delta_t)"
   ]
  },
  {
   "cell_type": "code",
   "execution_count": 31,
   "id": "pleasant-average",
   "metadata": {},
   "outputs": [],
   "source": [
    "\"\"\"\n",
    "So we want a network that takes (xt,vt) at some time t and predicts for (xt+deltat, vt+deltat) for fixed deltat.\n",
    "Then we want to use (xt+deltat, vt+deltat) as the x0 for the next batch. \n",
    "\"\"\"          \n",
    "# set up and train the network\n",
    "input_shape = (np.shape(X0)[1], 1)\n",
    "#opt = RMSprop()\n",
    "opt = Adam(learning_rate=0.001)\n",
    "\n",
    "model = Sequential()\n",
    "#callback = tf.keras.callbacks.EarlyStopping(monitor='loss', patience=3)\n",
    "callback = tf.keras.callbacks.EarlyStopping(monitor='val_loss', patience=3)\n",
    "\n",
    "#model.add(layers.Flatten(input_shape=input_shape))\n",
    "model.add(layers.Flatten())\n",
    "model.add(layers.Dense(32, activation='relu'))\n",
    "#model.add(layers.Dense(32, activation='relu'))\n",
    "#model.add(layers.Dense(32, activation='relu'))\n",
    "#model.add(layers.Dense(32, activation='relu'))\n",
    "\n",
    "model.add(layers.Dense(32, activation='sigmoid'))\n",
    "model.add(layers.Dense(32, activation='tanh'))\n",
    "model.add(layers.Dense(2))\n",
    "model.compile(optimizer=opt, loss='mse')\n",
    "    "
   ]
  },
  {
   "cell_type": "code",
   "execution_count": 32,
   "id": "extensive-blair",
   "metadata": {
    "scrolled": false
   },
   "outputs": [
    {
     "name": "stdout",
     "output_type": "stream",
     "text": [
      "0\n",
      "1\n",
      "WARNING:tensorflow:Your input ran out of data; interrupting training. Make sure that your dataset or generator can generate at least `steps_per_epoch * epochs` batches (in this case, 10 batches). You may need to use the repeat() function when building your dataset.\n",
      "2\n",
      "3\n",
      "4\n",
      "5\n",
      "6\n",
      "7\n",
      "8\n",
      "9\n",
      "10\n",
      "11\n",
      "12\n",
      "13\n",
      "14\n",
      "15\n",
      "16\n",
      "17\n",
      "18\n",
      "19\n",
      "20\n",
      "21\n",
      "22\n",
      "23\n",
      "24\n",
      "25\n",
      "26\n",
      "27\n",
      "28\n",
      "29\n",
      "30\n",
      "31\n",
      "32\n",
      "33\n",
      "34\n",
      "35\n",
      "36\n",
      "37\n",
      "38\n",
      "39\n",
      "40\n",
      "41\n",
      "42\n",
      "43\n",
      "44\n",
      "45\n",
      "46\n",
      "47\n",
      "48\n",
      "49\n",
      "50\n",
      "51\n",
      "52\n",
      "53\n",
      "54\n",
      "55\n",
      "56\n",
      "57\n",
      "58\n",
      "59\n",
      "60\n",
      "61\n",
      "62\n",
      "63\n",
      "64\n",
      "65\n",
      "66\n",
      "67\n",
      "68\n",
      "69\n",
      "70\n",
      "71\n",
      "72\n",
      "73\n",
      "74\n",
      "75\n",
      "76\n",
      "77\n",
      "78\n",
      "79\n",
      "80\n",
      "81\n",
      "82\n",
      "83\n",
      "84\n",
      "85\n",
      "86\n",
      "87\n",
      "88\n",
      "89\n",
      "90\n",
      "91\n",
      "92\n",
      "93\n",
      "94\n",
      "95\n",
      "96\n",
      "97\n",
      "98\n",
      "99\n"
     ]
    }
   ],
   "source": [
    "\"\"\"\n",
    "Network generates its own training data (X values) from the last predicted values. This lets it propagate for an unknown\n",
    "\"\"\"\n",
    "t = 0\n",
    "X = X0\n",
    "y = y0\n",
    "X_test = np.array([[1,0,0,0.37],[1,0,0,0.69]])\n",
    "y_data = y\n",
    "X_data = X\n",
    "X_test_data = X_test\n",
    "gamma_range = gamma_range.reshape(-1,1)\n",
    "initial_range= gamma_range\n",
    "\n",
    "for step in range(num_steps):\n",
    "    print(step)\n",
    "    history=model.fit(X_data, y_data, steps_per_epoch=10, epochs=step, validation_split=0.2, verbose=0)\n",
    "    t = t+delta_t\n",
    "    y = duff_gen(X, delta_t)\n",
    "    y_data = np.vstack((y_data,y))\n",
    "    X = np.hstack((model.predict(X),t*np.ones_like(X[:,1]).reshape((-1,1)),gamma_range))\n",
    "    X_data = np.vstack((X_data,X))\n",
    "    X_test = np.hstack((model.predict(X_test), \n",
    "                        t*np.ones_like(X_test[:,1]).reshape((-1,1)),\n",
    "                        0.37*np.ones_like(X_test[:,1]).reshape((-1,1))))\n",
    "    X_test_data =  np.vstack((X_test_data, X_test))\n",
    "    \n",
    "    \n",
    "    \n",
    "    "
   ]
  },
  {
   "cell_type": "code",
   "execution_count": 33,
   "id": "interstate-prospect",
   "metadata": {},
   "outputs": [
    {
     "data": {
      "image/png": "[encoded data removed]",
      "text/plain": [
       "<Figure size 432x288 with 1 Axes>"
      ]
     },
     "metadata": {
      "needs_background": "light"
     },
     "output_type": "display_data"
    }
   ],
   "source": [
    "# evaluate the fitting validation and training losses\n",
    "loss = history.history['loss']\n",
    "val_loss = history.history['val_loss']\n",
    "epochs = range(1, len(loss) + 1)\n",
    "\n",
    "plt.figure()\n",
    "\n",
    "plt.plot(epochs[1:], loss[1:], 'bo', label='Training loss')\n",
    "plt.plot(epochs[1:], val_loss[1:], 'b', label='Validation loss')\n",
    "plt.title(\"Training and validation loss\")\n",
    "plt.legend()\n",
    "plt.show()"
   ]
  },
  {
   "cell_type": "code",
   "execution_count": 34,
   "id": "other-supervisor",
   "metadata": {},
   "outputs": [
    {
     "data": {
      "text/plain": [
       "array([[-1.60033011,  0.23121645, 50.        ,  0.37      ],\n",
       "       [-1.60033011,  0.23121645, 50.        ,  0.37      ]])"
      ]
     },
     "execution_count": 34,
     "metadata": {},
     "output_type": "execute_result"
    }
   ],
   "source": [
    "X_test"
   ]
  },
  {
   "cell_type": "code",
   "execution_count": 35,
   "id": "excess-detection",
   "metadata": {},
   "outputs": [
    {
     "data": {
      "text/plain": [
       "Text(0, 0.5, 'v')"
      ]
     },
     "execution_count": 35,
     "metadata": {},
     "output_type": "execute_result"
    },
    {
     "data": {
      "image/png": "[encoded data removed]",
      "text/plain": [
       "<Figure size 432x288 with 1 Axes>"
      ]
     },
     "metadata": {
      "needs_background": "light"
     },
     "output_type": "display_data"
    }
   ],
   "source": [
    "#make predictions on the dataset.\n",
    "\n",
    "fig, ax = plt.subplots()\n",
    "#ax.plot(X_test_data[:,0], X_test_data[:,1], 'rx', label=\"y_pred\")\n",
    "ax.plot(y_data[:,0], y_data[:,1], 'rx', label=\"y\")\n",
    "plt.legend()\n",
    "ax.set_xlabel('x')\n",
    "ax.set_ylabel('v')"
   ]
  },
  {
   "cell_type": "code",
   "execution_count": null,
   "id": "preceding-reset",
   "metadata": {},
   "outputs": [],
   "source": [
    "from interpret.ext.blackbox import MimicExplainer\n",
    "\n",
    "# \"features\" and \"classes\" fields are optional\n",
    "# augment_data is optional and if true, oversamples the initialization examples to improve surrogate model accuracy to fit original model.  Useful for high-dimensional data where the number of rows is less than the number of columns. \n",
    "# max_num_of_augmentations is optional and defines max number of times we can increase the input data size.\n",
    "# LGBMExplainableModel can be replaced with LinearExplainableModel, SGDExplainableModel, or DecisionTreeExplainableModel\n",
    "explainer = MimicExplainer(model, \n",
    "                           x_train, \n",
    "                           LGBMExplainableModel, \n",
    "                           augment_data=True, \n",
    "                           max_num_of_augmentations=10, \n",
    "                           features=breast_cancer_data.feature_names, \n",
    "                           classes=classes)"
   ]
  },
  {
   "cell_type": "code",
   "execution_count": null,
   "id": "hourly-minneapolis",
   "metadata": {},
   "outputs": [],
   "source": [
    "# you can use the training data or the test data here\n",
    "global_explanation = explainer.explain_global(x_train)\n",
    "\n",
    "# if you used the PFIExplainer in the previous step, use the next line of code instead\n",
    "# global_explanation = explainer.explain_global(x_train, true_labels=y_test)\n",
    "\n",
    "# sorted feature importance values and feature names\n",
    "sorted_global_importance_values = global_explanation.get_ranked_global_values()\n",
    "sorted_global_importance_names = global_explanation.get_ranked_global_names()\n",
    "\n",
    "\n",
    "# alternatively, you can print out a dictionary that holds the top K feature names and values\n",
    "global_explanation.get_feature_importance_dict()"
   ]
  },
  {
   "cell_type": "code",
   "execution_count": null,
   "id": "twelve-knitting",
   "metadata": {},
   "outputs": [],
   "source": [
    "# explain the first data point in the test set\n",
    "local_explanation = explainer.explain_local(x_test[0])\n",
    "\n",
    "# sorted feature importance values and feature names\n",
    "sorted_local_importance_names = local_explanation.get_ranked_local_names()\n",
    "sorted_local_importance_values = local_explanation.get_ranked_local_values()"
   ]
  },
  {
   "cell_type": "code",
   "execution_count": null,
   "id": "correct-porcelain",
   "metadata": {},
   "outputs": [],
   "source": []
  }
 ],
 "metadata": {
  "kernelspec": {
   "display_name": "Python 3",
   "language": "python",
   "name": "python3"
  },
  "language_info": {
   "codemirror_mode": {
    "name": "ipython",
    "version": 3
   },
   "file_extension": ".py",
   "mimetype": "text/x-python",
   "name": "python",
   "nbconvert_exporter": "python",
   "pygments_lexer": "ipython3",
   "version": "3.8.8"
  }
 },
 "nbformat": 4,
 "nbformat_minor": 5
}
