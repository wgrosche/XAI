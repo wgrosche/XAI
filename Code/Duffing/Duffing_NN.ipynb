{
 "cells": [
  {
   "cell_type": "markdown",
   "id": "biblical-combination",
   "metadata": {},
   "source": [
    "Based on the RNN example provided in Deep Learning with Python by Francois Chollet"
   ]
  },
  {
   "cell_type": "code",
   "execution_count": 3,
   "id": "million-disney",
   "metadata": {},
   "outputs": [],
   "source": [
    "from generator import *\n",
    "import numpy as np"
   ]
  },
  {
   "cell_type": "markdown",
   "id": "weekly-community",
   "metadata": {},
   "source": [
    "Prepare training and test datasets. Uses first 100 datapoints (x,v,t) as X, last datapoint as y"
   ]
  },
  {
   "cell_type": "code",
   "execution_count": 4,
   "id": "american-houston",
   "metadata": {},
   "outputs": [
    {
     "name": "stdout",
     "output_type": "stream",
     "text": [
      "(61, 2)\n",
      "(61,)\n",
      "[0. 0. 0.]\n"
     ]
    }
   ],
   "source": [
    "train_gen = DuffingGenerator(gamma=0.37)\n",
    "train_gen.generate(10, [0,0])\n",
    "\n",
    "print(np.shape(train_gen.u))\n",
    "print(np.shape(train_gen.t))\n",
    "\n",
    "X_dats = (np.hstack((train_gen.u, (train_gen.t).reshape((-1, 1))))[:1,:]).flatten()\n",
    "print(X_dats)"
   ]
  },
  {
   "cell_type": "code",
   "execution_count": 16,
   "id": "contemporary-complexity",
   "metadata": {},
   "outputs": [],
   "source": [
    "def generate_data(gamma, numsamples, time):\n",
    "    train_gen = DuffingGenerator(gamma=gamma)\n",
    "    train_gen.generate(time, [0,0])\n",
    "    X_data = (np.hstack((train_gen.u, (train_gen.t).reshape((-1, 1))))[:10,:]).flatten()\n",
    "    y_data = (np.hstack((train_gen.u, (train_gen.t).reshape((-1, 1))))[-1,:]).flatten()\n",
    "    for i in np.linspace(-1.2,1.2,num=numsamples):\n",
    "        for j in np.linspace(-0.6,0.6,num=numsamples):\n",
    "            train_gen.generate(time, [i,j])\n",
    "            X_data = np.vstack((X_data,(np.hstack((train_gen.u, (train_gen.t).reshape((-1, 1))))[:10,:]).flatten()))\n",
    "            y_data = np.vstack((y_data, (np.hstack((train_gen.u, (train_gen.t).reshape((-1, 1))))[-1,:]).flatten()))\n",
    "    return X_data, y_data  "
   ]
  },
  {
   "cell_type": "code",
   "execution_count": 17,
   "id": "southwest-quarter",
   "metadata": {},
   "outputs": [
    {
     "name": "stderr",
     "output_type": "stream",
     "text": [
      "D:\\Polybox\\SyncFolder\\XAI_Master\\Code\\Own\\Duffing\\generator.py:79: RuntimeWarning: divide by zero encountered in double_scalars\n",
      "  h = h * min( max( 0.84 * ( tol / r )**0.25, 0.1 ), 4.0 )\n"
     ]
    }
   ],
   "source": [
    "X_data, y_data = generate_data(0.37, 500, 10)"
   ]
  },
  {
   "cell_type": "code",
   "execution_count": null,
   "id": "protective-steering",
   "metadata": {},
   "outputs": [],
   "source": []
  },
  {
   "cell_type": "code",
   "execution_count": 18,
   "id": "collect-great",
   "metadata": {},
   "outputs": [],
   "source": [
    "from tensorflow.keras.models import Sequential\n",
    "from tensorflow.keras import layers\n",
    "from tensorflow.keras.optimizers import RMSprop"
   ]
  },
  {
   "cell_type": "code",
   "execution_count": 19,
   "id": "advised-delaware",
   "metadata": {},
   "outputs": [],
   "source": [
    "input_shape = (np.shape(X_data)[1], 1)"
   ]
  },
  {
   "cell_type": "code",
   "execution_count": 20,
   "id": "stylish-liberia",
   "metadata": {},
   "outputs": [
    {
     "name": "stdout",
     "output_type": "stream",
     "text": [
      "Epoch 1/100\n",
      "10/10 [==============================] - 1s 89ms/step - loss: 3.8909 - val_loss: 3.5285\n",
      "Epoch 2/100\n",
      "10/10 [==============================] - 1s 78ms/step - loss: 3.6318 - val_loss: 3.4243\n",
      "Epoch 3/100\n",
      "10/10 [==============================] - 1s 78ms/step - loss: 3.4621 - val_loss: 3.3416\n",
      "Epoch 4/100\n",
      "10/10 [==============================] - 1s 78ms/step - loss: 3.3104 - val_loss: 3.2757\n",
      "Epoch 5/100\n",
      "10/10 [==============================] - 1s 78ms/step - loss: 3.1609 - val_loss: 3.2112\n",
      "Epoch 6/100\n",
      "10/10 [==============================] - 1s 78ms/step - loss: 3.0057 - val_loss: 3.1451\n",
      "Epoch 7/100\n",
      "10/10 [==============================] - 1s 78ms/step - loss: 2.8432 - val_loss: 3.0726\n",
      "Epoch 8/100\n",
      "10/10 [==============================] - 1s 80ms/step - loss: 2.6756 - val_loss: 2.9929\n",
      "Epoch 9/100\n",
      "10/10 [==============================] - 1s 77ms/step - loss: 2.4973 - val_loss: 2.9130\n",
      "Epoch 10/100\n",
      "10/10 [==============================] - 1s 81ms/step - loss: 2.3065 - val_loss: 2.8341\n",
      "Epoch 11/100\n",
      "10/10 [==============================] - 1s 81ms/step - loss: 2.1055 - val_loss: 2.7518\n",
      "Epoch 12/100\n",
      "10/10 [==============================] - 1s 80ms/step - loss: 1.8890 - val_loss: 2.6666\n",
      "Epoch 13/100\n",
      "10/10 [==============================] - 1s 77ms/step - loss: 1.6607 - val_loss: 2.5800\n",
      "Epoch 14/100\n",
      "10/10 [==============================] - 1s 78ms/step - loss: 1.4146 - val_loss: 2.4979\n",
      "Epoch 15/100\n",
      "10/10 [==============================] - 1s 80ms/step - loss: 1.1737 - val_loss: 2.4097\n",
      "Epoch 16/100\n",
      "10/10 [==============================] - 1s 78ms/step - loss: 0.9983 - val_loss: 2.2815\n",
      "Epoch 17/100\n",
      "10/10 [==============================] - 1s 80ms/step - loss: 0.8926 - val_loss: 2.1078\n",
      "Epoch 18/100\n",
      "10/10 [==============================] - 1s 78ms/step - loss: 0.7973 - val_loss: 1.9207\n",
      "Epoch 19/100\n",
      "10/10 [==============================] - 1s 79ms/step - loss: 0.7299 - val_loss: 1.7387\n",
      "Epoch 20/100\n",
      "10/10 [==============================] - 1s 78ms/step - loss: 0.6849 - val_loss: 1.5652\n",
      "Epoch 21/100\n",
      "10/10 [==============================] - 1s 78ms/step - loss: 0.6496 - val_loss: 1.4224\n",
      "Epoch 22/100\n",
      "10/10 [==============================] - 1s 78ms/step - loss: 0.6223 - val_loss: 1.3344\n",
      "Epoch 23/100\n",
      "10/10 [==============================] - 1s 79ms/step - loss: 0.6040 - val_loss: 1.2871\n",
      "Epoch 24/100\n",
      "10/10 [==============================] - 1s 79ms/step - loss: 0.5855 - val_loss: 1.2374\n",
      "Epoch 25/100\n",
      "10/10 [==============================] - 1s 77ms/step - loss: 0.5700 - val_loss: 1.1895\n",
      "Epoch 26/100\n",
      "10/10 [==============================] - 1s 78ms/step - loss: 0.5532 - val_loss: 1.1376\n",
      "Epoch 27/100\n",
      "10/10 [==============================] - 1s 80ms/step - loss: 0.5407 - val_loss: 1.0961\n",
      "Epoch 28/100\n",
      "10/10 [==============================] - 1s 81ms/step - loss: 0.5301 - val_loss: 1.0655\n",
      "Epoch 29/100\n",
      "10/10 [==============================] - 1s 79ms/step - loss: 0.5196 - val_loss: 1.0398\n",
      "Epoch 30/100\n",
      "10/10 [==============================] - 1s 79ms/step - loss: 0.5075 - val_loss: 1.0125\n",
      "Epoch 31/100\n",
      "10/10 [==============================] - 1s 78ms/step - loss: 0.4978 - val_loss: 1.0015\n",
      "Epoch 32/100\n",
      "10/10 [==============================] - 1s 79ms/step - loss: 0.4880 - val_loss: 0.9840\n",
      "Epoch 33/100\n",
      "10/10 [==============================] - 1s 80ms/step - loss: 0.4775 - val_loss: 0.9673\n",
      "Epoch 34/100\n",
      "10/10 [==============================] - 1s 82ms/step - loss: 0.4688 - val_loss: 0.9568\n",
      "Epoch 35/100\n",
      "10/10 [==============================] - 1s 80ms/step - loss: 0.4603 - val_loss: 0.9477\n",
      "Epoch 36/100\n",
      "10/10 [==============================] - 1s 79ms/step - loss: 0.4517 - val_loss: 0.9346\n",
      "Epoch 37/100\n",
      "10/10 [==============================] - 1s 78ms/step - loss: 0.4416 - val_loss: 0.9307\n",
      "Epoch 38/100\n",
      "10/10 [==============================] - 1s 79ms/step - loss: 0.4331 - val_loss: 0.9226\n",
      "Epoch 39/100\n",
      "10/10 [==============================] - 1s 80ms/step - loss: 0.4262 - val_loss: 0.9143\n",
      "Epoch 40/100\n",
      "10/10 [==============================] - 1s 79ms/step - loss: 0.4157 - val_loss: 0.9051\n",
      "Epoch 41/100\n",
      "10/10 [==============================] - 1s 81ms/step - loss: 0.4073 - val_loss: 0.9040\n",
      "Epoch 42/100\n",
      "10/10 [==============================] - 1s 79ms/step - loss: 0.3981 - val_loss: 0.9035\n",
      "Epoch 43/100\n",
      "10/10 [==============================] - 1s 79ms/step - loss: 0.3915 - val_loss: 0.8986\n",
      "Epoch 44/100\n",
      "10/10 [==============================] - 1s 79ms/step - loss: 0.3821 - val_loss: 0.8956\n",
      "Epoch 45/100\n",
      "10/10 [==============================] - 1s 79ms/step - loss: 0.3746 - val_loss: 0.8944\n",
      "Epoch 46/100\n",
      "10/10 [==============================] - 1s 80ms/step - loss: 0.3665 - val_loss: 0.8948\n",
      "Epoch 47/100\n",
      "10/10 [==============================] - 1s 82ms/step - loss: 0.3600 - val_loss: 0.8956\n",
      "Epoch 48/100\n",
      "10/10 [==============================] - 1s 81ms/step - loss: 0.3533 - val_loss: 0.8843\n",
      "Epoch 49/100\n",
      "10/10 [==============================] - 1s 86ms/step - loss: 0.3493 - val_loss: 0.8799\n",
      "Epoch 50/100\n",
      "10/10 [==============================] - 1s 79ms/step - loss: 0.3432 - val_loss: 0.8679\n",
      "Epoch 51/100\n",
      "10/10 [==============================] - 1s 81ms/step - loss: 0.3387 - val_loss: 0.8665\n",
      "Epoch 52/100\n",
      "10/10 [==============================] - 1s 79ms/step - loss: 0.3358 - val_loss: 0.8669\n",
      "Epoch 53/100\n",
      "10/10 [==============================] - 1s 79ms/step - loss: 0.3321 - val_loss: 0.8651\n",
      "Epoch 54/100\n",
      "10/10 [==============================] - 1s 79ms/step - loss: 0.3290 - val_loss: 0.8643\n",
      "Epoch 55/100\n",
      "10/10 [==============================] - 1s 80ms/step - loss: 0.3271 - val_loss: 0.8628\n",
      "Epoch 56/100\n",
      "10/10 [==============================] - 1s 82ms/step - loss: 0.3262 - val_loss: 0.8636\n",
      "Epoch 57/100\n",
      "10/10 [==============================] - 1s 79ms/step - loss: 0.3232 - val_loss: 0.8599\n",
      "Epoch 58/100\n",
      "10/10 [==============================] - 1s 80ms/step - loss: 0.3224 - val_loss: 0.8582\n",
      "Epoch 59/100\n",
      "10/10 [==============================] - 1s 79ms/step - loss: 0.3184 - val_loss: 0.8578\n",
      "Epoch 60/100\n",
      "10/10 [==============================] - 1s 80ms/step - loss: 0.3173 - val_loss: 0.8668\n",
      "Epoch 61/100\n",
      "10/10 [==============================] - 1s 82ms/step - loss: 0.3158 - val_loss: 0.8628\n",
      "Epoch 62/100\n",
      "10/10 [==============================] - 1s 79ms/step - loss: 0.3149 - val_loss: 0.8588\n",
      "Epoch 63/100\n",
      "10/10 [==============================] - 1s 78ms/step - loss: 0.3125 - val_loss: 0.8572\n",
      "Epoch 64/100\n",
      "10/10 [==============================] - 1s 78ms/step - loss: 0.3122 - val_loss: 0.8619\n",
      "Epoch 65/100\n",
      "10/10 [==============================] - 1s 79ms/step - loss: 0.3097 - val_loss: 0.8625\n",
      "Epoch 66/100\n",
      "10/10 [==============================] - 1s 79ms/step - loss: 0.3096 - val_loss: 0.8650\n",
      "Epoch 67/100\n",
      "10/10 [==============================] - 1s 80ms/step - loss: 0.3076 - val_loss: 0.8613\n",
      "Epoch 68/100\n",
      "10/10 [==============================] - 1s 81ms/step - loss: 0.3065 - val_loss: 0.8545\n",
      "Epoch 69/100\n",
      "10/10 [==============================] - 1s 81ms/step - loss: 0.3045 - val_loss: 0.8621\n",
      "Epoch 70/100\n",
      "10/10 [==============================] - 1s 80ms/step - loss: 0.3044 - val_loss: 0.8580\n",
      "Epoch 71/100\n",
      "10/10 [==============================] - 1s 80ms/step - loss: 0.3043 - val_loss: 0.8566\n",
      "Epoch 72/100\n",
      "10/10 [==============================] - 1s 80ms/step - loss: 0.3016 - val_loss: 0.8540\n",
      "Epoch 73/100\n",
      "10/10 [==============================] - 1s 80ms/step - loss: 0.3017 - val_loss: 0.8520\n",
      "Epoch 74/100\n",
      "10/10 [==============================] - 1s 78ms/step - loss: 0.3014 - val_loss: 0.8549\n",
      "Epoch 75/100\n",
      "10/10 [==============================] - 1s 79ms/step - loss: 0.2987 - val_loss: 0.8472\n",
      "Epoch 76/100\n",
      "10/10 [==============================] - 1s 80ms/step - loss: 0.2975 - val_loss: 0.8517\n",
      "Epoch 77/100\n",
      "10/10 [==============================] - 1s 80ms/step - loss: 0.2967 - val_loss: 0.8478\n",
      "Epoch 78/100\n",
      "10/10 [==============================] - 1s 82ms/step - loss: 0.2958 - val_loss: 0.8560\n",
      "Epoch 79/100\n",
      "10/10 [==============================] - 1s 78ms/step - loss: 0.2961 - val_loss: 0.8601\n",
      "Epoch 80/100\n",
      "10/10 [==============================] - 1s 78ms/step - loss: 0.2935 - val_loss: 0.8620\n",
      "Epoch 81/100\n",
      "10/10 [==============================] - 1s 79ms/step - loss: 0.2946 - val_loss: 0.8651\n",
      "Epoch 82/100\n",
      "10/10 [==============================] - 1s 78ms/step - loss: 0.2929 - val_loss: 0.8604\n",
      "Epoch 83/100\n",
      "10/10 [==============================] - 1s 79ms/step - loss: 0.2922 - val_loss: 0.8652\n",
      "Epoch 84/100\n",
      "10/10 [==============================] - 1s 80ms/step - loss: 0.2909 - val_loss: 0.8636\n",
      "Epoch 85/100\n",
      "10/10 [==============================] - 1s 78ms/step - loss: 0.2888 - val_loss: 0.8639\n",
      "Epoch 86/100\n",
      "10/10 [==============================] - 1s 80ms/step - loss: 0.2906 - val_loss: 0.8637\n",
      "Epoch 87/100\n",
      "10/10 [==============================] - 1s 80ms/step - loss: 0.2877 - val_loss: 0.8586\n",
      "Epoch 88/100\n",
      "10/10 [==============================] - 1s 79ms/step - loss: 0.2894 - val_loss: 0.8671\n",
      "Epoch 89/100\n",
      "10/10 [==============================] - 1s 81ms/step - loss: 0.2863 - val_loss: 0.8719\n",
      "Epoch 90/100\n",
      "10/10 [==============================] - 1s 79ms/step - loss: 0.2880 - val_loss: 0.8737\n",
      "Epoch 91/100\n",
      "10/10 [==============================] - 1s 80ms/step - loss: 0.2860 - val_loss: 0.8688\n",
      "Epoch 92/100\n",
      "10/10 [==============================] - 1s 79ms/step - loss: 0.2845 - val_loss: 0.8707\n",
      "Epoch 93/100\n",
      "10/10 [==============================] - 1s 81ms/step - loss: 0.2853 - val_loss: 0.8657\n",
      "Epoch 94/100\n",
      "10/10 [==============================] - 1s 78ms/step - loss: 0.2839 - val_loss: 0.8716\n",
      "Epoch 95/100\n",
      "10/10 [==============================] - 1s 78ms/step - loss: 0.2825 - val_loss: 0.8719\n",
      "Epoch 96/100\n",
      "10/10 [==============================] - 1s 78ms/step - loss: 0.2824 - val_loss: 0.8745\n",
      "Epoch 97/100\n",
      "10/10 [==============================] - 1s 79ms/step - loss: 0.2817 - val_loss: 0.8792\n",
      "Epoch 98/100\n",
      "10/10 [==============================] - 1s 78ms/step - loss: 0.2817 - val_loss: 0.8852\n",
      "Epoch 99/100\n",
      "10/10 [==============================] - 1s 78ms/step - loss: 0.2832 - val_loss: 0.8736\n",
      "Epoch 100/100\n",
      "10/10 [==============================] - 1s 77ms/step - loss: 0.2797 - val_loss: 0.8850\n"
     ]
    }
   ],
   "source": [
    "model = Sequential()\n",
    "model.add(layers.Flatten(input_shape=input_shape))\n",
    "model.add(layers.Dense(30, activation='relu'))\n",
    "model.add(layers.Dense(3))\n",
    "model.compile(optimizer=RMSprop(), loss='mae')\n",
    "\n",
    "history=model.fit(X_data, y_data, steps_per_epoch=10, epochs=100, validation_split=0.3)\n"
   ]
  },
  {
   "cell_type": "markdown",
   "id": "nuclear-qualification",
   "metadata": {},
   "source": [
    "Plotting Results"
   ]
  },
  {
   "cell_type": "code",
   "execution_count": 21,
   "id": "adapted-adult",
   "metadata": {},
   "outputs": [
    {
     "data": {
      "image/png": "[encoded data removed]",
      "text/plain": [
       "<Figure size 432x288 with 1 Axes>"
      ]
     },
     "metadata": {
      "needs_background": "light"
     },
     "output_type": "display_data"
    }
   ],
   "source": [
    "import matplotlib.pyplot as plt\n",
    "\n",
    "loss = history.history['loss']\n",
    "val_loss = history.history['val_loss']\n",
    "epochs = range(1, len(loss) + 1)\n",
    "\n",
    "plt.figure()\n",
    "\n",
    "plt.plot(epochs, loss, 'bo', label='Training loss')\n",
    "plt.plot(epochs, val_loss, 'b', label='Validation loss')\n",
    "plt.title(\"Training and validation loss\")\n",
    "plt.legend()\n",
    "plt.show()"
   ]
  },
  {
   "cell_type": "code",
   "execution_count": 22,
   "id": "proud-allergy",
   "metadata": {},
   "outputs": [
    {
     "data": {
      "text/plain": [
       "[<matplotlib.lines.Line2D at 0x23584f00df0>]"
      ]
     },
     "execution_count": 22,
     "metadata": {},
     "output_type": "execute_result"
    },
    {
     "data": {
      "image/png": "[encoded data removed]",
      "text/plain": [
       "<Figure size 432x288 with 1 Axes>"
      ]
     },
     "metadata": {
      "needs_background": "light"
     },
     "output_type": "display_data"
    }
   ],
   "source": [
    "y_pred = model.predict(X_data)\n",
    "plt.plot(y_pred[:,0], y_pred[:,1], 'x')"
   ]
  },
  {
   "cell_type": "code",
   "execution_count": 23,
   "id": "ranging-width",
   "metadata": {},
   "outputs": [
    {
     "ename": "ValueError",
     "evalue": "cannot reshape array of size 3000 into shape (100,3,1)",
     "output_type": "error",
     "traceback": [
      "\u001b[1;31m---------------------------------------------------------------------------\u001b[0m",
      "\u001b[1;31mValueError\u001b[0m                                Traceback (most recent call last)",
      "\u001b[1;32m<ipython-input-23-6ecc3c46c621>\u001b[0m in \u001b[0;36m<module>\u001b[1;34m\u001b[0m\n\u001b[0;32m      2\u001b[0m \u001b[1;33m\u001b[0m\u001b[0m\n\u001b[0;32m      3\u001b[0m \u001b[1;31m# we use the first 100 training examples as our background dataset to integrate over\u001b[0m\u001b[1;33m\u001b[0m\u001b[1;33m\u001b[0m\u001b[1;33m\u001b[0m\u001b[0m\n\u001b[1;32m----> 4\u001b[1;33m \u001b[0mexplainer\u001b[0m \u001b[1;33m=\u001b[0m \u001b[0mshap\u001b[0m\u001b[1;33m.\u001b[0m\u001b[0mDeepExplainer\u001b[0m\u001b[1;33m(\u001b[0m\u001b[0mmodel\u001b[0m\u001b[1;33m,\u001b[0m \u001b[0mX_data\u001b[0m\u001b[1;33m[\u001b[0m\u001b[1;33m:\u001b[0m\u001b[1;36m100\u001b[0m\u001b[1;33m]\u001b[0m\u001b[1;33m.\u001b[0m\u001b[0mreshape\u001b[0m\u001b[1;33m(\u001b[0m\u001b[1;36m100\u001b[0m\u001b[1;33m,\u001b[0m\u001b[1;36m3\u001b[0m\u001b[1;33m,\u001b[0m\u001b[1;36m1\u001b[0m\u001b[1;33m)\u001b[0m\u001b[1;33m)\u001b[0m\u001b[1;33m\u001b[0m\u001b[1;33m\u001b[0m\u001b[0m\n\u001b[0m\u001b[0;32m      5\u001b[0m \u001b[1;33m\u001b[0m\u001b[0m\n",
      "\u001b[1;31mValueError\u001b[0m: cannot reshape array of size 3000 into shape (100,3,1)"
     ]
    }
   ],
   "source": [
    "import shap\n",
    "\n",
    "# we use the first 100 training examples as our background dataset to integrate over\n",
    "explainer = shap.DeepExplainer(model, X_data[:100].reshape(100,3,1))\n",
    "\n"
   ]
  },
  {
   "cell_type": "code",
   "execution_count": 18,
   "id": "aerial-apple",
   "metadata": {},
   "outputs": [
    {
     "data": {
      "text/plain": [
       "(100, 3, 1)"
      ]
     },
     "execution_count": 18,
     "metadata": {},
     "output_type": "execute_result"
    }
   ],
   "source": [
    "np.shape(X_data[-100:].reshape(100,3,1))"
   ]
  },
  {
   "cell_type": "code",
   "execution_count": 20,
   "id": "preliminary-persian",
   "metadata": {},
   "outputs": [
    {
     "ename": "AttributeError",
     "evalue": "'Partition' object has no attribute 'shap_values'",
     "output_type": "error",
     "traceback": [
      "\u001b[1;31m---------------------------------------------------------------------------\u001b[0m",
      "\u001b[1;31mAttributeError\u001b[0m                            Traceback (most recent call last)",
      "\u001b[1;32m<ipython-input-20-885a9b8d6357>\u001b[0m in \u001b[0;36m<module>\u001b[1;34m\u001b[0m\n\u001b[0;32m      1\u001b[0m \u001b[1;31m# explain the first 10 predictions\u001b[0m\u001b[1;33m\u001b[0m\u001b[1;33m\u001b[0m\u001b[1;33m\u001b[0m\u001b[0m\n\u001b[0;32m      2\u001b[0m \u001b[1;31m# explaining each prediction requires 2 * background dataset size runs\u001b[0m\u001b[1;33m\u001b[0m\u001b[1;33m\u001b[0m\u001b[1;33m\u001b[0m\u001b[0m\n\u001b[1;32m----> 3\u001b[1;33m \u001b[0mshap_values\u001b[0m \u001b[1;33m=\u001b[0m \u001b[0mexplainer\u001b[0m\u001b[1;33m.\u001b[0m\u001b[0mshap_values\u001b[0m\u001b[1;33m(\u001b[0m\u001b[0mX_data\u001b[0m\u001b[1;33m[\u001b[0m\u001b[1;33m-\u001b[0m\u001b[1;36m100\u001b[0m\u001b[1;33m:\u001b[0m\u001b[1;33m]\u001b[0m\u001b[1;33m.\u001b[0m\u001b[0mreshape\u001b[0m\u001b[1;33m(\u001b[0m\u001b[1;36m100\u001b[0m\u001b[1;33m,\u001b[0m\u001b[1;36m3\u001b[0m\u001b[1;33m,\u001b[0m\u001b[1;36m1\u001b[0m\u001b[1;33m)\u001b[0m\u001b[1;33m)\u001b[0m\u001b[1;33m\u001b[0m\u001b[1;33m\u001b[0m\u001b[0m\n\u001b[0m",
      "\u001b[1;31mAttributeError\u001b[0m: 'Partition' object has no attribute 'shap_values'"
     ]
    }
   ],
   "source": [
    "# explain the first 10 predictions\n",
    "# explaining each prediction requires 2 * background dataset size runs\n",
    "shap_values = explainer.shap_values(X_data[-100:].reshape(100,3,1))"
   ]
  },
  {
   "cell_type": "code",
   "execution_count": 17,
   "id": "satellite-reservoir",
   "metadata": {},
   "outputs": [
    {
     "data": {
      "text/plain": [
       "<tf.Tensor: shape=(3,), dtype=float32, numpy=array([-1.9259776 ,  0.92187417, 10.099669  ], dtype=float32)>"
      ]
     },
     "execution_count": 17,
     "metadata": {},
     "output_type": "execute_result"
    }
   ],
   "source": [
    "explainer.expected_value"
   ]
  },
  {
   "cell_type": "code",
   "execution_count": 19,
   "id": "improving-smooth",
   "metadata": {},
   "outputs": [],
   "source": [
    "\n",
    "explainer = shap.explainers.Partition(model, X_data[:100])"
   ]
  },
  {
   "cell_type": "code",
   "execution_count": 21,
   "id": "comprehensive-mountain",
   "metadata": {},
   "outputs": [
    {
     "ename": "TypeError",
     "evalue": "explain_row() missing 6 required keyword-only arguments: 'max_evals', 'main_effects', 'error_bounds', 'batch_size', 'outputs', and 'silent'",
     "output_type": "error",
     "traceback": [
      "\u001b[1;31m---------------------------------------------------------------------------\u001b[0m",
      "\u001b[1;31mTypeError\u001b[0m                                 Traceback (most recent call last)",
      "\u001b[1;32m<ipython-input-21-abfbbaf58e00>\u001b[0m in \u001b[0;36m<module>\u001b[1;34m\u001b[0m\n\u001b[1;32m----> 1\u001b[1;33m \u001b[0mexplainer\u001b[0m\u001b[1;33m.\u001b[0m\u001b[0mexplain_row\u001b[0m\u001b[1;33m(\u001b[0m\u001b[0mX_data\u001b[0m\u001b[1;33m[\u001b[0m\u001b[1;36m101\u001b[0m\u001b[1;33m]\u001b[0m\u001b[1;33m)\u001b[0m\u001b[1;33m\u001b[0m\u001b[1;33m\u001b[0m\u001b[0m\n\u001b[0m",
      "\u001b[1;31mTypeError\u001b[0m: explain_row() missing 6 required keyword-only arguments: 'max_evals', 'main_effects', 'error_bounds', 'batch_size', 'outputs', and 'silent'"
     ]
    }
   ],
   "source": [
    "explainer.explain_row(X_data[101])"
   ]
  },
  {
   "cell_type": "markdown",
   "id": "retired-foundation",
   "metadata": {},
   "source": [
    "Need a generator to use an RNN"
   ]
  },
  {
   "cell_type": "code",
   "execution_count": null,
   "id": "determined-syracuse",
   "metadata": {},
   "outputs": [],
   "source": [
    "def generator(data, lookback, delay, min_index, max_index,\n",
    "              shuffle=False, batch_size=128, step=6):\n",
    "    if max_index is None:\n",
    "        max_index = len(data) - delay - 1\n",
    "    i = min_index + lookback\n",
    "    while 1:\n",
    "        if shuffle:\n",
    "            rows = np.random.randint(\n",
    "                min_index + lookback, max_index, size=batch_size)\n",
    "        else:\n",
    "            if i + batch_size >= max_index:\n",
    "                i = min_index + lookback\n",
    "            rows = np.arange(i, min(i + batch_size, max_index))\n",
    "            i += len(rows)\n",
    "\n",
    "        samples = np.zeros((len(rows),\n",
    "                           lookback // step,\n",
    "                           data.shape[-1]))\n",
    "        targets = np.zeros((len(rows),))\n",
    "        for j, row in enumerate(rows):\n",
    "            indices = range(rows[j] - lookback, rows[j], step)\n",
    "            samples[j] = data[indices]\n",
    "            targets[j] = data[rows[j] + delay][1]\n",
    "        yield samples, targets"
   ]
  },
  {
   "cell_type": "code",
   "execution_count": null,
   "id": "literary-protocol",
   "metadata": {},
   "outputs": [],
   "source": [
    "lookback= 10\n",
    "step =1\n",
    "delay = 100\n",
    "batch_size = 32\n",
    "\n",
    "\n",
    "train_gen = generator()"
   ]
  },
  {
   "cell_type": "code",
   "execution_count": 114,
   "id": "empty-palestine",
   "metadata": {},
   "outputs": [
    {
     "name": "stdout",
     "output_type": "stream",
     "text": [
      "Epoch 1/100\n"
     ]
    },
    {
     "ename": "ValueError",
     "evalue": "in user code:\n\n    D:\\Anaconda\\envs\\Master_Thesis\\lib\\site-packages\\tensorflow\\python\\keras\\engine\\training.py:805 train_function  *\n        return step_function(self, iterator)\n    D:\\Anaconda\\envs\\Master_Thesis\\lib\\site-packages\\tensorflow\\python\\keras\\engine\\training.py:795 step_function  **\n        outputs = model.distribute_strategy.run(run_step, args=(data,))\n    D:\\Anaconda\\envs\\Master_Thesis\\lib\\site-packages\\tensorflow\\python\\distribute\\distribute_lib.py:1259 run\n        return self._extended.call_for_each_replica(fn, args=args, kwargs=kwargs)\n    D:\\Anaconda\\envs\\Master_Thesis\\lib\\site-packages\\tensorflow\\python\\distribute\\distribute_lib.py:2730 call_for_each_replica\n        return self._call_for_each_replica(fn, args, kwargs)\n    D:\\Anaconda\\envs\\Master_Thesis\\lib\\site-packages\\tensorflow\\python\\distribute\\distribute_lib.py:3417 _call_for_each_replica\n        return fn(*args, **kwargs)\n    D:\\Anaconda\\envs\\Master_Thesis\\lib\\site-packages\\tensorflow\\python\\keras\\engine\\training.py:788 run_step  **\n        outputs = model.train_step(data)\n    D:\\Anaconda\\envs\\Master_Thesis\\lib\\site-packages\\tensorflow\\python\\keras\\engine\\training.py:754 train_step\n        y_pred = self(x, training=True)\n    D:\\Anaconda\\envs\\Master_Thesis\\lib\\site-packages\\tensorflow\\python\\keras\\engine\\base_layer.py:998 __call__\n        input_spec.assert_input_compatibility(self.input_spec, inputs, self.name)\n    D:\\Anaconda\\envs\\Master_Thesis\\lib\\site-packages\\tensorflow\\python\\keras\\engine\\input_spec.py:219 assert_input_compatibility\n        raise ValueError('Input ' + str(input_index) + ' of layer ' +\n\n    ValueError: Input 0 of layer sequential_30 is incompatible with the layer: expected ndim=3, found ndim=2. Full shape received: (2800, 30)\n",
     "output_type": "error",
     "traceback": [
      "\u001b[1;31m---------------------------------------------------------------------------\u001b[0m",
      "\u001b[1;31mValueError\u001b[0m                                Traceback (most recent call last)",
      "\u001b[1;32m<ipython-input-114-0cd387078e27>\u001b[0m in \u001b[0;36m<module>\u001b[1;34m\u001b[0m\n\u001b[0;32m      6\u001b[0m \u001b[0mmodel\u001b[0m\u001b[1;33m.\u001b[0m\u001b[0mcompile\u001b[0m\u001b[1;33m(\u001b[0m\u001b[0moptimizer\u001b[0m\u001b[1;33m=\u001b[0m\u001b[0mRMSprop\u001b[0m\u001b[1;33m(\u001b[0m\u001b[1;33m)\u001b[0m\u001b[1;33m,\u001b[0m \u001b[0mloss\u001b[0m\u001b[1;33m=\u001b[0m\u001b[1;34m'mae'\u001b[0m\u001b[1;33m)\u001b[0m\u001b[1;33m\u001b[0m\u001b[1;33m\u001b[0m\u001b[0m\n\u001b[0;32m      7\u001b[0m \u001b[1;33m\u001b[0m\u001b[0m\n\u001b[1;32m----> 8\u001b[1;33m \u001b[0mhistory\u001b[0m\u001b[1;33m=\u001b[0m\u001b[0mmodel\u001b[0m\u001b[1;33m.\u001b[0m\u001b[0mfit\u001b[0m\u001b[1;33m(\u001b[0m\u001b[0mX_data\u001b[0m\u001b[1;33m,\u001b[0m \u001b[0my_data\u001b[0m\u001b[1;33m,\u001b[0m \u001b[0msteps_per_epoch\u001b[0m\u001b[1;33m=\u001b[0m\u001b[1;36m10\u001b[0m\u001b[1;33m,\u001b[0m \u001b[0mepochs\u001b[0m\u001b[1;33m=\u001b[0m\u001b[1;36m100\u001b[0m\u001b[1;33m,\u001b[0m \u001b[0mvalidation_split\u001b[0m\u001b[1;33m=\u001b[0m\u001b[1;36m0.3\u001b[0m\u001b[1;33m)\u001b[0m\u001b[1;33m\u001b[0m\u001b[1;33m\u001b[0m\u001b[0m\n\u001b[0m",
      "\u001b[1;32mD:\\Anaconda\\envs\\Master_Thesis\\lib\\site-packages\\tensorflow\\python\\keras\\engine\\training.py\u001b[0m in \u001b[0;36mfit\u001b[1;34m(self, x, y, batch_size, epochs, verbose, callbacks, validation_split, validation_data, shuffle, class_weight, sample_weight, initial_epoch, steps_per_epoch, validation_steps, validation_batch_size, validation_freq, max_queue_size, workers, use_multiprocessing)\u001b[0m\n\u001b[0;32m   1098\u001b[0m                 _r=1):\n\u001b[0;32m   1099\u001b[0m               \u001b[0mcallbacks\u001b[0m\u001b[1;33m.\u001b[0m\u001b[0mon_train_batch_begin\u001b[0m\u001b[1;33m(\u001b[0m\u001b[0mstep\u001b[0m\u001b[1;33m)\u001b[0m\u001b[1;33m\u001b[0m\u001b[1;33m\u001b[0m\u001b[0m\n\u001b[1;32m-> 1100\u001b[1;33m               \u001b[0mtmp_logs\u001b[0m \u001b[1;33m=\u001b[0m \u001b[0mself\u001b[0m\u001b[1;33m.\u001b[0m\u001b[0mtrain_function\u001b[0m\u001b[1;33m(\u001b[0m\u001b[0miterator\u001b[0m\u001b[1;33m)\u001b[0m\u001b[1;33m\u001b[0m\u001b[1;33m\u001b[0m\u001b[0m\n\u001b[0m\u001b[0;32m   1101\u001b[0m               \u001b[1;32mif\u001b[0m \u001b[0mdata_handler\u001b[0m\u001b[1;33m.\u001b[0m\u001b[0mshould_sync\u001b[0m\u001b[1;33m:\u001b[0m\u001b[1;33m\u001b[0m\u001b[1;33m\u001b[0m\u001b[0m\n\u001b[0;32m   1102\u001b[0m                 \u001b[0mcontext\u001b[0m\u001b[1;33m.\u001b[0m\u001b[0masync_wait\u001b[0m\u001b[1;33m(\u001b[0m\u001b[1;33m)\u001b[0m\u001b[1;33m\u001b[0m\u001b[1;33m\u001b[0m\u001b[0m\n",
      "\u001b[1;32mD:\\Anaconda\\envs\\Master_Thesis\\lib\\site-packages\\tensorflow\\python\\eager\\def_function.py\u001b[0m in \u001b[0;36m__call__\u001b[1;34m(self, *args, **kwds)\u001b[0m\n\u001b[0;32m    826\u001b[0m     \u001b[0mtracing_count\u001b[0m \u001b[1;33m=\u001b[0m \u001b[0mself\u001b[0m\u001b[1;33m.\u001b[0m\u001b[0mexperimental_get_tracing_count\u001b[0m\u001b[1;33m(\u001b[0m\u001b[1;33m)\u001b[0m\u001b[1;33m\u001b[0m\u001b[1;33m\u001b[0m\u001b[0m\n\u001b[0;32m    827\u001b[0m     \u001b[1;32mwith\u001b[0m \u001b[0mtrace\u001b[0m\u001b[1;33m.\u001b[0m\u001b[0mTrace\u001b[0m\u001b[1;33m(\u001b[0m\u001b[0mself\u001b[0m\u001b[1;33m.\u001b[0m\u001b[0m_name\u001b[0m\u001b[1;33m)\u001b[0m \u001b[1;32mas\u001b[0m \u001b[0mtm\u001b[0m\u001b[1;33m:\u001b[0m\u001b[1;33m\u001b[0m\u001b[1;33m\u001b[0m\u001b[0m\n\u001b[1;32m--> 828\u001b[1;33m       \u001b[0mresult\u001b[0m \u001b[1;33m=\u001b[0m \u001b[0mself\u001b[0m\u001b[1;33m.\u001b[0m\u001b[0m_call\u001b[0m\u001b[1;33m(\u001b[0m\u001b[1;33m*\u001b[0m\u001b[0margs\u001b[0m\u001b[1;33m,\u001b[0m \u001b[1;33m**\u001b[0m\u001b[0mkwds\u001b[0m\u001b[1;33m)\u001b[0m\u001b[1;33m\u001b[0m\u001b[1;33m\u001b[0m\u001b[0m\n\u001b[0m\u001b[0;32m    829\u001b[0m       \u001b[0mcompiler\u001b[0m \u001b[1;33m=\u001b[0m \u001b[1;34m\"xla\"\u001b[0m \u001b[1;32mif\u001b[0m \u001b[0mself\u001b[0m\u001b[1;33m.\u001b[0m\u001b[0m_experimental_compile\u001b[0m \u001b[1;32melse\u001b[0m \u001b[1;34m\"nonXla\"\u001b[0m\u001b[1;33m\u001b[0m\u001b[1;33m\u001b[0m\u001b[0m\n\u001b[0;32m    830\u001b[0m       \u001b[0mnew_tracing_count\u001b[0m \u001b[1;33m=\u001b[0m \u001b[0mself\u001b[0m\u001b[1;33m.\u001b[0m\u001b[0mexperimental_get_tracing_count\u001b[0m\u001b[1;33m(\u001b[0m\u001b[1;33m)\u001b[0m\u001b[1;33m\u001b[0m\u001b[1;33m\u001b[0m\u001b[0m\n",
      "\u001b[1;32mD:\\Anaconda\\envs\\Master_Thesis\\lib\\site-packages\\tensorflow\\python\\eager\\def_function.py\u001b[0m in \u001b[0;36m_call\u001b[1;34m(self, *args, **kwds)\u001b[0m\n\u001b[0;32m    869\u001b[0m       \u001b[1;31m# This is the first call of __call__, so we have to initialize.\u001b[0m\u001b[1;33m\u001b[0m\u001b[1;33m\u001b[0m\u001b[1;33m\u001b[0m\u001b[0m\n\u001b[0;32m    870\u001b[0m       \u001b[0minitializers\u001b[0m \u001b[1;33m=\u001b[0m \u001b[1;33m[\u001b[0m\u001b[1;33m]\u001b[0m\u001b[1;33m\u001b[0m\u001b[1;33m\u001b[0m\u001b[0m\n\u001b[1;32m--> 871\u001b[1;33m       \u001b[0mself\u001b[0m\u001b[1;33m.\u001b[0m\u001b[0m_initialize\u001b[0m\u001b[1;33m(\u001b[0m\u001b[0margs\u001b[0m\u001b[1;33m,\u001b[0m \u001b[0mkwds\u001b[0m\u001b[1;33m,\u001b[0m \u001b[0madd_initializers_to\u001b[0m\u001b[1;33m=\u001b[0m\u001b[0minitializers\u001b[0m\u001b[1;33m)\u001b[0m\u001b[1;33m\u001b[0m\u001b[1;33m\u001b[0m\u001b[0m\n\u001b[0m\u001b[0;32m    872\u001b[0m     \u001b[1;32mfinally\u001b[0m\u001b[1;33m:\u001b[0m\u001b[1;33m\u001b[0m\u001b[1;33m\u001b[0m\u001b[0m\n\u001b[0;32m    873\u001b[0m       \u001b[1;31m# At this point we know that the initialization is complete (or less\u001b[0m\u001b[1;33m\u001b[0m\u001b[1;33m\u001b[0m\u001b[1;33m\u001b[0m\u001b[0m\n",
      "\u001b[1;32mD:\\Anaconda\\envs\\Master_Thesis\\lib\\site-packages\\tensorflow\\python\\eager\\def_function.py\u001b[0m in \u001b[0;36m_initialize\u001b[1;34m(self, args, kwds, add_initializers_to)\u001b[0m\n\u001b[0;32m    723\u001b[0m     \u001b[0mself\u001b[0m\u001b[1;33m.\u001b[0m\u001b[0m_graph_deleter\u001b[0m \u001b[1;33m=\u001b[0m \u001b[0mFunctionDeleter\u001b[0m\u001b[1;33m(\u001b[0m\u001b[0mself\u001b[0m\u001b[1;33m.\u001b[0m\u001b[0m_lifted_initializer_graph\u001b[0m\u001b[1;33m)\u001b[0m\u001b[1;33m\u001b[0m\u001b[1;33m\u001b[0m\u001b[0m\n\u001b[0;32m    724\u001b[0m     self._concrete_stateful_fn = (\n\u001b[1;32m--> 725\u001b[1;33m         self._stateful_fn._get_concrete_function_internal_garbage_collected(  # pylint: disable=protected-access\n\u001b[0m\u001b[0;32m    726\u001b[0m             *args, **kwds))\n\u001b[0;32m    727\u001b[0m \u001b[1;33m\u001b[0m\u001b[0m\n",
      "\u001b[1;32mD:\\Anaconda\\envs\\Master_Thesis\\lib\\site-packages\\tensorflow\\python\\eager\\function.py\u001b[0m in \u001b[0;36m_get_concrete_function_internal_garbage_collected\u001b[1;34m(self, *args, **kwargs)\u001b[0m\n\u001b[0;32m   2967\u001b[0m       \u001b[0margs\u001b[0m\u001b[1;33m,\u001b[0m \u001b[0mkwargs\u001b[0m \u001b[1;33m=\u001b[0m \u001b[1;32mNone\u001b[0m\u001b[1;33m,\u001b[0m \u001b[1;32mNone\u001b[0m\u001b[1;33m\u001b[0m\u001b[1;33m\u001b[0m\u001b[0m\n\u001b[0;32m   2968\u001b[0m     \u001b[1;32mwith\u001b[0m \u001b[0mself\u001b[0m\u001b[1;33m.\u001b[0m\u001b[0m_lock\u001b[0m\u001b[1;33m:\u001b[0m\u001b[1;33m\u001b[0m\u001b[1;33m\u001b[0m\u001b[0m\n\u001b[1;32m-> 2969\u001b[1;33m       \u001b[0mgraph_function\u001b[0m\u001b[1;33m,\u001b[0m \u001b[0m_\u001b[0m \u001b[1;33m=\u001b[0m \u001b[0mself\u001b[0m\u001b[1;33m.\u001b[0m\u001b[0m_maybe_define_function\u001b[0m\u001b[1;33m(\u001b[0m\u001b[0margs\u001b[0m\u001b[1;33m,\u001b[0m \u001b[0mkwargs\u001b[0m\u001b[1;33m)\u001b[0m\u001b[1;33m\u001b[0m\u001b[1;33m\u001b[0m\u001b[0m\n\u001b[0m\u001b[0;32m   2970\u001b[0m     \u001b[1;32mreturn\u001b[0m \u001b[0mgraph_function\u001b[0m\u001b[1;33m\u001b[0m\u001b[1;33m\u001b[0m\u001b[0m\n\u001b[0;32m   2971\u001b[0m \u001b[1;33m\u001b[0m\u001b[0m\n",
      "\u001b[1;32mD:\\Anaconda\\envs\\Master_Thesis\\lib\\site-packages\\tensorflow\\python\\eager\\function.py\u001b[0m in \u001b[0;36m_maybe_define_function\u001b[1;34m(self, args, kwargs)\u001b[0m\n\u001b[0;32m   3359\u001b[0m \u001b[1;33m\u001b[0m\u001b[0m\n\u001b[0;32m   3360\u001b[0m           \u001b[0mself\u001b[0m\u001b[1;33m.\u001b[0m\u001b[0m_function_cache\u001b[0m\u001b[1;33m.\u001b[0m\u001b[0mmissed\u001b[0m\u001b[1;33m.\u001b[0m\u001b[0madd\u001b[0m\u001b[1;33m(\u001b[0m\u001b[0mcall_context_key\u001b[0m\u001b[1;33m)\u001b[0m\u001b[1;33m\u001b[0m\u001b[1;33m\u001b[0m\u001b[0m\n\u001b[1;32m-> 3361\u001b[1;33m           \u001b[0mgraph_function\u001b[0m \u001b[1;33m=\u001b[0m \u001b[0mself\u001b[0m\u001b[1;33m.\u001b[0m\u001b[0m_create_graph_function\u001b[0m\u001b[1;33m(\u001b[0m\u001b[0margs\u001b[0m\u001b[1;33m,\u001b[0m \u001b[0mkwargs\u001b[0m\u001b[1;33m)\u001b[0m\u001b[1;33m\u001b[0m\u001b[1;33m\u001b[0m\u001b[0m\n\u001b[0m\u001b[0;32m   3362\u001b[0m           \u001b[0mself\u001b[0m\u001b[1;33m.\u001b[0m\u001b[0m_function_cache\u001b[0m\u001b[1;33m.\u001b[0m\u001b[0mprimary\u001b[0m\u001b[1;33m[\u001b[0m\u001b[0mcache_key\u001b[0m\u001b[1;33m]\u001b[0m \u001b[1;33m=\u001b[0m \u001b[0mgraph_function\u001b[0m\u001b[1;33m\u001b[0m\u001b[1;33m\u001b[0m\u001b[0m\n\u001b[0;32m   3363\u001b[0m \u001b[1;33m\u001b[0m\u001b[0m\n",
      "\u001b[1;32mD:\\Anaconda\\envs\\Master_Thesis\\lib\\site-packages\\tensorflow\\python\\eager\\function.py\u001b[0m in \u001b[0;36m_create_graph_function\u001b[1;34m(self, args, kwargs, override_flat_arg_shapes)\u001b[0m\n\u001b[0;32m   3194\u001b[0m     \u001b[0marg_names\u001b[0m \u001b[1;33m=\u001b[0m \u001b[0mbase_arg_names\u001b[0m \u001b[1;33m+\u001b[0m \u001b[0mmissing_arg_names\u001b[0m\u001b[1;33m\u001b[0m\u001b[1;33m\u001b[0m\u001b[0m\n\u001b[0;32m   3195\u001b[0m     graph_function = ConcreteFunction(\n\u001b[1;32m-> 3196\u001b[1;33m         func_graph_module.func_graph_from_py_func(\n\u001b[0m\u001b[0;32m   3197\u001b[0m             \u001b[0mself\u001b[0m\u001b[1;33m.\u001b[0m\u001b[0m_name\u001b[0m\u001b[1;33m,\u001b[0m\u001b[1;33m\u001b[0m\u001b[1;33m\u001b[0m\u001b[0m\n\u001b[0;32m   3198\u001b[0m             \u001b[0mself\u001b[0m\u001b[1;33m.\u001b[0m\u001b[0m_python_function\u001b[0m\u001b[1;33m,\u001b[0m\u001b[1;33m\u001b[0m\u001b[1;33m\u001b[0m\u001b[0m\n",
      "\u001b[1;32mD:\\Anaconda\\envs\\Master_Thesis\\lib\\site-packages\\tensorflow\\python\\framework\\func_graph.py\u001b[0m in \u001b[0;36mfunc_graph_from_py_func\u001b[1;34m(name, python_func, args, kwargs, signature, func_graph, autograph, autograph_options, add_control_dependencies, arg_names, op_return_value, collections, capture_by_value, override_flat_arg_shapes)\u001b[0m\n\u001b[0;32m    988\u001b[0m         \u001b[0m_\u001b[0m\u001b[1;33m,\u001b[0m \u001b[0moriginal_func\u001b[0m \u001b[1;33m=\u001b[0m \u001b[0mtf_decorator\u001b[0m\u001b[1;33m.\u001b[0m\u001b[0munwrap\u001b[0m\u001b[1;33m(\u001b[0m\u001b[0mpython_func\u001b[0m\u001b[1;33m)\u001b[0m\u001b[1;33m\u001b[0m\u001b[1;33m\u001b[0m\u001b[0m\n\u001b[0;32m    989\u001b[0m \u001b[1;33m\u001b[0m\u001b[0m\n\u001b[1;32m--> 990\u001b[1;33m       \u001b[0mfunc_outputs\u001b[0m \u001b[1;33m=\u001b[0m \u001b[0mpython_func\u001b[0m\u001b[1;33m(\u001b[0m\u001b[1;33m*\u001b[0m\u001b[0mfunc_args\u001b[0m\u001b[1;33m,\u001b[0m \u001b[1;33m**\u001b[0m\u001b[0mfunc_kwargs\u001b[0m\u001b[1;33m)\u001b[0m\u001b[1;33m\u001b[0m\u001b[1;33m\u001b[0m\u001b[0m\n\u001b[0m\u001b[0;32m    991\u001b[0m \u001b[1;33m\u001b[0m\u001b[0m\n\u001b[0;32m    992\u001b[0m       \u001b[1;31m# invariant: `func_outputs` contains only Tensors, CompositeTensors,\u001b[0m\u001b[1;33m\u001b[0m\u001b[1;33m\u001b[0m\u001b[1;33m\u001b[0m\u001b[0m\n",
      "\u001b[1;32mD:\\Anaconda\\envs\\Master_Thesis\\lib\\site-packages\\tensorflow\\python\\eager\\def_function.py\u001b[0m in \u001b[0;36mwrapped_fn\u001b[1;34m(*args, **kwds)\u001b[0m\n\u001b[0;32m    632\u001b[0m             \u001b[0mxla_context\u001b[0m\u001b[1;33m.\u001b[0m\u001b[0mExit\u001b[0m\u001b[1;33m(\u001b[0m\u001b[1;33m)\u001b[0m\u001b[1;33m\u001b[0m\u001b[1;33m\u001b[0m\u001b[0m\n\u001b[0;32m    633\u001b[0m         \u001b[1;32melse\u001b[0m\u001b[1;33m:\u001b[0m\u001b[1;33m\u001b[0m\u001b[1;33m\u001b[0m\u001b[0m\n\u001b[1;32m--> 634\u001b[1;33m           \u001b[0mout\u001b[0m \u001b[1;33m=\u001b[0m \u001b[0mweak_wrapped_fn\u001b[0m\u001b[1;33m(\u001b[0m\u001b[1;33m)\u001b[0m\u001b[1;33m.\u001b[0m\u001b[0m__wrapped__\u001b[0m\u001b[1;33m(\u001b[0m\u001b[1;33m*\u001b[0m\u001b[0margs\u001b[0m\u001b[1;33m,\u001b[0m \u001b[1;33m**\u001b[0m\u001b[0mkwds\u001b[0m\u001b[1;33m)\u001b[0m\u001b[1;33m\u001b[0m\u001b[1;33m\u001b[0m\u001b[0m\n\u001b[0m\u001b[0;32m    635\u001b[0m         \u001b[1;32mreturn\u001b[0m \u001b[0mout\u001b[0m\u001b[1;33m\u001b[0m\u001b[1;33m\u001b[0m\u001b[0m\n\u001b[0;32m    636\u001b[0m \u001b[1;33m\u001b[0m\u001b[0m\n",
      "\u001b[1;32mD:\\Anaconda\\envs\\Master_Thesis\\lib\\site-packages\\tensorflow\\python\\framework\\func_graph.py\u001b[0m in \u001b[0;36mwrapper\u001b[1;34m(*args, **kwargs)\u001b[0m\n\u001b[0;32m    975\u001b[0m           \u001b[1;32mexcept\u001b[0m \u001b[0mException\u001b[0m \u001b[1;32mas\u001b[0m \u001b[0me\u001b[0m\u001b[1;33m:\u001b[0m  \u001b[1;31m# pylint:disable=broad-except\u001b[0m\u001b[1;33m\u001b[0m\u001b[1;33m\u001b[0m\u001b[0m\n\u001b[0;32m    976\u001b[0m             \u001b[1;32mif\u001b[0m \u001b[0mhasattr\u001b[0m\u001b[1;33m(\u001b[0m\u001b[0me\u001b[0m\u001b[1;33m,\u001b[0m \u001b[1;34m\"ag_error_metadata\"\u001b[0m\u001b[1;33m)\u001b[0m\u001b[1;33m:\u001b[0m\u001b[1;33m\u001b[0m\u001b[1;33m\u001b[0m\u001b[0m\n\u001b[1;32m--> 977\u001b[1;33m               \u001b[1;32mraise\u001b[0m \u001b[0me\u001b[0m\u001b[1;33m.\u001b[0m\u001b[0mag_error_metadata\u001b[0m\u001b[1;33m.\u001b[0m\u001b[0mto_exception\u001b[0m\u001b[1;33m(\u001b[0m\u001b[0me\u001b[0m\u001b[1;33m)\u001b[0m\u001b[1;33m\u001b[0m\u001b[1;33m\u001b[0m\u001b[0m\n\u001b[0m\u001b[0;32m    978\u001b[0m             \u001b[1;32melse\u001b[0m\u001b[1;33m:\u001b[0m\u001b[1;33m\u001b[0m\u001b[1;33m\u001b[0m\u001b[0m\n\u001b[0;32m    979\u001b[0m               \u001b[1;32mraise\u001b[0m\u001b[1;33m\u001b[0m\u001b[1;33m\u001b[0m\u001b[0m\n",
      "\u001b[1;31mValueError\u001b[0m: in user code:\n\n    D:\\Anaconda\\envs\\Master_Thesis\\lib\\site-packages\\tensorflow\\python\\keras\\engine\\training.py:805 train_function  *\n        return step_function(self, iterator)\n    D:\\Anaconda\\envs\\Master_Thesis\\lib\\site-packages\\tensorflow\\python\\keras\\engine\\training.py:795 step_function  **\n        outputs = model.distribute_strategy.run(run_step, args=(data,))\n    D:\\Anaconda\\envs\\Master_Thesis\\lib\\site-packages\\tensorflow\\python\\distribute\\distribute_lib.py:1259 run\n        return self._extended.call_for_each_replica(fn, args=args, kwargs=kwargs)\n    D:\\Anaconda\\envs\\Master_Thesis\\lib\\site-packages\\tensorflow\\python\\distribute\\distribute_lib.py:2730 call_for_each_replica\n        return self._call_for_each_replica(fn, args, kwargs)\n    D:\\Anaconda\\envs\\Master_Thesis\\lib\\site-packages\\tensorflow\\python\\distribute\\distribute_lib.py:3417 _call_for_each_replica\n        return fn(*args, **kwargs)\n    D:\\Anaconda\\envs\\Master_Thesis\\lib\\site-packages\\tensorflow\\python\\keras\\engine\\training.py:788 run_step  **\n        outputs = model.train_step(data)\n    D:\\Anaconda\\envs\\Master_Thesis\\lib\\site-packages\\tensorflow\\python\\keras\\engine\\training.py:754 train_step\n        y_pred = self(x, training=True)\n    D:\\Anaconda\\envs\\Master_Thesis\\lib\\site-packages\\tensorflow\\python\\keras\\engine\\base_layer.py:998 __call__\n        input_spec.assert_input_compatibility(self.input_spec, inputs, self.name)\n    D:\\Anaconda\\envs\\Master_Thesis\\lib\\site-packages\\tensorflow\\python\\keras\\engine\\input_spec.py:219 assert_input_compatibility\n        raise ValueError('Input ' + str(input_index) + ' of layer ' +\n\n    ValueError: Input 0 of layer sequential_30 is incompatible with the layer: expected ndim=3, found ndim=2. Full shape received: (2800, 30)\n"
     ]
    }
   ],
   "source": [
    "input_shape = (None, X_data.shape[-1])\n",
    "model = Sequential()\n",
    "model.add(layers.GRU(32, input_shape=input_shape))\n",
    "#model.add(layers.Dense(30, activation='relu'))\n",
    "#model.add(layers.Dense(3))\n",
    "model.compile(optimizer=RMSprop(), loss='mae')\n",
    "\n",
    "history=model.fit(X_data, y_data, steps_per_epoch=10, epochs=100, validation_split=0.3)"
   ]
  },
  {
   "cell_type": "code",
   "execution_count": 101,
   "id": "final-earth",
   "metadata": {},
   "outputs": [
    {
     "data": {
      "text/plain": [
       "30"
      ]
     },
     "execution_count": 101,
     "metadata": {},
     "output_type": "execute_result"
    }
   ],
   "source": [
    "X_data.shape[-1]"
   ]
  },
  {
   "cell_type": "code",
   "execution_count": null,
   "id": "listed-daughter",
   "metadata": {},
   "outputs": [],
   "source": []
  }
 ],
 "metadata": {
  "kernelspec": {
   "display_name": "Python 3",
   "language": "python",
   "name": "python3"
  },
  "language_info": {
   "codemirror_mode": {
    "name": "ipython",
    "version": 3
   },
   "file_extension": ".py",
   "mimetype": "text/x-python",
   "name": "python",
   "nbconvert_exporter": "python",
   "pygments_lexer": "ipython3",
   "version": "3.8.8"
  }
 },
 "nbformat": 4,
 "nbformat_minor": 5
}
